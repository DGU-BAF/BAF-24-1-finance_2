{
 "cells": [
  {
   "cell_type": "markdown",
   "metadata": {},
   "source": [
    "# 라이브러리 불러오기"
   ]
  },
  {
   "cell_type": "code",
   "execution_count": 1,
   "metadata": {},
   "outputs": [],
   "source": [
    "import os\n",
    "import pandas as pd\n",
    "import numpy as np\n",
    "import matplotlib.pyplot as plt\n",
    "import seaborn as sns\n",
    "import geopandas as gpd\n",
    "\n",
    "%config InlineBackend.figure_format = 'retina'  #선명하게 만들기"
   ]
  },
  {
   "cell_type": "code",
   "execution_count": 2,
   "metadata": {},
   "outputs": [],
   "source": [
    "# Warning 메세지를 뜨지 않게 해줌\n",
    "import warnings\n",
    "warnings.filterwarnings('ignore')"
   ]
  },
  {
   "cell_type": "code",
   "execution_count": 3,
   "metadata": {},
   "outputs": [],
   "source": [
    "# Window의 한글 폰트 설정\n",
    "plt.rc('font', family='Malgun Gothic')\n",
    "plt.rc('axes', unicode_minus=False)"
   ]
  },
  {
   "cell_type": "markdown",
   "metadata": {},
   "source": [
    "# 데이터 불러오기\n",
    "- EDA 및 전처리가 완료된 df_final3.csv 데이터 불러옴."
   ]
  },
  {
   "cell_type": "code",
   "execution_count": 4,
   "metadata": {},
   "outputs": [],
   "source": [
    "data = pd.read_csv('df_final3.csv')\n",
    "df = data.copy() #원본 데이터"
   ]
  },
  {
   "cell_type": "code",
   "execution_count": 5,
   "metadata": {},
   "outputs": [
    {
     "name": "stdout",
     "output_type": "stream",
     "text": [
      "(864747, 44)\n"
     ]
    },
    {
     "data": {
      "text/html": [
       "<div>\n",
       "<style scoped>\n",
       "    .dataframe tbody tr th:only-of-type {\n",
       "        vertical-align: middle;\n",
       "    }\n",
       "\n",
       "    .dataframe tbody tr th {\n",
       "        vertical-align: top;\n",
       "    }\n",
       "\n",
       "    .dataframe thead th {\n",
       "        text-align: right;\n",
       "    }\n",
       "</style>\n",
       "<table border=\"1\" class=\"dataframe\">\n",
       "  <thead>\n",
       "    <tr style=\"text-align: right;\">\n",
       "      <th></th>\n",
       "      <th>LoanNr_ChkDgt</th>\n",
       "      <th>Name</th>\n",
       "      <th>City</th>\n",
       "      <th>State</th>\n",
       "      <th>Zip</th>\n",
       "      <th>Bank</th>\n",
       "      <th>BankState</th>\n",
       "      <th>NAICS</th>\n",
       "      <th>ApprovalDate</th>\n",
       "      <th>ApprovalFY</th>\n",
       "      <th>...</th>\n",
       "      <th>Year</th>\n",
       "      <th>Month</th>\n",
       "      <th>DATE</th>\n",
       "      <th>DPRIME</th>\n",
       "      <th>dprime2</th>\n",
       "      <th>Density</th>\n",
       "      <th>Upper_Threshold</th>\n",
       "      <th>Lower_Threshold</th>\n",
       "      <th>Label</th>\n",
       "      <th>growth_potential</th>\n",
       "    </tr>\n",
       "  </thead>\n",
       "  <tbody>\n",
       "    <tr>\n",
       "      <th>0</th>\n",
       "      <td>1000014003</td>\n",
       "      <td>ABC HOBBYCRAFT</td>\n",
       "      <td>EVANSVILLE</td>\n",
       "      <td>IN</td>\n",
       "      <td>47711</td>\n",
       "      <td>FIFTH THIRD BANK</td>\n",
       "      <td>OH</td>\n",
       "      <td>17</td>\n",
       "      <td>1997-02-28</td>\n",
       "      <td>1997</td>\n",
       "      <td>...</td>\n",
       "      <td>1999</td>\n",
       "      <td>2</td>\n",
       "      <td>1999-02-01</td>\n",
       "      <td>7.75</td>\n",
       "      <td>0</td>\n",
       "      <td>0.172105</td>\n",
       "      <td>0.118196</td>\n",
       "      <td>0.055178</td>\n",
       "      <td>1</td>\n",
       "      <td>1</td>\n",
       "    </tr>\n",
       "    <tr>\n",
       "      <th>1</th>\n",
       "      <td>1000935004</td>\n",
       "      <td>Hairline Inc.</td>\n",
       "      <td>Vancouver</td>\n",
       "      <td>WA</td>\n",
       "      <td>98663</td>\n",
       "      <td>WELLS FARGO BANK NATL ASSOC</td>\n",
       "      <td>SD</td>\n",
       "      <td>14</td>\n",
       "      <td>1997-04-08</td>\n",
       "      <td>1997</td>\n",
       "      <td>...</td>\n",
       "      <td>1999</td>\n",
       "      <td>2</td>\n",
       "      <td>1999-02-01</td>\n",
       "      <td>7.75</td>\n",
       "      <td>0</td>\n",
       "      <td>0.090095</td>\n",
       "      <td>0.134566</td>\n",
       "      <td>0.055910</td>\n",
       "      <td>3</td>\n",
       "      <td>2</td>\n",
       "    </tr>\n",
       "    <tr>\n",
       "      <th>2</th>\n",
       "      <td>1003535008</td>\n",
       "      <td>Jason A. Philbrook</td>\n",
       "      <td>Rockland</td>\n",
       "      <td>ME</td>\n",
       "      <td>4841</td>\n",
       "      <td>KEYBANK NATIONAL ASSOCIATION</td>\n",
       "      <td>OH</td>\n",
       "      <td>18</td>\n",
       "      <td>1999-01-11</td>\n",
       "      <td>1999</td>\n",
       "      <td>...</td>\n",
       "      <td>1999</td>\n",
       "      <td>2</td>\n",
       "      <td>1999-02-01</td>\n",
       "      <td>7.75</td>\n",
       "      <td>0</td>\n",
       "      <td>0.041237</td>\n",
       "      <td>0.213874</td>\n",
       "      <td>0.051896</td>\n",
       "      <td>5</td>\n",
       "      <td>2</td>\n",
       "    </tr>\n",
       "    <tr>\n",
       "      <th>3</th>\n",
       "      <td>1009994000</td>\n",
       "      <td>ARROW ENTERPRISE, INC.</td>\n",
       "      <td>BILLINGS</td>\n",
       "      <td>MT</td>\n",
       "      <td>59101</td>\n",
       "      <td>WESTERN SECURITY BANK</td>\n",
       "      <td>MT</td>\n",
       "      <td>5</td>\n",
       "      <td>1997-03-04</td>\n",
       "      <td>1997</td>\n",
       "      <td>...</td>\n",
       "      <td>1999</td>\n",
       "      <td>2</td>\n",
       "      <td>1999-02-01</td>\n",
       "      <td>7.75</td>\n",
       "      <td>0</td>\n",
       "      <td>0.148380</td>\n",
       "      <td>0.209033</td>\n",
       "      <td>0.057460</td>\n",
       "      <td>3</td>\n",
       "      <td>1</td>\n",
       "    </tr>\n",
       "    <tr>\n",
       "      <th>4</th>\n",
       "      <td>1011904005</td>\n",
       "      <td>ROBIN E. JONES, D.D.S.</td>\n",
       "      <td>TACOMA</td>\n",
       "      <td>WA</td>\n",
       "      <td>98404</td>\n",
       "      <td>KEYBANK NATIONAL ASSOCIATION</td>\n",
       "      <td>OR</td>\n",
       "      <td>8</td>\n",
       "      <td>1997-03-05</td>\n",
       "      <td>1997</td>\n",
       "      <td>...</td>\n",
       "      <td>1999</td>\n",
       "      <td>2</td>\n",
       "      <td>1999-02-01</td>\n",
       "      <td>7.75</td>\n",
       "      <td>0</td>\n",
       "      <td>0.094218</td>\n",
       "      <td>0.134566</td>\n",
       "      <td>0.055910</td>\n",
       "      <td>3</td>\n",
       "      <td>2</td>\n",
       "    </tr>\n",
       "  </tbody>\n",
       "</table>\n",
       "<p>5 rows × 44 columns</p>\n",
       "</div>"
      ],
      "text/plain": [
       "   LoanNr_ChkDgt                    Name        City State    Zip  \\\n",
       "0     1000014003          ABC HOBBYCRAFT  EVANSVILLE    IN  47711   \n",
       "1     1000935004           Hairline Inc.   Vancouver    WA  98663   \n",
       "2     1003535008      Jason A. Philbrook    Rockland    ME   4841   \n",
       "3     1009994000  ARROW ENTERPRISE, INC.    BILLINGS    MT  59101   \n",
       "4     1011904005  ROBIN E. JONES, D.D.S.      TACOMA    WA  98404   \n",
       "\n",
       "                           Bank BankState  NAICS ApprovalDate  ApprovalFY  \\\n",
       "0              FIFTH THIRD BANK        OH     17   1997-02-28        1997   \n",
       "1   WELLS FARGO BANK NATL ASSOC        SD     14   1997-04-08        1997   \n",
       "2  KEYBANK NATIONAL ASSOCIATION        OH     18   1999-01-11        1999   \n",
       "3         WESTERN SECURITY BANK        MT      5   1997-03-04        1997   \n",
       "4  KEYBANK NATIONAL ASSOCIATION        OR      8   1997-03-05        1997   \n",
       "\n",
       "   ...  Year  Month        DATE  DPRIME  dprime2   Density  Upper_Threshold  \\\n",
       "0  ...  1999      2  1999-02-01    7.75        0  0.172105         0.118196   \n",
       "1  ...  1999      2  1999-02-01    7.75        0  0.090095         0.134566   \n",
       "2  ...  1999      2  1999-02-01    7.75        0  0.041237         0.213874   \n",
       "3  ...  1999      2  1999-02-01    7.75        0  0.148380         0.209033   \n",
       "4  ...  1999      2  1999-02-01    7.75        0  0.094218         0.134566   \n",
       "\n",
       "   Lower_Threshold Label growth_potential  \n",
       "0         0.055178     1                1  \n",
       "1         0.055910     3                2  \n",
       "2         0.051896     5                2  \n",
       "3         0.057460     3                1  \n",
       "4         0.055910     3                2  \n",
       "\n",
       "[5 rows x 44 columns]"
      ]
     },
     "metadata": {},
     "output_type": "display_data"
    },
    {
     "data": {
      "text/html": [
       "<div>\n",
       "<style scoped>\n",
       "    .dataframe tbody tr th:only-of-type {\n",
       "        vertical-align: middle;\n",
       "    }\n",
       "\n",
       "    .dataframe tbody tr th {\n",
       "        vertical-align: top;\n",
       "    }\n",
       "\n",
       "    .dataframe thead th {\n",
       "        text-align: right;\n",
       "    }\n",
       "</style>\n",
       "<table border=\"1\" class=\"dataframe\">\n",
       "  <thead>\n",
       "    <tr style=\"text-align: right;\">\n",
       "      <th></th>\n",
       "      <th>LoanNr_ChkDgt</th>\n",
       "      <th>Name</th>\n",
       "      <th>City</th>\n",
       "      <th>State</th>\n",
       "      <th>Zip</th>\n",
       "      <th>Bank</th>\n",
       "      <th>BankState</th>\n",
       "      <th>NAICS</th>\n",
       "      <th>ApprovalDate</th>\n",
       "      <th>ApprovalFY</th>\n",
       "      <th>...</th>\n",
       "      <th>Year</th>\n",
       "      <th>Month</th>\n",
       "      <th>DATE</th>\n",
       "      <th>DPRIME</th>\n",
       "      <th>dprime2</th>\n",
       "      <th>Density</th>\n",
       "      <th>Upper_Threshold</th>\n",
       "      <th>Lower_Threshold</th>\n",
       "      <th>Label</th>\n",
       "      <th>growth_potential</th>\n",
       "    </tr>\n",
       "  </thead>\n",
       "  <tbody>\n",
       "    <tr>\n",
       "      <th>864742</th>\n",
       "      <td>9022713002</td>\n",
       "      <td>BJORK, LAURA BEAUTY CONSULTANT</td>\n",
       "      <td>DALE CITY</td>\n",
       "      <td>VA</td>\n",
       "      <td>22193</td>\n",
       "      <td>MANUFACTURERS &amp; TRADERS TR CO</td>\n",
       "      <td>MD</td>\n",
       "      <td>1</td>\n",
       "      <td>1996-02-21</td>\n",
       "      <td>1996</td>\n",
       "      <td>...</td>\n",
       "      <td>1996</td>\n",
       "      <td>2</td>\n",
       "      <td>1996-02-01</td>\n",
       "      <td>8.25</td>\n",
       "      <td>0</td>\n",
       "      <td>0.104331</td>\n",
       "      <td>0.139452</td>\n",
       "      <td>0.056099</td>\n",
       "      <td>3</td>\n",
       "      <td>1</td>\n",
       "    </tr>\n",
       "    <tr>\n",
       "      <th>864743</th>\n",
       "      <td>9035193000</td>\n",
       "      <td>PROFESSIONALS FOR NONPROFITS,I</td>\n",
       "      <td>NEW YORK</td>\n",
       "      <td>NY</td>\n",
       "      <td>10022</td>\n",
       "      <td>BANCO POPULAR NORTH AMERICA</td>\n",
       "      <td>NY</td>\n",
       "      <td>10</td>\n",
       "      <td>1996-02-26</td>\n",
       "      <td>1996</td>\n",
       "      <td>...</td>\n",
       "      <td>1996</td>\n",
       "      <td>2</td>\n",
       "      <td>1996-02-01</td>\n",
       "      <td>8.25</td>\n",
       "      <td>0</td>\n",
       "      <td>0.094630</td>\n",
       "      <td>0.103363</td>\n",
       "      <td>0.066158</td>\n",
       "      <td>3</td>\n",
       "      <td>1</td>\n",
       "    </tr>\n",
       "    <tr>\n",
       "      <th>864744</th>\n",
       "      <td>9256453010</td>\n",
       "      <td>NORTHAIRE MARKET INC</td>\n",
       "      <td>SHAKOPEE</td>\n",
       "      <td>MN</td>\n",
       "      <td>55379</td>\n",
       "      <td>FIDELITY BANK</td>\n",
       "      <td>MN</td>\n",
       "      <td>20</td>\n",
       "      <td>1996-05-07</td>\n",
       "      <td>1996</td>\n",
       "      <td>...</td>\n",
       "      <td>1996</td>\n",
       "      <td>2</td>\n",
       "      <td>1996-02-01</td>\n",
       "      <td>8.25</td>\n",
       "      <td>0</td>\n",
       "      <td>0.066200</td>\n",
       "      <td>0.133574</td>\n",
       "      <td>0.063179</td>\n",
       "      <td>3</td>\n",
       "      <td>2</td>\n",
       "    </tr>\n",
       "    <tr>\n",
       "      <th>864745</th>\n",
       "      <td>9459933001</td>\n",
       "      <td>COMPUTER RENAISSANCE</td>\n",
       "      <td>CARY</td>\n",
       "      <td>NC</td>\n",
       "      <td>27511</td>\n",
       "      <td>FIRST-CITIZENS BK &amp; TR CO</td>\n",
       "      <td>NC</td>\n",
       "      <td>17</td>\n",
       "      <td>1996-08-15</td>\n",
       "      <td>1996</td>\n",
       "      <td>...</td>\n",
       "      <td>1996</td>\n",
       "      <td>2</td>\n",
       "      <td>1996-02-01</td>\n",
       "      <td>8.25</td>\n",
       "      <td>0</td>\n",
       "      <td>0.187560</td>\n",
       "      <td>0.111641</td>\n",
       "      <td>0.060808</td>\n",
       "      <td>1</td>\n",
       "      <td>1</td>\n",
       "    </tr>\n",
       "    <tr>\n",
       "      <th>864746</th>\n",
       "      <td>7377094002</td>\n",
       "      <td>NORTHLAND DATACOMM CO</td>\n",
       "      <td>MINNEAPOLIS</td>\n",
       "      <td>MN</td>\n",
       "      <td>55311</td>\n",
       "      <td>BMO HARRIS BK NATL ASSOC</td>\n",
       "      <td>IL</td>\n",
       "      <td>20</td>\n",
       "      <td>2004-04-22</td>\n",
       "      <td>2004</td>\n",
       "      <td>...</td>\n",
       "      <td>2014</td>\n",
       "      <td>12</td>\n",
       "      <td>2014-12-01</td>\n",
       "      <td>3.25</td>\n",
       "      <td>0</td>\n",
       "      <td>0.066200</td>\n",
       "      <td>0.133574</td>\n",
       "      <td>0.063179</td>\n",
       "      <td>3</td>\n",
       "      <td>2</td>\n",
       "    </tr>\n",
       "  </tbody>\n",
       "</table>\n",
       "<p>5 rows × 44 columns</p>\n",
       "</div>"
      ],
      "text/plain": [
       "        LoanNr_ChkDgt                            Name         City State  \\\n",
       "864742     9022713002  BJORK, LAURA BEAUTY CONSULTANT    DALE CITY    VA   \n",
       "864743     9035193000  PROFESSIONALS FOR NONPROFITS,I     NEW YORK    NY   \n",
       "864744     9256453010            NORTHAIRE MARKET INC     SHAKOPEE    MN   \n",
       "864745     9459933001            COMPUTER RENAISSANCE         CARY    NC   \n",
       "864746     7377094002           NORTHLAND DATACOMM CO  MINNEAPOLIS    MN   \n",
       "\n",
       "          Zip                           Bank BankState  NAICS ApprovalDate  \\\n",
       "864742  22193  MANUFACTURERS & TRADERS TR CO        MD      1   1996-02-21   \n",
       "864743  10022    BANCO POPULAR NORTH AMERICA        NY     10   1996-02-26   \n",
       "864744  55379                  FIDELITY BANK        MN     20   1996-05-07   \n",
       "864745  27511      FIRST-CITIZENS BK & TR CO        NC     17   1996-08-15   \n",
       "864746  55311       BMO HARRIS BK NATL ASSOC        IL     20   2004-04-22   \n",
       "\n",
       "        ApprovalFY  ...  Year  Month        DATE  DPRIME  dprime2   Density  \\\n",
       "864742        1996  ...  1996      2  1996-02-01    8.25        0  0.104331   \n",
       "864743        1996  ...  1996      2  1996-02-01    8.25        0  0.094630   \n",
       "864744        1996  ...  1996      2  1996-02-01    8.25        0  0.066200   \n",
       "864745        1996  ...  1996      2  1996-02-01    8.25        0  0.187560   \n",
       "864746        2004  ...  2014     12  2014-12-01    3.25        0  0.066200   \n",
       "\n",
       "        Upper_Threshold  Lower_Threshold Label growth_potential  \n",
       "864742         0.139452         0.056099     3                1  \n",
       "864743         0.103363         0.066158     3                1  \n",
       "864744         0.133574         0.063179     3                2  \n",
       "864745         0.111641         0.060808     1                1  \n",
       "864746         0.133574         0.063179     3                2  \n",
       "\n",
       "[5 rows x 44 columns]"
      ]
     },
     "metadata": {},
     "output_type": "display_data"
    },
    {
     "name": "stdout",
     "output_type": "stream",
     "text": [
      "<class 'pandas.core.frame.DataFrame'>\n",
      "RangeIndex: 864747 entries, 0 to 864746\n",
      "Data columns (total 44 columns):\n",
      " #   Column             Non-Null Count   Dtype  \n",
      "---  ------             --------------   -----  \n",
      " 0   LoanNr_ChkDgt      864747 non-null  int64  \n",
      " 1   Name               864747 non-null  object \n",
      " 2   City               864747 non-null  object \n",
      " 3   State              864747 non-null  object \n",
      " 4   Zip                864747 non-null  int64  \n",
      " 5   Bank               864747 non-null  object \n",
      " 6   BankState          864747 non-null  object \n",
      " 7   NAICS              864747 non-null  int64  \n",
      " 8   ApprovalDate       864747 non-null  object \n",
      " 9   ApprovalFY         864747 non-null  int64  \n",
      " 10  Term               864747 non-null  int64  \n",
      " 11  NoEmp              864747 non-null  int64  \n",
      " 12  NewExist           864747 non-null  int64  \n",
      " 13  CreateJob          864747 non-null  int64  \n",
      " 14  RetainedJob        864747 non-null  int64  \n",
      " 15  FranchiseCode      864747 non-null  int64  \n",
      " 16  UrbanRural         864747 non-null  int64  \n",
      " 17  LowDoc             864747 non-null  int64  \n",
      " 18  ChgOffDate         148743 non-null  object \n",
      " 19  DisbursementDate   864747 non-null  object \n",
      " 20  DisbursementGross  864747 non-null  int64  \n",
      " 21  MIS_Status         864747 non-null  int64  \n",
      " 22  ChgOffPrinGr       864747 non-null  int64  \n",
      " 23  GrAppv             864747 non-null  int64  \n",
      " 24  SBA_Appv           864747 non-null  int64  \n",
      " 25  SameState          864747 non-null  int64  \n",
      " 26  Recession          864747 non-null  int64  \n",
      " 27  ChgOffDate2        864747 non-null  object \n",
      " 28  Term_re            864747 non-null  int64  \n",
      " 29  smallmedium        864747 non-null  int64  \n",
      " 30  createjob2         864747 non-null  int64  \n",
      " 31  retainedjob2       864747 non-null  int64  \n",
      " 32  dis_re             864747 non-null  int64  \n",
      " 33  appv_pct           864747 non-null  float64\n",
      " 34  Year               864747 non-null  int64  \n",
      " 35  Month              864747 non-null  int64  \n",
      " 36  DATE               864747 non-null  object \n",
      " 37  DPRIME             864747 non-null  float64\n",
      " 38  dprime2            864747 non-null  int64  \n",
      " 39  Density            864747 non-null  float64\n",
      " 40  Upper_Threshold    864747 non-null  float64\n",
      " 41  Lower_Threshold    864747 non-null  float64\n",
      " 42  Label              864747 non-null  int64  \n",
      " 43  growth_potential   864747 non-null  int64  \n",
      "dtypes: float64(5), int64(29), object(10)\n",
      "memory usage: 290.3+ MB\n",
      "None\n"
     ]
    }
   ],
   "source": [
    "print(df.shape)\n",
    "display(df.head())\n",
    "display(df.tail())\n",
    "print(df.info())"
   ]
  },
  {
   "cell_type": "markdown",
   "metadata": {},
   "source": [
    "# EDA\n",
    "- 데이터 구조 확인\n",
    "- 중복된 행 여부 확인\n",
    "- 기술통계량 확인\n",
    "- 결측치 확인\n",
    "- 이상치 확인\n",
    "- 상관계수 확인\n",
    "- 변수별로 분포 확인"
   ]
  },
  {
   "cell_type": "markdown",
   "metadata": {},
   "source": [
    "채무불이행 집단(MIS_Status == 1)만 가지고 EDA 진행한다."
   ]
  },
  {
   "cell_type": "markdown",
   "metadata": {},
   "source": [
    "## 1. 데이터 구조 확인"
   ]
  },
  {
   "cell_type": "code",
   "execution_count": 9,
   "metadata": {},
   "outputs": [
    {
     "name": "stdout",
     "output_type": "stream",
     "text": [
      "(148720, 44)\n"
     ]
    },
    {
     "data": {
      "text/html": [
       "<div>\n",
       "<style scoped>\n",
       "    .dataframe tbody tr th:only-of-type {\n",
       "        vertical-align: middle;\n",
       "    }\n",
       "\n",
       "    .dataframe tbody tr th {\n",
       "        vertical-align: top;\n",
       "    }\n",
       "\n",
       "    .dataframe thead th {\n",
       "        text-align: right;\n",
       "    }\n",
       "</style>\n",
       "<table border=\"1\" class=\"dataframe\">\n",
       "  <thead>\n",
       "    <tr style=\"text-align: right;\">\n",
       "      <th></th>\n",
       "      <th>LoanNr_ChkDgt</th>\n",
       "      <th>Name</th>\n",
       "      <th>City</th>\n",
       "      <th>State</th>\n",
       "      <th>Zip</th>\n",
       "      <th>Bank</th>\n",
       "      <th>BankState</th>\n",
       "      <th>NAICS</th>\n",
       "      <th>ApprovalDate</th>\n",
       "      <th>ApprovalFY</th>\n",
       "      <th>...</th>\n",
       "      <th>Year</th>\n",
       "      <th>Month</th>\n",
       "      <th>DATE</th>\n",
       "      <th>DPRIME</th>\n",
       "      <th>dprime2</th>\n",
       "      <th>Density</th>\n",
       "      <th>Upper_Threshold</th>\n",
       "      <th>Lower_Threshold</th>\n",
       "      <th>Label</th>\n",
       "      <th>growth_potential</th>\n",
       "    </tr>\n",
       "  </thead>\n",
       "  <tbody>\n",
       "    <tr>\n",
       "      <th>12</th>\n",
       "      <td>1052224009</td>\n",
       "      <td>FAMILY CARPET CLEANING</td>\n",
       "      <td>NEW CASTLE</td>\n",
       "      <td>DE</td>\n",
       "      <td>19720</td>\n",
       "      <td>PNC BANK, NATIONAL ASSOCIATION</td>\n",
       "      <td>DE</td>\n",
       "      <td>2</td>\n",
       "      <td>1997-03-20</td>\n",
       "      <td>1997</td>\n",
       "      <td>...</td>\n",
       "      <td>1999</td>\n",
       "      <td>2</td>\n",
       "      <td>1999-02-01</td>\n",
       "      <td>7.75</td>\n",
       "      <td>0</td>\n",
       "      <td>0.080798</td>\n",
       "      <td>0.202947</td>\n",
       "      <td>0.073669</td>\n",
       "      <td>3</td>\n",
       "      <td>2</td>\n",
       "    </tr>\n",
       "    <tr>\n",
       "      <th>55</th>\n",
       "      <td>1343924007</td>\n",
       "      <td>CONTRACT CONNECTIONS INDUSTRIE</td>\n",
       "      <td>HATBORO</td>\n",
       "      <td>PA</td>\n",
       "      <td>19040</td>\n",
       "      <td>PNC BANK, NATIONAL ASSOCIATION</td>\n",
       "      <td>DE</td>\n",
       "      <td>1</td>\n",
       "      <td>1997-06-12</td>\n",
       "      <td>1997</td>\n",
       "      <td>...</td>\n",
       "      <td>1999</td>\n",
       "      <td>2</td>\n",
       "      <td>1999-02-01</td>\n",
       "      <td>7.75</td>\n",
       "      <td>0</td>\n",
       "      <td>0.114305</td>\n",
       "      <td>0.114305</td>\n",
       "      <td>0.051954</td>\n",
       "      <td>3</td>\n",
       "      <td>1</td>\n",
       "    </tr>\n",
       "    <tr>\n",
       "      <th>76</th>\n",
       "      <td>1409054010</td>\n",
       "      <td>PRECISION TUNE AUTO SERVICE CE</td>\n",
       "      <td>JACKSONVILLE</td>\n",
       "      <td>FL</td>\n",
       "      <td>32208</td>\n",
       "      <td>REGIONS BANK</td>\n",
       "      <td>FL</td>\n",
       "      <td>13</td>\n",
       "      <td>1997-07-11</td>\n",
       "      <td>1997</td>\n",
       "      <td>...</td>\n",
       "      <td>1999</td>\n",
       "      <td>2</td>\n",
       "      <td>1999-02-01</td>\n",
       "      <td>7.75</td>\n",
       "      <td>0</td>\n",
       "      <td>0.097000</td>\n",
       "      <td>0.104862</td>\n",
       "      <td>0.071389</td>\n",
       "      <td>3</td>\n",
       "      <td>2</td>\n",
       "    </tr>\n",
       "    <tr>\n",
       "      <th>157</th>\n",
       "      <td>1621534009</td>\n",
       "      <td>JOSIES RESTAURANT</td>\n",
       "      <td>HARTSVILLE</td>\n",
       "      <td>SC</td>\n",
       "      <td>29550</td>\n",
       "      <td>WELLS FARGO BANK NATL ASSOC</td>\n",
       "      <td>NC</td>\n",
       "      <td>14</td>\n",
       "      <td>1997-10-16</td>\n",
       "      <td>1998</td>\n",
       "      <td>...</td>\n",
       "      <td>1999</td>\n",
       "      <td>2</td>\n",
       "      <td>1999-02-01</td>\n",
       "      <td>7.75</td>\n",
       "      <td>0</td>\n",
       "      <td>0.089667</td>\n",
       "      <td>0.204418</td>\n",
       "      <td>0.062336</td>\n",
       "      <td>3</td>\n",
       "      <td>2</td>\n",
       "    </tr>\n",
       "    <tr>\n",
       "      <th>183</th>\n",
       "      <td>1682194007</td>\n",
       "      <td>STEPHEN &amp; ASSOCIATES BUILDERS,</td>\n",
       "      <td>OKLAHOMA CITY</td>\n",
       "      <td>OK</td>\n",
       "      <td>73116</td>\n",
       "      <td>BANK OF OKLAHOMA A DIVISION OF</td>\n",
       "      <td>OK</td>\n",
       "      <td>2</td>\n",
       "      <td>1997-11-17</td>\n",
       "      <td>1998</td>\n",
       "      <td>...</td>\n",
       "      <td>1999</td>\n",
       "      <td>2</td>\n",
       "      <td>1999-02-01</td>\n",
       "      <td>7.75</td>\n",
       "      <td>0</td>\n",
       "      <td>0.040217</td>\n",
       "      <td>0.109475</td>\n",
       "      <td>0.063408</td>\n",
       "      <td>5</td>\n",
       "      <td>2</td>\n",
       "    </tr>\n",
       "  </tbody>\n",
       "</table>\n",
       "<p>5 rows × 44 columns</p>\n",
       "</div>"
      ],
      "text/plain": [
       "     LoanNr_ChkDgt                            Name           City State  \\\n",
       "12      1052224009          FAMILY CARPET CLEANING     NEW CASTLE    DE   \n",
       "55      1343924007  CONTRACT CONNECTIONS INDUSTRIE        HATBORO    PA   \n",
       "76      1409054010  PRECISION TUNE AUTO SERVICE CE   JACKSONVILLE    FL   \n",
       "157     1621534009               JOSIES RESTAURANT     HARTSVILLE    SC   \n",
       "183     1682194007  STEPHEN & ASSOCIATES BUILDERS,  OKLAHOMA CITY    OK   \n",
       "\n",
       "       Zip                            Bank BankState  NAICS ApprovalDate  \\\n",
       "12   19720  PNC BANK, NATIONAL ASSOCIATION        DE      2   1997-03-20   \n",
       "55   19040  PNC BANK, NATIONAL ASSOCIATION        DE      1   1997-06-12   \n",
       "76   32208                    REGIONS BANK        FL     13   1997-07-11   \n",
       "157  29550     WELLS FARGO BANK NATL ASSOC        NC     14   1997-10-16   \n",
       "183  73116  BANK OF OKLAHOMA A DIVISION OF        OK      2   1997-11-17   \n",
       "\n",
       "     ApprovalFY  ...  Year  Month        DATE  DPRIME  dprime2   Density  \\\n",
       "12         1997  ...  1999      2  1999-02-01    7.75        0  0.080798   \n",
       "55         1997  ...  1999      2  1999-02-01    7.75        0  0.114305   \n",
       "76         1997  ...  1999      2  1999-02-01    7.75        0  0.097000   \n",
       "157        1998  ...  1999      2  1999-02-01    7.75        0  0.089667   \n",
       "183        1998  ...  1999      2  1999-02-01    7.75        0  0.040217   \n",
       "\n",
       "     Upper_Threshold  Lower_Threshold Label growth_potential  \n",
       "12          0.202947         0.073669     3                2  \n",
       "55          0.114305         0.051954     3                1  \n",
       "76          0.104862         0.071389     3                2  \n",
       "157         0.204418         0.062336     3                2  \n",
       "183         0.109475         0.063408     5                2  \n",
       "\n",
       "[5 rows x 44 columns]"
      ]
     },
     "metadata": {},
     "output_type": "display_data"
    },
    {
     "data": {
      "text/html": [
       "<div>\n",
       "<style scoped>\n",
       "    .dataframe tbody tr th:only-of-type {\n",
       "        vertical-align: middle;\n",
       "    }\n",
       "\n",
       "    .dataframe tbody tr th {\n",
       "        vertical-align: top;\n",
       "    }\n",
       "\n",
       "    .dataframe thead th {\n",
       "        text-align: right;\n",
       "    }\n",
       "</style>\n",
       "<table border=\"1\" class=\"dataframe\">\n",
       "  <thead>\n",
       "    <tr style=\"text-align: right;\">\n",
       "      <th></th>\n",
       "      <th>LoanNr_ChkDgt</th>\n",
       "      <th>Name</th>\n",
       "      <th>City</th>\n",
       "      <th>State</th>\n",
       "      <th>Zip</th>\n",
       "      <th>Bank</th>\n",
       "      <th>BankState</th>\n",
       "      <th>NAICS</th>\n",
       "      <th>ApprovalDate</th>\n",
       "      <th>ApprovalFY</th>\n",
       "      <th>...</th>\n",
       "      <th>Year</th>\n",
       "      <th>Month</th>\n",
       "      <th>DATE</th>\n",
       "      <th>DPRIME</th>\n",
       "      <th>dprime2</th>\n",
       "      <th>Density</th>\n",
       "      <th>Upper_Threshold</th>\n",
       "      <th>Lower_Threshold</th>\n",
       "      <th>Label</th>\n",
       "      <th>growth_potential</th>\n",
       "    </tr>\n",
       "  </thead>\n",
       "  <tbody>\n",
       "    <tr>\n",
       "      <th>864639</th>\n",
       "      <td>8622813007</td>\n",
       "      <td>D &amp; C CLEANERS, INC.</td>\n",
       "      <td>BOROUGH PARK</td>\n",
       "      <td>NY</td>\n",
       "      <td>11219</td>\n",
       "      <td>TD BANK, NATIONAL ASSOCIATION</td>\n",
       "      <td>DE</td>\n",
       "      <td>13</td>\n",
       "      <td>1995-08-29</td>\n",
       "      <td>1995</td>\n",
       "      <td>...</td>\n",
       "      <td>1996</td>\n",
       "      <td>2</td>\n",
       "      <td>1996-02-01</td>\n",
       "      <td>8.25</td>\n",
       "      <td>0</td>\n",
       "      <td>0.103363</td>\n",
       "      <td>0.103363</td>\n",
       "      <td>0.066158</td>\n",
       "      <td>3</td>\n",
       "      <td>2</td>\n",
       "    </tr>\n",
       "    <tr>\n",
       "      <th>864648</th>\n",
       "      <td>8706353008</td>\n",
       "      <td>THE PRINTING PROFESSIONALS,INC</td>\n",
       "      <td>CRANBURY</td>\n",
       "      <td>NJ</td>\n",
       "      <td>8534</td>\n",
       "      <td>WELLS FARGO BANK NATL ASSOC</td>\n",
       "      <td>SD</td>\n",
       "      <td>17</td>\n",
       "      <td>1995-10-16</td>\n",
       "      <td>1996</td>\n",
       "      <td>...</td>\n",
       "      <td>1996</td>\n",
       "      <td>2</td>\n",
       "      <td>1996-02-01</td>\n",
       "      <td>8.25</td>\n",
       "      <td>0</td>\n",
       "      <td>0.194471</td>\n",
       "      <td>0.137851</td>\n",
       "      <td>0.067772</td>\n",
       "      <td>1</td>\n",
       "      <td>1</td>\n",
       "    </tr>\n",
       "    <tr>\n",
       "      <th>864696</th>\n",
       "      <td>8922133006</td>\n",
       "      <td>DAD'S INC.</td>\n",
       "      <td>SALT LAKE CITY</td>\n",
       "      <td>UT</td>\n",
       "      <td>84115</td>\n",
       "      <td>BANK OF THE WEST</td>\n",
       "      <td>UT</td>\n",
       "      <td>5</td>\n",
       "      <td>1996-01-11</td>\n",
       "      <td>1996</td>\n",
       "      <td>...</td>\n",
       "      <td>1996</td>\n",
       "      <td>2</td>\n",
       "      <td>1996-02-01</td>\n",
       "      <td>8.25</td>\n",
       "      <td>0</td>\n",
       "      <td>0.142576</td>\n",
       "      <td>0.141974</td>\n",
       "      <td>0.052139</td>\n",
       "      <td>1</td>\n",
       "      <td>1</td>\n",
       "    </tr>\n",
       "    <tr>\n",
       "      <th>864699</th>\n",
       "      <td>8925423005</td>\n",
       "      <td>GLOBAL DRUGS, INC.</td>\n",
       "      <td>BRONX</td>\n",
       "      <td>NY</td>\n",
       "      <td>10457</td>\n",
       "      <td>HSBC BK USA NATL ASSOC</td>\n",
       "      <td>VA</td>\n",
       "      <td>17</td>\n",
       "      <td>1996-01-12</td>\n",
       "      <td>1996</td>\n",
       "      <td>...</td>\n",
       "      <td>1996</td>\n",
       "      <td>2</td>\n",
       "      <td>1996-02-01</td>\n",
       "      <td>8.25</td>\n",
       "      <td>0</td>\n",
       "      <td>0.192212</td>\n",
       "      <td>0.103363</td>\n",
       "      <td>0.066158</td>\n",
       "      <td>1</td>\n",
       "      <td>1</td>\n",
       "    </tr>\n",
       "    <tr>\n",
       "      <th>864702</th>\n",
       "      <td>8934663009</td>\n",
       "      <td>DAEDALUS RESEARCH, INC.</td>\n",
       "      <td>NORTH LOGAN</td>\n",
       "      <td>UT</td>\n",
       "      <td>84323</td>\n",
       "      <td>CACHE VALLEY BANK</td>\n",
       "      <td>UT</td>\n",
       "      <td>10</td>\n",
       "      <td>1996-01-16</td>\n",
       "      <td>1996</td>\n",
       "      <td>...</td>\n",
       "      <td>1996</td>\n",
       "      <td>2</td>\n",
       "      <td>1996-02-01</td>\n",
       "      <td>8.25</td>\n",
       "      <td>0</td>\n",
       "      <td>0.114728</td>\n",
       "      <td>0.141974</td>\n",
       "      <td>0.052139</td>\n",
       "      <td>3</td>\n",
       "      <td>1</td>\n",
       "    </tr>\n",
       "  </tbody>\n",
       "</table>\n",
       "<p>5 rows × 44 columns</p>\n",
       "</div>"
      ],
      "text/plain": [
       "        LoanNr_ChkDgt                            Name            City State  \\\n",
       "864639     8622813007            D & C CLEANERS, INC.    BOROUGH PARK    NY   \n",
       "864648     8706353008  THE PRINTING PROFESSIONALS,INC        CRANBURY    NJ   \n",
       "864696     8922133006                      DAD'S INC.  SALT LAKE CITY    UT   \n",
       "864699     8925423005              GLOBAL DRUGS, INC.           BRONX    NY   \n",
       "864702     8934663009         DAEDALUS RESEARCH, INC.     NORTH LOGAN    UT   \n",
       "\n",
       "          Zip                           Bank BankState  NAICS ApprovalDate  \\\n",
       "864639  11219  TD BANK, NATIONAL ASSOCIATION        DE     13   1995-08-29   \n",
       "864648   8534    WELLS FARGO BANK NATL ASSOC        SD     17   1995-10-16   \n",
       "864696  84115               BANK OF THE WEST        UT      5   1996-01-11   \n",
       "864699  10457         HSBC BK USA NATL ASSOC        VA     17   1996-01-12   \n",
       "864702  84323              CACHE VALLEY BANK        UT     10   1996-01-16   \n",
       "\n",
       "        ApprovalFY  ...  Year  Month        DATE  DPRIME  dprime2   Density  \\\n",
       "864639        1995  ...  1996      2  1996-02-01    8.25        0  0.103363   \n",
       "864648        1996  ...  1996      2  1996-02-01    8.25        0  0.194471   \n",
       "864696        1996  ...  1996      2  1996-02-01    8.25        0  0.142576   \n",
       "864699        1996  ...  1996      2  1996-02-01    8.25        0  0.192212   \n",
       "864702        1996  ...  1996      2  1996-02-01    8.25        0  0.114728   \n",
       "\n",
       "        Upper_Threshold  Lower_Threshold Label growth_potential  \n",
       "864639         0.103363         0.066158     3                2  \n",
       "864648         0.137851         0.067772     1                1  \n",
       "864696         0.141974         0.052139     1                1  \n",
       "864699         0.103363         0.066158     1                1  \n",
       "864702         0.141974         0.052139     3                1  \n",
       "\n",
       "[5 rows x 44 columns]"
      ]
     },
     "metadata": {},
     "output_type": "display_data"
    },
    {
     "name": "stdout",
     "output_type": "stream",
     "text": [
      "<class 'pandas.core.frame.DataFrame'>\n",
      "Int64Index: 148720 entries, 12 to 864702\n",
      "Data columns (total 44 columns):\n",
      " #   Column             Non-Null Count   Dtype  \n",
      "---  ------             --------------   -----  \n",
      " 0   LoanNr_ChkDgt      148720 non-null  int64  \n",
      " 1   Name               148720 non-null  object \n",
      " 2   City               148720 non-null  object \n",
      " 3   State              148720 non-null  object \n",
      " 4   Zip                148720 non-null  int64  \n",
      " 5   Bank               148720 non-null  object \n",
      " 6   BankState          148720 non-null  object \n",
      " 7   NAICS              148720 non-null  int64  \n",
      " 8   ApprovalDate       148720 non-null  object \n",
      " 9   ApprovalFY         148720 non-null  int64  \n",
      " 10  Term               148720 non-null  int64  \n",
      " 11  NoEmp              148720 non-null  int64  \n",
      " 12  NewExist           148720 non-null  int64  \n",
      " 13  CreateJob          148720 non-null  int64  \n",
      " 14  RetainedJob        148720 non-null  int64  \n",
      " 15  FranchiseCode      148720 non-null  int64  \n",
      " 16  UrbanRural         148720 non-null  int64  \n",
      " 17  LowDoc             148720 non-null  int64  \n",
      " 18  ChgOffDate         148720 non-null  object \n",
      " 19  DisbursementDate   148720 non-null  object \n",
      " 20  DisbursementGross  148720 non-null  int64  \n",
      " 21  MIS_Status         148720 non-null  int64  \n",
      " 22  ChgOffPrinGr       148720 non-null  int64  \n",
      " 23  GrAppv             148720 non-null  int64  \n",
      " 24  SBA_Appv           148720 non-null  int64  \n",
      " 25  SameState          148720 non-null  int64  \n",
      " 26  Recession          148720 non-null  int64  \n",
      " 27  ChgOffDate2        148720 non-null  object \n",
      " 28  Term_re            148720 non-null  int64  \n",
      " 29  smallmedium        148720 non-null  int64  \n",
      " 30  createjob2         148720 non-null  int64  \n",
      " 31  retainedjob2       148720 non-null  int64  \n",
      " 32  dis_re             148720 non-null  int64  \n",
      " 33  appv_pct           148720 non-null  float64\n",
      " 34  Year               148720 non-null  int64  \n",
      " 35  Month              148720 non-null  int64  \n",
      " 36  DATE               148720 non-null  object \n",
      " 37  DPRIME             148720 non-null  float64\n",
      " 38  dprime2            148720 non-null  int64  \n",
      " 39  Density            148720 non-null  float64\n",
      " 40  Upper_Threshold    148720 non-null  float64\n",
      " 41  Lower_Threshold    148720 non-null  float64\n",
      " 42  Label              148720 non-null  int64  \n",
      " 43  growth_potential   148720 non-null  int64  \n",
      "dtypes: float64(5), int64(29), object(10)\n",
      "memory usage: 51.1+ MB\n"
     ]
    }
   ],
   "source": [
    "# 채무불이행 데이터로 축소\n",
    "df1 = df[df['MIS_Status']==1]\n",
    "\n",
    "print(df1.shape)\n",
    "display(df1.head())\n",
    "display(df1.tail())\n",
    "df1.info()"
   ]
  },
  {
   "cell_type": "markdown",
   "metadata": {},
   "source": [
    "### 필요없는 변수 지우기"
   ]
  },
  {
   "cell_type": "code",
   "execution_count": 10,
   "metadata": {},
   "outputs": [
    {
     "data": {
      "text/html": [
       "<div>\n",
       "<style scoped>\n",
       "    .dataframe tbody tr th:only-of-type {\n",
       "        vertical-align: middle;\n",
       "    }\n",
       "\n",
       "    .dataframe tbody tr th {\n",
       "        vertical-align: top;\n",
       "    }\n",
       "\n",
       "    .dataframe thead th {\n",
       "        text-align: right;\n",
       "    }\n",
       "</style>\n",
       "<table border=\"1\" class=\"dataframe\">\n",
       "  <thead>\n",
       "    <tr style=\"text-align: right;\">\n",
       "      <th></th>\n",
       "      <th>LoanNr_ChkDgt</th>\n",
       "      <th>Name</th>\n",
       "      <th>City</th>\n",
       "      <th>State</th>\n",
       "      <th>Zip</th>\n",
       "      <th>Bank</th>\n",
       "      <th>BankState</th>\n",
       "      <th>NAICS</th>\n",
       "      <th>ApprovalDate</th>\n",
       "      <th>ApprovalFY</th>\n",
       "      <th>...</th>\n",
       "      <th>ChgOffDate2</th>\n",
       "      <th>Term_re</th>\n",
       "      <th>smallmedium</th>\n",
       "      <th>createjob2</th>\n",
       "      <th>retainedjob2</th>\n",
       "      <th>dis_re</th>\n",
       "      <th>appv_pct</th>\n",
       "      <th>DPRIME</th>\n",
       "      <th>dprime2</th>\n",
       "      <th>growth_potential</th>\n",
       "    </tr>\n",
       "  </thead>\n",
       "  <tbody>\n",
       "    <tr>\n",
       "      <th>12</th>\n",
       "      <td>1052224009</td>\n",
       "      <td>FAMILY CARPET CLEANING</td>\n",
       "      <td>NEW CASTLE</td>\n",
       "      <td>DE</td>\n",
       "      <td>19720</td>\n",
       "      <td>PNC BANK, NATIONAL ASSOCIATION</td>\n",
       "      <td>DE</td>\n",
       "      <td>2</td>\n",
       "      <td>1997-03-20</td>\n",
       "      <td>1997</td>\n",
       "      <td>...</td>\n",
       "      <td>2003-03-09</td>\n",
       "      <td>0</td>\n",
       "      <td>0</td>\n",
       "      <td>0</td>\n",
       "      <td>0</td>\n",
       "      <td>1</td>\n",
       "      <td>50.0</td>\n",
       "      <td>7.75</td>\n",
       "      <td>0</td>\n",
       "      <td>2</td>\n",
       "    </tr>\n",
       "    <tr>\n",
       "      <th>55</th>\n",
       "      <td>1343924007</td>\n",
       "      <td>CONTRACT CONNECTIONS INDUSTRIE</td>\n",
       "      <td>HATBORO</td>\n",
       "      <td>PA</td>\n",
       "      <td>19040</td>\n",
       "      <td>PNC BANK, NATIONAL ASSOCIATION</td>\n",
       "      <td>DE</td>\n",
       "      <td>1</td>\n",
       "      <td>1997-06-12</td>\n",
       "      <td>1997</td>\n",
       "      <td>...</td>\n",
       "      <td>2004-10-29</td>\n",
       "      <td>1</td>\n",
       "      <td>0</td>\n",
       "      <td>0</td>\n",
       "      <td>0</td>\n",
       "      <td>3</td>\n",
       "      <td>75.0</td>\n",
       "      <td>7.75</td>\n",
       "      <td>0</td>\n",
       "      <td>1</td>\n",
       "    </tr>\n",
       "    <tr>\n",
       "      <th>76</th>\n",
       "      <td>1409054010</td>\n",
       "      <td>PRECISION TUNE AUTO SERVICE CE</td>\n",
       "      <td>JACKSONVILLE</td>\n",
       "      <td>FL</td>\n",
       "      <td>32208</td>\n",
       "      <td>REGIONS BANK</td>\n",
       "      <td>FL</td>\n",
       "      <td>13</td>\n",
       "      <td>1997-07-11</td>\n",
       "      <td>1997</td>\n",
       "      <td>...</td>\n",
       "      <td>2001-11-14</td>\n",
       "      <td>0</td>\n",
       "      <td>0</td>\n",
       "      <td>0</td>\n",
       "      <td>0</td>\n",
       "      <td>3</td>\n",
       "      <td>75.0</td>\n",
       "      <td>7.75</td>\n",
       "      <td>0</td>\n",
       "      <td>2</td>\n",
       "    </tr>\n",
       "    <tr>\n",
       "      <th>157</th>\n",
       "      <td>1621534009</td>\n",
       "      <td>JOSIES RESTAURANT</td>\n",
       "      <td>HARTSVILLE</td>\n",
       "      <td>SC</td>\n",
       "      <td>29550</td>\n",
       "      <td>WELLS FARGO BANK NATL ASSOC</td>\n",
       "      <td>NC</td>\n",
       "      <td>14</td>\n",
       "      <td>1997-10-16</td>\n",
       "      <td>1998</td>\n",
       "      <td>...</td>\n",
       "      <td>2004-01-03</td>\n",
       "      <td>0</td>\n",
       "      <td>0</td>\n",
       "      <td>0</td>\n",
       "      <td>0</td>\n",
       "      <td>3</td>\n",
       "      <td>75.0</td>\n",
       "      <td>7.75</td>\n",
       "      <td>0</td>\n",
       "      <td>2</td>\n",
       "    </tr>\n",
       "    <tr>\n",
       "      <th>183</th>\n",
       "      <td>1682194007</td>\n",
       "      <td>STEPHEN &amp; ASSOCIATES BUILDERS,</td>\n",
       "      <td>OKLAHOMA CITY</td>\n",
       "      <td>OK</td>\n",
       "      <td>73116</td>\n",
       "      <td>BANK OF OKLAHOMA A DIVISION OF</td>\n",
       "      <td>OK</td>\n",
       "      <td>2</td>\n",
       "      <td>1997-11-17</td>\n",
       "      <td>1998</td>\n",
       "      <td>...</td>\n",
       "      <td>2001-01-18</td>\n",
       "      <td>0</td>\n",
       "      <td>0</td>\n",
       "      <td>0</td>\n",
       "      <td>0</td>\n",
       "      <td>3</td>\n",
       "      <td>75.0</td>\n",
       "      <td>7.75</td>\n",
       "      <td>0</td>\n",
       "      <td>2</td>\n",
       "    </tr>\n",
       "  </tbody>\n",
       "</table>\n",
       "<p>5 rows × 37 columns</p>\n",
       "</div>"
      ],
      "text/plain": [
       "     LoanNr_ChkDgt                            Name           City State  \\\n",
       "12      1052224009          FAMILY CARPET CLEANING     NEW CASTLE    DE   \n",
       "55      1343924007  CONTRACT CONNECTIONS INDUSTRIE        HATBORO    PA   \n",
       "76      1409054010  PRECISION TUNE AUTO SERVICE CE   JACKSONVILLE    FL   \n",
       "157     1621534009               JOSIES RESTAURANT     HARTSVILLE    SC   \n",
       "183     1682194007  STEPHEN & ASSOCIATES BUILDERS,  OKLAHOMA CITY    OK   \n",
       "\n",
       "       Zip                            Bank BankState  NAICS ApprovalDate  \\\n",
       "12   19720  PNC BANK, NATIONAL ASSOCIATION        DE      2   1997-03-20   \n",
       "55   19040  PNC BANK, NATIONAL ASSOCIATION        DE      1   1997-06-12   \n",
       "76   32208                    REGIONS BANK        FL     13   1997-07-11   \n",
       "157  29550     WELLS FARGO BANK NATL ASSOC        NC     14   1997-10-16   \n",
       "183  73116  BANK OF OKLAHOMA A DIVISION OF        OK      2   1997-11-17   \n",
       "\n",
       "     ApprovalFY  ...  ChgOffDate2  Term_re  smallmedium  createjob2  \\\n",
       "12         1997  ...   2003-03-09        0            0           0   \n",
       "55         1997  ...   2004-10-29        1            0           0   \n",
       "76         1997  ...   2001-11-14        0            0           0   \n",
       "157        1998  ...   2004-01-03        0            0           0   \n",
       "183        1998  ...   2001-01-18        0            0           0   \n",
       "\n",
       "     retainedjob2  dis_re  appv_pct  DPRIME dprime2 growth_potential  \n",
       "12              0       1      50.0    7.75       0                2  \n",
       "55              0       3      75.0    7.75       0                1  \n",
       "76              0       3      75.0    7.75       0                2  \n",
       "157             0       3      75.0    7.75       0                2  \n",
       "183             0       3      75.0    7.75       0                2  \n",
       "\n",
       "[5 rows x 37 columns]"
      ]
     },
     "execution_count": 10,
     "metadata": {},
     "output_type": "execute_result"
    }
   ],
   "source": [
    "df1 = df1.drop(['Year','Month','DATE','Density','Upper_Threshold','Lower_Threshold','Label'], axis=1)\n",
    "df1.head()"
   ]
  },
  {
   "cell_type": "code",
   "execution_count": 40,
   "metadata": {},
   "outputs": [
    {
     "name": "stdout",
     "output_type": "stream",
     "text": [
      "(716027, 44)\n"
     ]
    },
    {
     "data": {
      "text/html": [
       "<div>\n",
       "<style scoped>\n",
       "    .dataframe tbody tr th:only-of-type {\n",
       "        vertical-align: middle;\n",
       "    }\n",
       "\n",
       "    .dataframe tbody tr th {\n",
       "        vertical-align: top;\n",
       "    }\n",
       "\n",
       "    .dataframe thead th {\n",
       "        text-align: right;\n",
       "    }\n",
       "</style>\n",
       "<table border=\"1\" class=\"dataframe\">\n",
       "  <thead>\n",
       "    <tr style=\"text-align: right;\">\n",
       "      <th></th>\n",
       "      <th>LoanNr_ChkDgt</th>\n",
       "      <th>Name</th>\n",
       "      <th>City</th>\n",
       "      <th>State</th>\n",
       "      <th>Zip</th>\n",
       "      <th>Bank</th>\n",
       "      <th>BankState</th>\n",
       "      <th>NAICS</th>\n",
       "      <th>ApprovalDate</th>\n",
       "      <th>ApprovalFY</th>\n",
       "      <th>...</th>\n",
       "      <th>Year</th>\n",
       "      <th>Month</th>\n",
       "      <th>DATE</th>\n",
       "      <th>DPRIME</th>\n",
       "      <th>dprime2</th>\n",
       "      <th>Density</th>\n",
       "      <th>Upper_Threshold</th>\n",
       "      <th>Lower_Threshold</th>\n",
       "      <th>Label</th>\n",
       "      <th>growth_potential</th>\n",
       "    </tr>\n",
       "  </thead>\n",
       "  <tbody>\n",
       "    <tr>\n",
       "      <th>0</th>\n",
       "      <td>1000014003</td>\n",
       "      <td>ABC HOBBYCRAFT</td>\n",
       "      <td>EVANSVILLE</td>\n",
       "      <td>IN</td>\n",
       "      <td>47711</td>\n",
       "      <td>FIFTH THIRD BANK</td>\n",
       "      <td>OH</td>\n",
       "      <td>17</td>\n",
       "      <td>1997-02-28</td>\n",
       "      <td>1997</td>\n",
       "      <td>...</td>\n",
       "      <td>1999</td>\n",
       "      <td>2</td>\n",
       "      <td>1999-02-01</td>\n",
       "      <td>7.75</td>\n",
       "      <td>0</td>\n",
       "      <td>0.172105</td>\n",
       "      <td>0.118196</td>\n",
       "      <td>0.055178</td>\n",
       "      <td>1</td>\n",
       "      <td>1</td>\n",
       "    </tr>\n",
       "    <tr>\n",
       "      <th>1</th>\n",
       "      <td>1000935004</td>\n",
       "      <td>Hairline Inc.</td>\n",
       "      <td>Vancouver</td>\n",
       "      <td>WA</td>\n",
       "      <td>98663</td>\n",
       "      <td>WELLS FARGO BANK NATL ASSOC</td>\n",
       "      <td>SD</td>\n",
       "      <td>14</td>\n",
       "      <td>1997-04-08</td>\n",
       "      <td>1997</td>\n",
       "      <td>...</td>\n",
       "      <td>1999</td>\n",
       "      <td>2</td>\n",
       "      <td>1999-02-01</td>\n",
       "      <td>7.75</td>\n",
       "      <td>0</td>\n",
       "      <td>0.090095</td>\n",
       "      <td>0.134566</td>\n",
       "      <td>0.055910</td>\n",
       "      <td>3</td>\n",
       "      <td>2</td>\n",
       "    </tr>\n",
       "    <tr>\n",
       "      <th>2</th>\n",
       "      <td>1003535008</td>\n",
       "      <td>Jason A. Philbrook</td>\n",
       "      <td>Rockland</td>\n",
       "      <td>ME</td>\n",
       "      <td>4841</td>\n",
       "      <td>KEYBANK NATIONAL ASSOCIATION</td>\n",
       "      <td>OH</td>\n",
       "      <td>18</td>\n",
       "      <td>1999-01-11</td>\n",
       "      <td>1999</td>\n",
       "      <td>...</td>\n",
       "      <td>1999</td>\n",
       "      <td>2</td>\n",
       "      <td>1999-02-01</td>\n",
       "      <td>7.75</td>\n",
       "      <td>0</td>\n",
       "      <td>0.041237</td>\n",
       "      <td>0.213874</td>\n",
       "      <td>0.051896</td>\n",
       "      <td>5</td>\n",
       "      <td>2</td>\n",
       "    </tr>\n",
       "    <tr>\n",
       "      <th>3</th>\n",
       "      <td>1009994000</td>\n",
       "      <td>ARROW ENTERPRISE, INC.</td>\n",
       "      <td>BILLINGS</td>\n",
       "      <td>MT</td>\n",
       "      <td>59101</td>\n",
       "      <td>WESTERN SECURITY BANK</td>\n",
       "      <td>MT</td>\n",
       "      <td>5</td>\n",
       "      <td>1997-03-04</td>\n",
       "      <td>1997</td>\n",
       "      <td>...</td>\n",
       "      <td>1999</td>\n",
       "      <td>2</td>\n",
       "      <td>1999-02-01</td>\n",
       "      <td>7.75</td>\n",
       "      <td>0</td>\n",
       "      <td>0.148380</td>\n",
       "      <td>0.209033</td>\n",
       "      <td>0.057460</td>\n",
       "      <td>3</td>\n",
       "      <td>1</td>\n",
       "    </tr>\n",
       "    <tr>\n",
       "      <th>4</th>\n",
       "      <td>1011904005</td>\n",
       "      <td>ROBIN E. JONES, D.D.S.</td>\n",
       "      <td>TACOMA</td>\n",
       "      <td>WA</td>\n",
       "      <td>98404</td>\n",
       "      <td>KEYBANK NATIONAL ASSOCIATION</td>\n",
       "      <td>OR</td>\n",
       "      <td>8</td>\n",
       "      <td>1997-03-05</td>\n",
       "      <td>1997</td>\n",
       "      <td>...</td>\n",
       "      <td>1999</td>\n",
       "      <td>2</td>\n",
       "      <td>1999-02-01</td>\n",
       "      <td>7.75</td>\n",
       "      <td>0</td>\n",
       "      <td>0.094218</td>\n",
       "      <td>0.134566</td>\n",
       "      <td>0.055910</td>\n",
       "      <td>3</td>\n",
       "      <td>2</td>\n",
       "    </tr>\n",
       "  </tbody>\n",
       "</table>\n",
       "<p>5 rows × 44 columns</p>\n",
       "</div>"
      ],
      "text/plain": [
       "   LoanNr_ChkDgt                    Name        City State    Zip  \\\n",
       "0     1000014003          ABC HOBBYCRAFT  EVANSVILLE    IN  47711   \n",
       "1     1000935004           Hairline Inc.   Vancouver    WA  98663   \n",
       "2     1003535008      Jason A. Philbrook    Rockland    ME   4841   \n",
       "3     1009994000  ARROW ENTERPRISE, INC.    BILLINGS    MT  59101   \n",
       "4     1011904005  ROBIN E. JONES, D.D.S.      TACOMA    WA  98404   \n",
       "\n",
       "                           Bank BankState  NAICS ApprovalDate  ApprovalFY  \\\n",
       "0              FIFTH THIRD BANK        OH     17   1997-02-28        1997   \n",
       "1   WELLS FARGO BANK NATL ASSOC        SD     14   1997-04-08        1997   \n",
       "2  KEYBANK NATIONAL ASSOCIATION        OH     18   1999-01-11        1999   \n",
       "3         WESTERN SECURITY BANK        MT      5   1997-03-04        1997   \n",
       "4  KEYBANK NATIONAL ASSOCIATION        OR      8   1997-03-05        1997   \n",
       "\n",
       "   ...  Year  Month        DATE  DPRIME  dprime2   Density  Upper_Threshold  \\\n",
       "0  ...  1999      2  1999-02-01    7.75        0  0.172105         0.118196   \n",
       "1  ...  1999      2  1999-02-01    7.75        0  0.090095         0.134566   \n",
       "2  ...  1999      2  1999-02-01    7.75        0  0.041237         0.213874   \n",
       "3  ...  1999      2  1999-02-01    7.75        0  0.148380         0.209033   \n",
       "4  ...  1999      2  1999-02-01    7.75        0  0.094218         0.134566   \n",
       "\n",
       "   Lower_Threshold Label growth_potential  \n",
       "0         0.055178     1                1  \n",
       "1         0.055910     3                2  \n",
       "2         0.051896     5                2  \n",
       "3         0.057460     3                1  \n",
       "4         0.055910     3                2  \n",
       "\n",
       "[5 rows x 44 columns]"
      ]
     },
     "metadata": {},
     "output_type": "display_data"
    },
    {
     "data": {
      "text/html": [
       "<div>\n",
       "<style scoped>\n",
       "    .dataframe tbody tr th:only-of-type {\n",
       "        vertical-align: middle;\n",
       "    }\n",
       "\n",
       "    .dataframe tbody tr th {\n",
       "        vertical-align: top;\n",
       "    }\n",
       "\n",
       "    .dataframe thead th {\n",
       "        text-align: right;\n",
       "    }\n",
       "</style>\n",
       "<table border=\"1\" class=\"dataframe\">\n",
       "  <thead>\n",
       "    <tr style=\"text-align: right;\">\n",
       "      <th></th>\n",
       "      <th>LoanNr_ChkDgt</th>\n",
       "      <th>Name</th>\n",
       "      <th>City</th>\n",
       "      <th>State</th>\n",
       "      <th>Zip</th>\n",
       "      <th>Bank</th>\n",
       "      <th>BankState</th>\n",
       "      <th>NAICS</th>\n",
       "      <th>ApprovalDate</th>\n",
       "      <th>ApprovalFY</th>\n",
       "      <th>...</th>\n",
       "      <th>Year</th>\n",
       "      <th>Month</th>\n",
       "      <th>DATE</th>\n",
       "      <th>DPRIME</th>\n",
       "      <th>dprime2</th>\n",
       "      <th>Density</th>\n",
       "      <th>Upper_Threshold</th>\n",
       "      <th>Lower_Threshold</th>\n",
       "      <th>Label</th>\n",
       "      <th>growth_potential</th>\n",
       "    </tr>\n",
       "  </thead>\n",
       "  <tbody>\n",
       "    <tr>\n",
       "      <th>864742</th>\n",
       "      <td>9022713002</td>\n",
       "      <td>BJORK, LAURA BEAUTY CONSULTANT</td>\n",
       "      <td>DALE CITY</td>\n",
       "      <td>VA</td>\n",
       "      <td>22193</td>\n",
       "      <td>MANUFACTURERS &amp; TRADERS TR CO</td>\n",
       "      <td>MD</td>\n",
       "      <td>1</td>\n",
       "      <td>1996-02-21</td>\n",
       "      <td>1996</td>\n",
       "      <td>...</td>\n",
       "      <td>1996</td>\n",
       "      <td>2</td>\n",
       "      <td>1996-02-01</td>\n",
       "      <td>8.25</td>\n",
       "      <td>0</td>\n",
       "      <td>0.104331</td>\n",
       "      <td>0.139452</td>\n",
       "      <td>0.056099</td>\n",
       "      <td>3</td>\n",
       "      <td>1</td>\n",
       "    </tr>\n",
       "    <tr>\n",
       "      <th>864743</th>\n",
       "      <td>9035193000</td>\n",
       "      <td>PROFESSIONALS FOR NONPROFITS,I</td>\n",
       "      <td>NEW YORK</td>\n",
       "      <td>NY</td>\n",
       "      <td>10022</td>\n",
       "      <td>BANCO POPULAR NORTH AMERICA</td>\n",
       "      <td>NY</td>\n",
       "      <td>10</td>\n",
       "      <td>1996-02-26</td>\n",
       "      <td>1996</td>\n",
       "      <td>...</td>\n",
       "      <td>1996</td>\n",
       "      <td>2</td>\n",
       "      <td>1996-02-01</td>\n",
       "      <td>8.25</td>\n",
       "      <td>0</td>\n",
       "      <td>0.094630</td>\n",
       "      <td>0.103363</td>\n",
       "      <td>0.066158</td>\n",
       "      <td>3</td>\n",
       "      <td>1</td>\n",
       "    </tr>\n",
       "    <tr>\n",
       "      <th>864744</th>\n",
       "      <td>9256453010</td>\n",
       "      <td>NORTHAIRE MARKET INC</td>\n",
       "      <td>SHAKOPEE</td>\n",
       "      <td>MN</td>\n",
       "      <td>55379</td>\n",
       "      <td>FIDELITY BANK</td>\n",
       "      <td>MN</td>\n",
       "      <td>20</td>\n",
       "      <td>1996-05-07</td>\n",
       "      <td>1996</td>\n",
       "      <td>...</td>\n",
       "      <td>1996</td>\n",
       "      <td>2</td>\n",
       "      <td>1996-02-01</td>\n",
       "      <td>8.25</td>\n",
       "      <td>0</td>\n",
       "      <td>0.066200</td>\n",
       "      <td>0.133574</td>\n",
       "      <td>0.063179</td>\n",
       "      <td>3</td>\n",
       "      <td>2</td>\n",
       "    </tr>\n",
       "    <tr>\n",
       "      <th>864745</th>\n",
       "      <td>9459933001</td>\n",
       "      <td>COMPUTER RENAISSANCE</td>\n",
       "      <td>CARY</td>\n",
       "      <td>NC</td>\n",
       "      <td>27511</td>\n",
       "      <td>FIRST-CITIZENS BK &amp; TR CO</td>\n",
       "      <td>NC</td>\n",
       "      <td>17</td>\n",
       "      <td>1996-08-15</td>\n",
       "      <td>1996</td>\n",
       "      <td>...</td>\n",
       "      <td>1996</td>\n",
       "      <td>2</td>\n",
       "      <td>1996-02-01</td>\n",
       "      <td>8.25</td>\n",
       "      <td>0</td>\n",
       "      <td>0.187560</td>\n",
       "      <td>0.111641</td>\n",
       "      <td>0.060808</td>\n",
       "      <td>1</td>\n",
       "      <td>1</td>\n",
       "    </tr>\n",
       "    <tr>\n",
       "      <th>864746</th>\n",
       "      <td>7377094002</td>\n",
       "      <td>NORTHLAND DATACOMM CO</td>\n",
       "      <td>MINNEAPOLIS</td>\n",
       "      <td>MN</td>\n",
       "      <td>55311</td>\n",
       "      <td>BMO HARRIS BK NATL ASSOC</td>\n",
       "      <td>IL</td>\n",
       "      <td>20</td>\n",
       "      <td>2004-04-22</td>\n",
       "      <td>2004</td>\n",
       "      <td>...</td>\n",
       "      <td>2014</td>\n",
       "      <td>12</td>\n",
       "      <td>2014-12-01</td>\n",
       "      <td>3.25</td>\n",
       "      <td>0</td>\n",
       "      <td>0.066200</td>\n",
       "      <td>0.133574</td>\n",
       "      <td>0.063179</td>\n",
       "      <td>3</td>\n",
       "      <td>2</td>\n",
       "    </tr>\n",
       "  </tbody>\n",
       "</table>\n",
       "<p>5 rows × 44 columns</p>\n",
       "</div>"
      ],
      "text/plain": [
       "        LoanNr_ChkDgt                            Name         City State  \\\n",
       "864742     9022713002  BJORK, LAURA BEAUTY CONSULTANT    DALE CITY    VA   \n",
       "864743     9035193000  PROFESSIONALS FOR NONPROFITS,I     NEW YORK    NY   \n",
       "864744     9256453010            NORTHAIRE MARKET INC     SHAKOPEE    MN   \n",
       "864745     9459933001            COMPUTER RENAISSANCE         CARY    NC   \n",
       "864746     7377094002           NORTHLAND DATACOMM CO  MINNEAPOLIS    MN   \n",
       "\n",
       "          Zip                           Bank BankState  NAICS ApprovalDate  \\\n",
       "864742  22193  MANUFACTURERS & TRADERS TR CO        MD      1   1996-02-21   \n",
       "864743  10022    BANCO POPULAR NORTH AMERICA        NY     10   1996-02-26   \n",
       "864744  55379                  FIDELITY BANK        MN     20   1996-05-07   \n",
       "864745  27511      FIRST-CITIZENS BK & TR CO        NC     17   1996-08-15   \n",
       "864746  55311       BMO HARRIS BK NATL ASSOC        IL     20   2004-04-22   \n",
       "\n",
       "        ApprovalFY  ...  Year  Month        DATE  DPRIME  dprime2   Density  \\\n",
       "864742        1996  ...  1996      2  1996-02-01    8.25        0  0.104331   \n",
       "864743        1996  ...  1996      2  1996-02-01    8.25        0  0.094630   \n",
       "864744        1996  ...  1996      2  1996-02-01    8.25        0  0.066200   \n",
       "864745        1996  ...  1996      2  1996-02-01    8.25        0  0.187560   \n",
       "864746        2004  ...  2014     12  2014-12-01    3.25        0  0.066200   \n",
       "\n",
       "        Upper_Threshold  Lower_Threshold Label growth_potential  \n",
       "864742         0.139452         0.056099     3                1  \n",
       "864743         0.103363         0.066158     3                1  \n",
       "864744         0.133574         0.063179     3                2  \n",
       "864745         0.111641         0.060808     1                1  \n",
       "864746         0.133574         0.063179     3                2  \n",
       "\n",
       "[5 rows x 44 columns]"
      ]
     },
     "metadata": {},
     "output_type": "display_data"
    },
    {
     "name": "stdout",
     "output_type": "stream",
     "text": [
      "<class 'pandas.core.frame.DataFrame'>\n",
      "Int64Index: 716027 entries, 0 to 864746\n",
      "Data columns (total 44 columns):\n",
      " #   Column             Non-Null Count   Dtype  \n",
      "---  ------             --------------   -----  \n",
      " 0   LoanNr_ChkDgt      716027 non-null  int64  \n",
      " 1   Name               716027 non-null  object \n",
      " 2   City               716027 non-null  object \n",
      " 3   State              716027 non-null  object \n",
      " 4   Zip                716027 non-null  int64  \n",
      " 5   Bank               716027 non-null  object \n",
      " 6   BankState          716027 non-null  object \n",
      " 7   NAICS              716027 non-null  int64  \n",
      " 8   ApprovalDate       716027 non-null  object \n",
      " 9   ApprovalFY         716027 non-null  int64  \n",
      " 10  Term               716027 non-null  int64  \n",
      " 11  NoEmp              716027 non-null  int64  \n",
      " 12  NewExist           716027 non-null  int64  \n",
      " 13  CreateJob          716027 non-null  int64  \n",
      " 14  RetainedJob        716027 non-null  int64  \n",
      " 15  FranchiseCode      716027 non-null  int64  \n",
      " 16  UrbanRural         716027 non-null  int64  \n",
      " 17  LowDoc             716027 non-null  int64  \n",
      " 18  ChgOffDate         23 non-null      object \n",
      " 19  DisbursementDate   716027 non-null  object \n",
      " 20  DisbursementGross  716027 non-null  int64  \n",
      " 21  MIS_Status         716027 non-null  int64  \n",
      " 22  ChgOffPrinGr       716027 non-null  int64  \n",
      " 23  GrAppv             716027 non-null  int64  \n",
      " 24  SBA_Appv           716027 non-null  int64  \n",
      " 25  SameState          716027 non-null  int64  \n",
      " 26  Recession          716027 non-null  int64  \n",
      " 27  ChgOffDate2        716027 non-null  object \n",
      " 28  Term_re            716027 non-null  int64  \n",
      " 29  smallmedium        716027 non-null  int64  \n",
      " 30  createjob2         716027 non-null  int64  \n",
      " 31  retainedjob2       716027 non-null  int64  \n",
      " 32  dis_re             716027 non-null  int64  \n",
      " 33  appv_pct           716027 non-null  float64\n",
      " 34  Year               716027 non-null  int64  \n",
      " 35  Month              716027 non-null  int64  \n",
      " 36  DATE               716027 non-null  object \n",
      " 37  DPRIME             716027 non-null  float64\n",
      " 38  dprime2            716027 non-null  int64  \n",
      " 39  Density            716027 non-null  float64\n",
      " 40  Upper_Threshold    716027 non-null  float64\n",
      " 41  Lower_Threshold    716027 non-null  float64\n",
      " 42  Label              716027 non-null  int64  \n",
      " 43  growth_potential   716027 non-null  int64  \n",
      "dtypes: float64(5), int64(29), object(10)\n",
      "memory usage: 245.8+ MB\n"
     ]
    }
   ],
   "source": [
    "# 채무 이행 데이터로 축소\n",
    "df2 = df[df['MIS_Status']==0]\n",
    "\n",
    "print(df2.shape)\n",
    "display(df2.head())\n",
    "display(df2.tail())\n",
    "df2.info()"
   ]
  },
  {
   "cell_type": "markdown",
   "metadata": {},
   "source": [
    "## 2. 중복된 행 여부 확인"
   ]
  },
  {
   "cell_type": "code",
   "execution_count": 8,
   "metadata": {},
   "outputs": [
    {
     "data": {
      "text/html": [
       "<div>\n",
       "<style scoped>\n",
       "    .dataframe tbody tr th:only-of-type {\n",
       "        vertical-align: middle;\n",
       "    }\n",
       "\n",
       "    .dataframe tbody tr th {\n",
       "        vertical-align: top;\n",
       "    }\n",
       "\n",
       "    .dataframe thead th {\n",
       "        text-align: right;\n",
       "    }\n",
       "</style>\n",
       "<table border=\"1\" class=\"dataframe\">\n",
       "  <thead>\n",
       "    <tr style=\"text-align: right;\">\n",
       "      <th></th>\n",
       "      <th>LoanNr_ChkDgt</th>\n",
       "      <th>Name</th>\n",
       "      <th>City</th>\n",
       "      <th>State</th>\n",
       "      <th>Zip</th>\n",
       "      <th>Bank</th>\n",
       "      <th>BankState</th>\n",
       "      <th>NAICS</th>\n",
       "      <th>ApprovalDate</th>\n",
       "      <th>ApprovalFY</th>\n",
       "      <th>...</th>\n",
       "      <th>ChgOffDate2</th>\n",
       "      <th>Term_re</th>\n",
       "      <th>smallmedium</th>\n",
       "      <th>createjob2</th>\n",
       "      <th>retainedjob2</th>\n",
       "      <th>dis_re</th>\n",
       "      <th>appv_pct</th>\n",
       "      <th>DPRIME</th>\n",
       "      <th>dprime2</th>\n",
       "      <th>growth_potential</th>\n",
       "    </tr>\n",
       "  </thead>\n",
       "  <tbody>\n",
       "  </tbody>\n",
       "</table>\n",
       "<p>0 rows × 37 columns</p>\n",
       "</div>"
      ],
      "text/plain": [
       "Empty DataFrame\n",
       "Columns: [LoanNr_ChkDgt, Name, City, State, Zip, Bank, BankState, NAICS, ApprovalDate, ApprovalFY, Term, NoEmp, NewExist, CreateJob, RetainedJob, FranchiseCode, UrbanRural, LowDoc, ChgOffDate, DisbursementDate, DisbursementGross, MIS_Status, ChgOffPrinGr, GrAppv, SBA_Appv, SameState, Recession, ChgOffDate2, Term_re, smallmedium, createjob2, retainedjob2, dis_re, appv_pct, DPRIME, dprime2, growth_potential]\n",
       "Index: []\n",
       "\n",
       "[0 rows x 37 columns]"
      ]
     },
     "execution_count": 8,
     "metadata": {},
     "output_type": "execute_result"
    }
   ],
   "source": [
    "# 중복된 행 여부 확인\n",
    "df1[df1.duplicated(keep=False)] #keep=False: 모든 중복행을 표시"
   ]
  },
  {
   "cell_type": "markdown",
   "metadata": {},
   "source": [
    "=> 중복된 행 없음!"
   ]
  },
  {
   "cell_type": "markdown",
   "metadata": {},
   "source": [
    "## 3. 기술통계량 확인"
   ]
  },
  {
   "cell_type": "code",
   "execution_count": 19,
   "metadata": {},
   "outputs": [
    {
     "data": {
      "text/html": [
       "<div>\n",
       "<style scoped>\n",
       "    .dataframe tbody tr th:only-of-type {\n",
       "        vertical-align: middle;\n",
       "    }\n",
       "\n",
       "    .dataframe tbody tr th {\n",
       "        vertical-align: top;\n",
       "    }\n",
       "\n",
       "    .dataframe thead th {\n",
       "        text-align: right;\n",
       "    }\n",
       "</style>\n",
       "<table border=\"1\" class=\"dataframe\">\n",
       "  <thead>\n",
       "    <tr style=\"text-align: right;\">\n",
       "      <th></th>\n",
       "      <th>LoanNr_ChkDgt</th>\n",
       "      <th>Zip</th>\n",
       "      <th>NAICS</th>\n",
       "      <th>ApprovalFY</th>\n",
       "      <th>Term</th>\n",
       "      <th>NoEmp</th>\n",
       "      <th>NewExist</th>\n",
       "      <th>CreateJob</th>\n",
       "      <th>RetainedJob</th>\n",
       "      <th>FranchiseCode</th>\n",
       "      <th>...</th>\n",
       "      <th>Recession</th>\n",
       "      <th>Term_re</th>\n",
       "      <th>smallmedium</th>\n",
       "      <th>createjob2</th>\n",
       "      <th>retainedjob2</th>\n",
       "      <th>dis_re</th>\n",
       "      <th>appv_pct</th>\n",
       "      <th>DPRIME</th>\n",
       "      <th>dprime2</th>\n",
       "      <th>growth_potential</th>\n",
       "    </tr>\n",
       "  </thead>\n",
       "  <tbody>\n",
       "    <tr>\n",
       "      <th>count</th>\n",
       "      <td>1.487200e+05</td>\n",
       "      <td>148720.000000</td>\n",
       "      <td>148720.000000</td>\n",
       "      <td>148720.000000</td>\n",
       "      <td>148720.000000</td>\n",
       "      <td>148720.000000</td>\n",
       "      <td>148720.000000</td>\n",
       "      <td>148720.00000</td>\n",
       "      <td>148720.000000</td>\n",
       "      <td>148720.000000</td>\n",
       "      <td>...</td>\n",
       "      <td>148720.000000</td>\n",
       "      <td>148720.000000</td>\n",
       "      <td>148720.000000</td>\n",
       "      <td>148720.000000</td>\n",
       "      <td>148720.000000</td>\n",
       "      <td>148720.000000</td>\n",
       "      <td>148720.000000</td>\n",
       "      <td>148720.000000</td>\n",
       "      <td>148720.000000</td>\n",
       "      <td>148720.000000</td>\n",
       "    </tr>\n",
       "    <tr>\n",
       "      <th>mean</th>\n",
       "      <td>3.863066e+09</td>\n",
       "      <td>53438.877152</td>\n",
       "      <td>10.986801</td>\n",
       "      <td>2004.439201</td>\n",
       "      <td>55.359098</td>\n",
       "      <td>6.453362</td>\n",
       "      <td>0.295992</td>\n",
       "      <td>1.77816</td>\n",
       "      <td>4.481469</td>\n",
       "      <td>0.050276</td>\n",
       "      <td>...</td>\n",
       "      <td>0.076244</td>\n",
       "      <td>0.370159</td>\n",
       "      <td>0.000027</td>\n",
       "      <td>0.122741</td>\n",
       "      <td>0.383983</td>\n",
       "      <td>1.980016</td>\n",
       "      <td>63.377845</td>\n",
       "      <td>6.729432</td>\n",
       "      <td>0.006664</td>\n",
       "      <td>1.520340</td>\n",
       "    </tr>\n",
       "    <tr>\n",
       "      <th>std</th>\n",
       "      <td>2.417343e+09</td>\n",
       "      <td>30871.361510</td>\n",
       "      <td>6.177707</td>\n",
       "      <td>4.091050</td>\n",
       "      <td>44.785338</td>\n",
       "      <td>13.349754</td>\n",
       "      <td>0.456489</td>\n",
       "      <td>11.08882</td>\n",
       "      <td>9.475993</td>\n",
       "      <td>0.218514</td>\n",
       "      <td>...</td>\n",
       "      <td>0.265389</td>\n",
       "      <td>0.546894</td>\n",
       "      <td>0.005186</td>\n",
       "      <td>0.355087</td>\n",
       "      <td>0.548989</td>\n",
       "      <td>1.064589</td>\n",
       "      <td>15.957457</td>\n",
       "      <td>1.786600</td>\n",
       "      <td>0.081358</td>\n",
       "      <td>0.524883</td>\n",
       "    </tr>\n",
       "    <tr>\n",
       "      <th>min</th>\n",
       "      <td>1.000554e+09</td>\n",
       "      <td>0.000000</td>\n",
       "      <td>1.000000</td>\n",
       "      <td>1985.000000</td>\n",
       "      <td>0.000000</td>\n",
       "      <td>1.000000</td>\n",
       "      <td>0.000000</td>\n",
       "      <td>0.00000</td>\n",
       "      <td>0.000000</td>\n",
       "      <td>0.000000</td>\n",
       "      <td>...</td>\n",
       "      <td>0.000000</td>\n",
       "      <td>0.000000</td>\n",
       "      <td>0.000000</td>\n",
       "      <td>0.000000</td>\n",
       "      <td>0.000000</td>\n",
       "      <td>0.000000</td>\n",
       "      <td>12.190000</td>\n",
       "      <td>3.250000</td>\n",
       "      <td>0.000000</td>\n",
       "      <td>1.000000</td>\n",
       "    </tr>\n",
       "    <tr>\n",
       "      <th>25%</th>\n",
       "      <td>2.112073e+09</td>\n",
       "      <td>28624.500000</td>\n",
       "      <td>5.000000</td>\n",
       "      <td>2003.000000</td>\n",
       "      <td>29.000000</td>\n",
       "      <td>2.000000</td>\n",
       "      <td>0.000000</td>\n",
       "      <td>0.00000</td>\n",
       "      <td>1.000000</td>\n",
       "      <td>0.000000</td>\n",
       "      <td>...</td>\n",
       "      <td>0.000000</td>\n",
       "      <td>0.000000</td>\n",
       "      <td>0.000000</td>\n",
       "      <td>0.000000</td>\n",
       "      <td>0.000000</td>\n",
       "      <td>1.000000</td>\n",
       "      <td>50.000000</td>\n",
       "      <td>5.000000</td>\n",
       "      <td>0.000000</td>\n",
       "      <td>1.000000</td>\n",
       "    </tr>\n",
       "    <tr>\n",
       "      <th>50%</th>\n",
       "      <td>2.873985e+09</td>\n",
       "      <td>54130.000000</td>\n",
       "      <td>13.000000</td>\n",
       "      <td>2006.000000</td>\n",
       "      <td>49.000000</td>\n",
       "      <td>3.000000</td>\n",
       "      <td>0.000000</td>\n",
       "      <td>0.00000</td>\n",
       "      <td>2.000000</td>\n",
       "      <td>0.000000</td>\n",
       "      <td>...</td>\n",
       "      <td>0.000000</td>\n",
       "      <td>0.000000</td>\n",
       "      <td>0.000000</td>\n",
       "      <td>0.000000</td>\n",
       "      <td>0.000000</td>\n",
       "      <td>2.000000</td>\n",
       "      <td>50.000000</td>\n",
       "      <td>7.500000</td>\n",
       "      <td>0.000000</td>\n",
       "      <td>2.000000</td>\n",
       "    </tr>\n",
       "    <tr>\n",
       "      <th>75%</th>\n",
       "      <td>5.546332e+09</td>\n",
       "      <td>84041.000000</td>\n",
       "      <td>17.000000</td>\n",
       "      <td>2007.000000</td>\n",
       "      <td>67.000000</td>\n",
       "      <td>6.000000</td>\n",
       "      <td>1.000000</td>\n",
       "      <td>2.00000</td>\n",
       "      <td>5.000000</td>\n",
       "      <td>0.000000</td>\n",
       "      <td>...</td>\n",
       "      <td>0.000000</td>\n",
       "      <td>1.000000</td>\n",
       "      <td>0.000000</td>\n",
       "      <td>0.000000</td>\n",
       "      <td>1.000000</td>\n",
       "      <td>3.000000</td>\n",
       "      <td>80.000000</td>\n",
       "      <td>8.250000</td>\n",
       "      <td>0.000000</td>\n",
       "      <td>2.000000</td>\n",
       "    </tr>\n",
       "    <tr>\n",
       "      <th>max</th>\n",
       "      <td>9.995973e+09</td>\n",
       "      <td>99999.000000</td>\n",
       "      <td>20.000000</td>\n",
       "      <td>2014.000000</td>\n",
       "      <td>438.000000</td>\n",
       "      <td>1200.000000</td>\n",
       "      <td>1.000000</td>\n",
       "      <td>1229.00000</td>\n",
       "      <td>450.000000</td>\n",
       "      <td>1.000000</td>\n",
       "      <td>...</td>\n",
       "      <td>1.000000</td>\n",
       "      <td>2.000000</td>\n",
       "      <td>1.000000</td>\n",
       "      <td>2.000000</td>\n",
       "      <td>2.000000</td>\n",
       "      <td>5.000000</td>\n",
       "      <td>100.000000</td>\n",
       "      <td>11.500000</td>\n",
       "      <td>1.000000</td>\n",
       "      <td>3.000000</td>\n",
       "    </tr>\n",
       "  </tbody>\n",
       "</table>\n",
       "<p>8 rows × 28 columns</p>\n",
       "</div>"
      ],
      "text/plain": [
       "       LoanNr_ChkDgt            Zip          NAICS     ApprovalFY  \\\n",
       "count   1.487200e+05  148720.000000  148720.000000  148720.000000   \n",
       "mean    3.863066e+09   53438.877152      10.986801    2004.439201   \n",
       "std     2.417343e+09   30871.361510       6.177707       4.091050   \n",
       "min     1.000554e+09       0.000000       1.000000    1985.000000   \n",
       "25%     2.112073e+09   28624.500000       5.000000    2003.000000   \n",
       "50%     2.873985e+09   54130.000000      13.000000    2006.000000   \n",
       "75%     5.546332e+09   84041.000000      17.000000    2007.000000   \n",
       "max     9.995973e+09   99999.000000      20.000000    2014.000000   \n",
       "\n",
       "                Term          NoEmp       NewExist     CreateJob  \\\n",
       "count  148720.000000  148720.000000  148720.000000  148720.00000   \n",
       "mean       55.359098       6.453362       0.295992       1.77816   \n",
       "std        44.785338      13.349754       0.456489      11.08882   \n",
       "min         0.000000       1.000000       0.000000       0.00000   \n",
       "25%        29.000000       2.000000       0.000000       0.00000   \n",
       "50%        49.000000       3.000000       0.000000       0.00000   \n",
       "75%        67.000000       6.000000       1.000000       2.00000   \n",
       "max       438.000000    1200.000000       1.000000    1229.00000   \n",
       "\n",
       "         RetainedJob  FranchiseCode  ...      Recession        Term_re  \\\n",
       "count  148720.000000  148720.000000  ...  148720.000000  148720.000000   \n",
       "mean        4.481469       0.050276  ...       0.076244       0.370159   \n",
       "std         9.475993       0.218514  ...       0.265389       0.546894   \n",
       "min         0.000000       0.000000  ...       0.000000       0.000000   \n",
       "25%         1.000000       0.000000  ...       0.000000       0.000000   \n",
       "50%         2.000000       0.000000  ...       0.000000       0.000000   \n",
       "75%         5.000000       0.000000  ...       0.000000       1.000000   \n",
       "max       450.000000       1.000000  ...       1.000000       2.000000   \n",
       "\n",
       "         smallmedium     createjob2   retainedjob2         dis_re  \\\n",
       "count  148720.000000  148720.000000  148720.000000  148720.000000   \n",
       "mean        0.000027       0.122741       0.383983       1.980016   \n",
       "std         0.005186       0.355087       0.548989       1.064589   \n",
       "min         0.000000       0.000000       0.000000       0.000000   \n",
       "25%         0.000000       0.000000       0.000000       1.000000   \n",
       "50%         0.000000       0.000000       0.000000       2.000000   \n",
       "75%         0.000000       0.000000       1.000000       3.000000   \n",
       "max         1.000000       2.000000       2.000000       5.000000   \n",
       "\n",
       "            appv_pct         DPRIME        dprime2  growth_potential  \n",
       "count  148720.000000  148720.000000  148720.000000     148720.000000  \n",
       "mean       63.377845       6.729432       0.006664          1.520340  \n",
       "std        15.957457       1.786600       0.081358          0.524883  \n",
       "min        12.190000       3.250000       0.000000          1.000000  \n",
       "25%        50.000000       5.000000       0.000000          1.000000  \n",
       "50%        50.000000       7.500000       0.000000          2.000000  \n",
       "75%        80.000000       8.250000       0.000000          2.000000  \n",
       "max       100.000000      11.500000       1.000000          3.000000  \n",
       "\n",
       "[8 rows x 28 columns]"
      ]
     },
     "execution_count": 19,
     "metadata": {},
     "output_type": "execute_result"
    }
   ],
   "source": [
    "# 수치형 변수들에 한해 기술통계량 확인\n",
    "df1.describe()"
   ]
  },
  {
   "cell_type": "code",
   "execution_count": 21,
   "metadata": {},
   "outputs": [
    {
     "data": {
      "text/html": [
       "<div>\n",
       "<style scoped>\n",
       "    .dataframe tbody tr th:only-of-type {\n",
       "        vertical-align: middle;\n",
       "    }\n",
       "\n",
       "    .dataframe tbody tr th {\n",
       "        vertical-align: top;\n",
       "    }\n",
       "\n",
       "    .dataframe thead th {\n",
       "        text-align: right;\n",
       "    }\n",
       "</style>\n",
       "<table border=\"1\" class=\"dataframe\">\n",
       "  <thead>\n",
       "    <tr style=\"text-align: right;\">\n",
       "      <th></th>\n",
       "      <th>Term</th>\n",
       "      <th>NoEmp</th>\n",
       "      <th>NewExist</th>\n",
       "      <th>CreateJob</th>\n",
       "      <th>RetainedJob</th>\n",
       "      <th>DisbursementGross</th>\n",
       "      <th>ChgOffPrinGr</th>\n",
       "      <th>GrAppv</th>\n",
       "      <th>SBA_Appv</th>\n",
       "      <th>appv_pct</th>\n",
       "      <th>DPRIME</th>\n",
       "    </tr>\n",
       "  </thead>\n",
       "  <tbody>\n",
       "    <tr>\n",
       "      <th>count</th>\n",
       "      <td>148720.000000</td>\n",
       "      <td>148720.000000</td>\n",
       "      <td>148720.000000</td>\n",
       "      <td>148720.00000</td>\n",
       "      <td>148720.000000</td>\n",
       "      <td>1.487200e+05</td>\n",
       "      <td>1.487200e+05</td>\n",
       "      <td>1.487200e+05</td>\n",
       "      <td>1.487200e+05</td>\n",
       "      <td>148720.000000</td>\n",
       "      <td>148720.000000</td>\n",
       "    </tr>\n",
       "    <tr>\n",
       "      <th>mean</th>\n",
       "      <td>55.359098</td>\n",
       "      <td>6.453362</td>\n",
       "      <td>0.295992</td>\n",
       "      <td>1.77816</td>\n",
       "      <td>4.481469</td>\n",
       "      <td>1.308922e+05</td>\n",
       "      <td>7.592364e+04</td>\n",
       "      <td>1.167423e+05</td>\n",
       "      <td>8.151411e+04</td>\n",
       "      <td>63.377845</td>\n",
       "      <td>6.729432</td>\n",
       "    </tr>\n",
       "    <tr>\n",
       "      <th>std</th>\n",
       "      <td>44.785338</td>\n",
       "      <td>13.349754</td>\n",
       "      <td>0.456489</td>\n",
       "      <td>11.08882</td>\n",
       "      <td>9.475993</td>\n",
       "      <td>2.140265e+05</td>\n",
       "      <td>1.403256e+05</td>\n",
       "      <td>2.139759e+05</td>\n",
       "      <td>1.569691e+05</td>\n",
       "      <td>15.957457</td>\n",
       "      <td>1.786600</td>\n",
       "    </tr>\n",
       "    <tr>\n",
       "      <th>min</th>\n",
       "      <td>0.000000</td>\n",
       "      <td>1.000000</td>\n",
       "      <td>0.000000</td>\n",
       "      <td>0.00000</td>\n",
       "      <td>0.000000</td>\n",
       "      <td>4.000000e+03</td>\n",
       "      <td>3.000000e+00</td>\n",
       "      <td>1.000000e+03</td>\n",
       "      <td>5.000000e+02</td>\n",
       "      <td>12.190000</td>\n",
       "      <td>3.250000</td>\n",
       "    </tr>\n",
       "    <tr>\n",
       "      <th>25%</th>\n",
       "      <td>29.000000</td>\n",
       "      <td>2.000000</td>\n",
       "      <td>0.000000</td>\n",
       "      <td>0.00000</td>\n",
       "      <td>1.000000</td>\n",
       "      <td>2.609150e+04</td>\n",
       "      <td>1.527300e+04</td>\n",
       "      <td>2.500000e+04</td>\n",
       "      <td>1.250000e+04</td>\n",
       "      <td>50.000000</td>\n",
       "      <td>5.000000</td>\n",
       "    </tr>\n",
       "    <tr>\n",
       "      <th>50%</th>\n",
       "      <td>49.000000</td>\n",
       "      <td>3.000000</td>\n",
       "      <td>0.000000</td>\n",
       "      <td>0.00000</td>\n",
       "      <td>2.000000</td>\n",
       "      <td>6.000000e+04</td>\n",
       "      <td>3.329800e+04</td>\n",
       "      <td>5.000000e+04</td>\n",
       "      <td>2.500000e+04</td>\n",
       "      <td>50.000000</td>\n",
       "      <td>7.500000</td>\n",
       "    </tr>\n",
       "    <tr>\n",
       "      <th>75%</th>\n",
       "      <td>67.000000</td>\n",
       "      <td>6.000000</td>\n",
       "      <td>1.000000</td>\n",
       "      <td>2.00000</td>\n",
       "      <td>5.000000</td>\n",
       "      <td>1.350000e+05</td>\n",
       "      <td>7.407875e+04</td>\n",
       "      <td>1.000000e+05</td>\n",
       "      <td>7.500000e+04</td>\n",
       "      <td>80.000000</td>\n",
       "      <td>8.250000</td>\n",
       "    </tr>\n",
       "    <tr>\n",
       "      <th>max</th>\n",
       "      <td>438.000000</td>\n",
       "      <td>1200.000000</td>\n",
       "      <td>1.000000</td>\n",
       "      <td>1229.00000</td>\n",
       "      <td>450.000000</td>\n",
       "      <td>4.362157e+06</td>\n",
       "      <td>3.512596e+06</td>\n",
       "      <td>3.500000e+06</td>\n",
       "      <td>3.411950e+06</td>\n",
       "      <td>100.000000</td>\n",
       "      <td>11.500000</td>\n",
       "    </tr>\n",
       "  </tbody>\n",
       "</table>\n",
       "</div>"
      ],
      "text/plain": [
       "                Term          NoEmp       NewExist     CreateJob  \\\n",
       "count  148720.000000  148720.000000  148720.000000  148720.00000   \n",
       "mean       55.359098       6.453362       0.295992       1.77816   \n",
       "std        44.785338      13.349754       0.456489      11.08882   \n",
       "min         0.000000       1.000000       0.000000       0.00000   \n",
       "25%        29.000000       2.000000       0.000000       0.00000   \n",
       "50%        49.000000       3.000000       0.000000       0.00000   \n",
       "75%        67.000000       6.000000       1.000000       2.00000   \n",
       "max       438.000000    1200.000000       1.000000    1229.00000   \n",
       "\n",
       "         RetainedJob  DisbursementGross  ChgOffPrinGr        GrAppv  \\\n",
       "count  148720.000000       1.487200e+05  1.487200e+05  1.487200e+05   \n",
       "mean        4.481469       1.308922e+05  7.592364e+04  1.167423e+05   \n",
       "std         9.475993       2.140265e+05  1.403256e+05  2.139759e+05   \n",
       "min         0.000000       4.000000e+03  3.000000e+00  1.000000e+03   \n",
       "25%         1.000000       2.609150e+04  1.527300e+04  2.500000e+04   \n",
       "50%         2.000000       6.000000e+04  3.329800e+04  5.000000e+04   \n",
       "75%         5.000000       1.350000e+05  7.407875e+04  1.000000e+05   \n",
       "max       450.000000       4.362157e+06  3.512596e+06  3.500000e+06   \n",
       "\n",
       "           SBA_Appv       appv_pct         DPRIME  \n",
       "count  1.487200e+05  148720.000000  148720.000000  \n",
       "mean   8.151411e+04      63.377845       6.729432  \n",
       "std    1.569691e+05      15.957457       1.786600  \n",
       "min    5.000000e+02      12.190000       3.250000  \n",
       "25%    1.250000e+04      50.000000       5.000000  \n",
       "50%    2.500000e+04      50.000000       7.500000  \n",
       "75%    7.500000e+04      80.000000       8.250000  \n",
       "max    3.411950e+06     100.000000      11.500000  "
      ]
     },
     "execution_count": 21,
     "metadata": {},
     "output_type": "execute_result"
    }
   ],
   "source": [
    "# 형태는 수치형이지만 의미상 범주형인 경우 제외\n",
    "df1[['Term','NoEmp','NewExist','CreateJob','RetainedJob','DisbursementGross','ChgOffPrinGr','GrAppv', 'SBA_Appv','appv_pct','DPRIME']].describe()"
   ]
  },
  {
   "cell_type": "markdown",
   "metadata": {},
   "source": [
    "## 4. 결측치 확인"
   ]
  },
  {
   "cell_type": "code",
   "execution_count": 20,
   "metadata": {},
   "outputs": [
    {
     "data": {
      "text/plain": [
       "LoanNr_ChkDgt        0\n",
       "Name                 0\n",
       "City                 0\n",
       "State                0\n",
       "Zip                  0\n",
       "Bank                 0\n",
       "BankState            0\n",
       "NAICS                0\n",
       "ApprovalDate         0\n",
       "ApprovalFY           0\n",
       "Term                 0\n",
       "NoEmp                0\n",
       "NewExist             0\n",
       "CreateJob            0\n",
       "RetainedJob          0\n",
       "FranchiseCode        0\n",
       "UrbanRural           0\n",
       "LowDoc               0\n",
       "ChgOffDate           0\n",
       "DisbursementDate     0\n",
       "DisbursementGross    0\n",
       "MIS_Status           0\n",
       "ChgOffPrinGr         0\n",
       "GrAppv               0\n",
       "SBA_Appv             0\n",
       "SameState            0\n",
       "Recession            0\n",
       "ChgOffDate2          0\n",
       "Term_re              0\n",
       "smallmedium          0\n",
       "createjob2           0\n",
       "retainedjob2         0\n",
       "dis_re               0\n",
       "appv_pct             0\n",
       "DPRIME               0\n",
       "dprime2              0\n",
       "growth_potential     0\n",
       "dtype: int64"
      ]
     },
     "execution_count": 20,
     "metadata": {},
     "output_type": "execute_result"
    }
   ],
   "source": [
    "df1.isna().sum()"
   ]
  },
  {
   "cell_type": "markdown",
   "metadata": {},
   "source": [
    "## 5. 이상치 확인\n",
    "- 수치형 변수들에 한해 이상치 파악\n",
    "- 형태는 수치형이지만, 의미상 범주형인 경우 제외"
   ]
  },
  {
   "cell_type": "code",
   "execution_count": 12,
   "metadata": {},
   "outputs": [
    {
     "data": {
      "image/png": "[encoded data removed]",
      "text/plain": [
       "<Figure size 720x504 with 1 Axes>"
      ]
     },
     "metadata": {
      "image/png": {
       "height": 427,
       "width": 601
      },
      "needs_background": "light"
     },
     "output_type": "display_data"
    }
   ],
   "source": [
    "#matplotlib을 이용한 BoxPlot\n",
    "plt.figure(figsize=(10, 7))\n",
    "df1.boxplot(column=['Term', 'NoEmp', 'NewExist', 'CreateJob', 'RetainedJob'])\n",
    "plt.title(\"Box Plot\")\n",
    "plt.show()"
   ]
  },
  {
   "cell_type": "code",
   "execution_count": 23,
   "metadata": {},
   "outputs": [
    {
     "data": {
      "image/png": "[encoded data removed]",
      "text/plain": [
       "<Figure size 720x504 with 1 Axes>"
      ]
     },
     "metadata": {
      "image/png": {
       "height": 427,
       "width": 617
      },
      "needs_background": "light"
     },
     "output_type": "display_data"
    }
   ],
   "source": [
    "#matplotlib을 이용한 BoxPlot\n",
    "plt.figure(figsize=(10, 7))\n",
    "df1.boxplot(column=['DisbursementGross','ChgOffPrinGr', 'GrAppv', 'SBA_Appv'])\n",
    "plt.ticklabel_format(style='plain', axis='y') # 왼쪽 축의 표시 형식 변경\n",
    "plt.title(\"Box Plot\")\n",
    "plt.show()"
   ]
  },
  {
   "cell_type": "code",
   "execution_count": 24,
   "metadata": {},
   "outputs": [
    {
     "data": {
      "image/png": "[encoded data removed]",
      "text/plain": [
       "<Figure size 432x288 with 1 Axes>"
      ]
     },
     "metadata": {
      "image/png": {
       "height": 279,
       "width": 352
      },
      "needs_background": "light"
     },
     "output_type": "display_data"
    },
    {
     "data": {
      "image/png": "[encoded data removed]",
      "text/plain": [
       "<Figure size 432x288 with 1 Axes>"
      ]
     },
     "metadata": {
      "image/png": {
       "height": 280,
       "width": 352
      },
      "needs_background": "light"
     },
     "output_type": "display_data"
    },
    {
     "data": {
      "image/png": "[encoded data removed]",
      "text/plain": [
       "<Figure size 432x288 with 1 Axes>"
      ]
     },
     "metadata": {
      "image/png": {
       "height": 279,
       "width": 352
      },
      "needs_background": "light"
     },
     "output_type": "display_data"
    },
    {
     "data": {
      "image/png": "[encoded data removed]",
      "text/plain": [
       "<Figure size 432x288 with 1 Axes>"
      ]
     },
     "metadata": {
      "image/png": {
       "height": 279,
       "width": 352
      },
      "needs_background": "light"
     },
     "output_type": "display_data"
    },
    {
     "data": {
      "image/png": "[encoded data removed]",
      "text/plain": [
       "<Figure size 432x288 with 1 Axes>"
      ]
     },
     "metadata": {
      "image/png": {
       "height": 279,
       "width": 352
      },
      "needs_background": "light"
     },
     "output_type": "display_data"
    },
    {
     "data": {
      "image/png": "[encoded data removed]",
      "text/plain": [
       "<Figure size 432x288 with 1 Axes>"
      ]
     },
     "metadata": {
      "image/png": {
       "height": 279,
       "width": 352
      },
      "needs_background": "light"
     },
     "output_type": "display_data"
    },
    {
     "data": {
      "image/png": "[encoded data removed]",
      "text/plain": [
       "<Figure size 432x288 with 1 Axes>"
      ]
     },
     "metadata": {
      "image/png": {
       "height": 280,
       "width": 352
      },
      "needs_background": "light"
     },
     "output_type": "display_data"
    },
    {
     "data": {
      "image/png": "[encoded data removed]",
      "text/plain": [
       "<Figure size 432x288 with 1 Axes>"
      ]
     },
     "metadata": {
      "image/png": {
       "height": 280,
       "width": 352
      },
      "needs_background": "light"
     },
     "output_type": "display_data"
    },
    {
     "data": {
      "image/png": "[encoded data removed]",
      "text/plain": [
       "<Figure size 432x288 with 1 Axes>"
      ]
     },
     "metadata": {
      "image/png": {
       "height": 280,
       "width": 352
      },
      "needs_background": "light"
     },
     "output_type": "display_data"
    },
    {
     "data": {
      "image/png": "[encoded data removed]",
      "text/plain": [
       "<Figure size 432x288 with 1 Axes>"
      ]
     },
     "metadata": {
      "image/png": {
       "height": 280,
       "width": 352
      },
      "needs_background": "light"
     },
     "output_type": "display_data"
    },
    {
     "data": {
      "image/png": "[encoded data removed]",
      "text/plain": [
       "<Figure size 432x288 with 1 Axes>"
      ]
     },
     "metadata": {
      "image/png": {
       "height": 279,
       "width": 352
      },
      "needs_background": "light"
     },
     "output_type": "display_data"
    }
   ],
   "source": [
    "for column in ['Term','NoEmp','NewExist','CreateJob','RetainedJob','DisbursementGross','ChgOffPrinGr','GrAppv', 'SBA_Appv','appv_pct','DPRIME']:\n",
    "    sns.boxplot(x=column, data=df1)\n",
    "    plt.title('{} 박스플롯'.format(column))\n",
    "    plt.show()"
   ]
  },
  {
   "cell_type": "markdown",
   "metadata": {},
   "source": [
    "## 6. 상관계수 확인"
   ]
  },
  {
   "cell_type": "code",
   "execution_count": 28,
   "metadata": {},
   "outputs": [
    {
     "data": {
      "text/html": [
       "<div>\n",
       "<style scoped>\n",
       "    .dataframe tbody tr th:only-of-type {\n",
       "        vertical-align: middle;\n",
       "    }\n",
       "\n",
       "    .dataframe tbody tr th {\n",
       "        vertical-align: top;\n",
       "    }\n",
       "\n",
       "    .dataframe thead th {\n",
       "        text-align: right;\n",
       "    }\n",
       "</style>\n",
       "<table border=\"1\" class=\"dataframe\">\n",
       "  <thead>\n",
       "    <tr style=\"text-align: right;\">\n",
       "      <th></th>\n",
       "      <th>Term</th>\n",
       "      <th>NoEmp</th>\n",
       "      <th>NewExist</th>\n",
       "      <th>CreateJob</th>\n",
       "      <th>RetainedJob</th>\n",
       "      <th>DisbursementGross</th>\n",
       "      <th>ChgOffPrinGr</th>\n",
       "      <th>GrAppv</th>\n",
       "      <th>SBA_Appv</th>\n",
       "      <th>appv_pct</th>\n",
       "      <th>DPRIME</th>\n",
       "    </tr>\n",
       "  </thead>\n",
       "  <tbody>\n",
       "    <tr>\n",
       "      <th>Term</th>\n",
       "      <td>1.000000</td>\n",
       "      <td>0.080032</td>\n",
       "      <td>0.076308</td>\n",
       "      <td>0.027164</td>\n",
       "      <td>-0.010755</td>\n",
       "      <td>0.475243</td>\n",
       "      <td>0.442487</td>\n",
       "      <td>0.514150</td>\n",
       "      <td>0.527438</td>\n",
       "      <td>0.315161</td>\n",
       "      <td>0.091341</td>\n",
       "    </tr>\n",
       "    <tr>\n",
       "      <th>NoEmp</th>\n",
       "      <td>0.080032</td>\n",
       "      <td>1.000000</td>\n",
       "      <td>-0.077962</td>\n",
       "      <td>0.146306</td>\n",
       "      <td>0.585135</td>\n",
       "      <td>0.284489</td>\n",
       "      <td>0.244854</td>\n",
       "      <td>0.281641</td>\n",
       "      <td>0.275913</td>\n",
       "      <td>0.048310</td>\n",
       "      <td>0.037621</td>\n",
       "    </tr>\n",
       "    <tr>\n",
       "      <th>NewExist</th>\n",
       "      <td>0.076308</td>\n",
       "      <td>-0.077962</td>\n",
       "      <td>1.000000</td>\n",
       "      <td>0.056046</td>\n",
       "      <td>-0.110000</td>\n",
       "      <td>0.002834</td>\n",
       "      <td>0.024656</td>\n",
       "      <td>0.024012</td>\n",
       "      <td>0.038475</td>\n",
       "      <td>0.232280</td>\n",
       "      <td>0.048496</td>\n",
       "    </tr>\n",
       "    <tr>\n",
       "      <th>CreateJob</th>\n",
       "      <td>0.027164</td>\n",
       "      <td>0.146306</td>\n",
       "      <td>0.056046</td>\n",
       "      <td>1.000000</td>\n",
       "      <td>0.137042</td>\n",
       "      <td>0.074374</td>\n",
       "      <td>0.085316</td>\n",
       "      <td>0.073752</td>\n",
       "      <td>0.071707</td>\n",
       "      <td>0.015750</td>\n",
       "      <td>-0.005045</td>\n",
       "    </tr>\n",
       "    <tr>\n",
       "      <th>RetainedJob</th>\n",
       "      <td>-0.010755</td>\n",
       "      <td>0.585135</td>\n",
       "      <td>-0.110000</td>\n",
       "      <td>0.137042</td>\n",
       "      <td>1.000000</td>\n",
       "      <td>0.162586</td>\n",
       "      <td>0.150385</td>\n",
       "      <td>0.141857</td>\n",
       "      <td>0.127584</td>\n",
       "      <td>-0.111779</td>\n",
       "      <td>-0.026765</td>\n",
       "    </tr>\n",
       "    <tr>\n",
       "      <th>DisbursementGross</th>\n",
       "      <td>0.475243</td>\n",
       "      <td>0.284489</td>\n",
       "      <td>0.002834</td>\n",
       "      <td>0.074374</td>\n",
       "      <td>0.162586</td>\n",
       "      <td>1.000000</td>\n",
       "      <td>0.882338</td>\n",
       "      <td>0.974846</td>\n",
       "      <td>0.955444</td>\n",
       "      <td>0.158787</td>\n",
       "      <td>0.072884</td>\n",
       "    </tr>\n",
       "    <tr>\n",
       "      <th>ChgOffPrinGr</th>\n",
       "      <td>0.442487</td>\n",
       "      <td>0.244854</td>\n",
       "      <td>0.024656</td>\n",
       "      <td>0.085316</td>\n",
       "      <td>0.150385</td>\n",
       "      <td>0.882338</td>\n",
       "      <td>1.000000</td>\n",
       "      <td>0.892175</td>\n",
       "      <td>0.883995</td>\n",
       "      <td>0.182887</td>\n",
       "      <td>0.058693</td>\n",
       "    </tr>\n",
       "    <tr>\n",
       "      <th>GrAppv</th>\n",
       "      <td>0.514150</td>\n",
       "      <td>0.281641</td>\n",
       "      <td>0.024012</td>\n",
       "      <td>0.073752</td>\n",
       "      <td>0.141857</td>\n",
       "      <td>0.974846</td>\n",
       "      <td>0.892175</td>\n",
       "      <td>1.000000</td>\n",
       "      <td>0.987416</td>\n",
       "      <td>0.220394</td>\n",
       "      <td>0.061448</td>\n",
       "    </tr>\n",
       "    <tr>\n",
       "      <th>SBA_Appv</th>\n",
       "      <td>0.527438</td>\n",
       "      <td>0.275913</td>\n",
       "      <td>0.038475</td>\n",
       "      <td>0.071707</td>\n",
       "      <td>0.127584</td>\n",
       "      <td>0.955444</td>\n",
       "      <td>0.883995</td>\n",
       "      <td>0.987416</td>\n",
       "      <td>1.000000</td>\n",
       "      <td>0.285438</td>\n",
       "      <td>0.057750</td>\n",
       "    </tr>\n",
       "    <tr>\n",
       "      <th>appv_pct</th>\n",
       "      <td>0.315161</td>\n",
       "      <td>0.048310</td>\n",
       "      <td>0.232280</td>\n",
       "      <td>0.015750</td>\n",
       "      <td>-0.111779</td>\n",
       "      <td>0.158787</td>\n",
       "      <td>0.182887</td>\n",
       "      <td>0.220394</td>\n",
       "      <td>0.285438</td>\n",
       "      <td>1.000000</td>\n",
       "      <td>-0.016886</td>\n",
       "    </tr>\n",
       "    <tr>\n",
       "      <th>DPRIME</th>\n",
       "      <td>0.091341</td>\n",
       "      <td>0.037621</td>\n",
       "      <td>0.048496</td>\n",
       "      <td>-0.005045</td>\n",
       "      <td>-0.026765</td>\n",
       "      <td>0.072884</td>\n",
       "      <td>0.058693</td>\n",
       "      <td>0.061448</td>\n",
       "      <td>0.057750</td>\n",
       "      <td>-0.016886</td>\n",
       "      <td>1.000000</td>\n",
       "    </tr>\n",
       "  </tbody>\n",
       "</table>\n",
       "</div>"
      ],
      "text/plain": [
       "                       Term     NoEmp  NewExist  CreateJob  RetainedJob  \\\n",
       "Term               1.000000  0.080032  0.076308   0.027164    -0.010755   \n",
       "NoEmp              0.080032  1.000000 -0.077962   0.146306     0.585135   \n",
       "NewExist           0.076308 -0.077962  1.000000   0.056046    -0.110000   \n",
       "CreateJob          0.027164  0.146306  0.056046   1.000000     0.137042   \n",
       "RetainedJob       -0.010755  0.585135 -0.110000   0.137042     1.000000   \n",
       "DisbursementGross  0.475243  0.284489  0.002834   0.074374     0.162586   \n",
       "ChgOffPrinGr       0.442487  0.244854  0.024656   0.085316     0.150385   \n",
       "GrAppv             0.514150  0.281641  0.024012   0.073752     0.141857   \n",
       "SBA_Appv           0.527438  0.275913  0.038475   0.071707     0.127584   \n",
       "appv_pct           0.315161  0.048310  0.232280   0.015750    -0.111779   \n",
       "DPRIME             0.091341  0.037621  0.048496  -0.005045    -0.026765   \n",
       "\n",
       "                   DisbursementGross  ChgOffPrinGr    GrAppv  SBA_Appv  \\\n",
       "Term                        0.475243      0.442487  0.514150  0.527438   \n",
       "NoEmp                       0.284489      0.244854  0.281641  0.275913   \n",
       "NewExist                    0.002834      0.024656  0.024012  0.038475   \n",
       "CreateJob                   0.074374      0.085316  0.073752  0.071707   \n",
       "RetainedJob                 0.162586      0.150385  0.141857  0.127584   \n",
       "DisbursementGross           1.000000      0.882338  0.974846  0.955444   \n",
       "ChgOffPrinGr                0.882338      1.000000  0.892175  0.883995   \n",
       "GrAppv                      0.974846      0.892175  1.000000  0.987416   \n",
       "SBA_Appv                    0.955444      0.883995  0.987416  1.000000   \n",
       "appv_pct                    0.158787      0.182887  0.220394  0.285438   \n",
       "DPRIME                      0.072884      0.058693  0.061448  0.057750   \n",
       "\n",
       "                   appv_pct    DPRIME  \n",
       "Term               0.315161  0.091341  \n",
       "NoEmp              0.048310  0.037621  \n",
       "NewExist           0.232280  0.048496  \n",
       "CreateJob          0.015750 -0.005045  \n",
       "RetainedJob       -0.111779 -0.026765  \n",
       "DisbursementGross  0.158787  0.072884  \n",
       "ChgOffPrinGr       0.182887  0.058693  \n",
       "GrAppv             0.220394  0.061448  \n",
       "SBA_Appv           0.285438  0.057750  \n",
       "appv_pct           1.000000 -0.016886  \n",
       "DPRIME            -0.016886  1.000000  "
      ]
     },
     "execution_count": 28,
     "metadata": {},
     "output_type": "execute_result"
    }
   ],
   "source": [
    "# 변수 간 상관계수 계산\n",
    "cor = df1[['Term','NoEmp','NewExist','CreateJob','RetainedJob','DisbursementGross','ChgOffPrinGr','GrAppv', 'SBA_Appv','appv_pct','DPRIME']].corr()\n",
    "cor"
   ]
  },
  {
   "cell_type": "code",
   "execution_count": 29,
   "metadata": {},
   "outputs": [
    {
     "data": {
      "text/plain": [
       "Text(0.5, 1.0, '상관계수 히트맵')"
      ]
     },
     "execution_count": 29,
     "metadata": {},
     "output_type": "execute_result"
    },
    {
     "data": {
      "image/png": "[encoded data removed]",
      "text/plain": [
       "<Figure size 576x504 with 2 Axes>"
      ]
     },
     "metadata": {
      "image/png": {
       "height": 504,
       "width": 537
      },
      "needs_background": "light"
     },
     "output_type": "display_data"
    }
   ],
   "source": [
    "# 히트맵 시각화\n",
    "plt.figure(figsize=(8,7)) #사이즈 조정\n",
    "sns.heatmap(cor, cmap=\"coolwarm\", annot=True, vmin=-1,vmax=1)\n",
    "plt.title('상관계수 히트맵')"
   ]
  },
  {
   "cell_type": "code",
   "execution_count": 30,
   "metadata": {},
   "outputs": [
    {
     "data": {
      "text/plain": [
       "Text(0.5, 1.0, '상관계수 히트맵')"
      ]
     },
     "execution_count": 30,
     "metadata": {},
     "output_type": "execute_result"
    },
    {
     "data": {
      "image/png": "[encoded data removed]",
      "text/plain": [
       "<Figure size 576x504 with 2 Axes>"
      ]
     },
     "metadata": {
      "image/png": {
       "height": 504,
       "width": 537
      },
      "needs_background": "light"
     },
     "output_type": "display_data"
    }
   ],
   "source": [
    "# 히트맵에서 상관계수의 절댓값이 0.4 이상인 경우만 추출\n",
    "plt.figure(figsize=(8,7))\n",
    "sns.heatmap(cor[abs(cor) >= 0.4], cmap=\"coolwarm\", annot=True, vmin=-1,vmax=1)\n",
    "plt.title('상관계수 히트맵')"
   ]
  },
  {
   "cell_type": "markdown",
   "metadata": {},
   "source": [
    "- 대출기간과 (대출금액, 청구금액, 은행 승인 대출금액, SBA 승인 대출금액) 사이에 강한 양의 상관관계가 존재한다.\n",
    "- 직원 수와 기존 직원 수 사이에 강한 양의 상관관계가 존재한다.\n",
    "- 대출 금액과 (청구금액, 은행 승인 대출금액, SBA 승인 대출금액) 사이에 뚜렷한 양의 상관관계가 존재한다.\n",
    "- 청구금액과 (은행 승인 대출금액, SBA 승인 대출금액) 사이에 뚜렷한 양의 상관관계가 존재한다.\n",
    "- 은행 승인 대출금액과 SBA 승인 대출금액 사이에 뚜렷한 양의 상관관계가 존재한다."
   ]
  },
  {
   "cell_type": "markdown",
   "metadata": {},
   "source": [
    "## 7. 변수별 분포 확인"
   ]
  },
  {
   "cell_type": "markdown",
   "metadata": {},
   "source": [
    "### 7.1 범주형 변수"
   ]
  },
  {
   "cell_type": "code",
   "execution_count": 11,
   "metadata": {},
   "outputs": [
    {
     "name": "stdout",
     "output_type": "stream",
     "text": [
      "<class 'pandas.core.frame.DataFrame'>\n",
      "Int64Index: 148720 entries, 12 to 864702\n",
      "Data columns (total 37 columns):\n",
      " #   Column             Non-Null Count   Dtype  \n",
      "---  ------             --------------   -----  \n",
      " 0   LoanNr_ChkDgt      148720 non-null  int64  \n",
      " 1   Name               148720 non-null  object \n",
      " 2   City               148720 non-null  object \n",
      " 3   State              148720 non-null  object \n",
      " 4   Zip                148720 non-null  int64  \n",
      " 5   Bank               148720 non-null  object \n",
      " 6   BankState          148720 non-null  object \n",
      " 7   NAICS              148720 non-null  int64  \n",
      " 8   ApprovalDate       148720 non-null  object \n",
      " 9   ApprovalFY         148720 non-null  int64  \n",
      " 10  Term               148720 non-null  int64  \n",
      " 11  NoEmp              148720 non-null  int64  \n",
      " 12  NewExist           148720 non-null  int64  \n",
      " 13  CreateJob          148720 non-null  int64  \n",
      " 14  RetainedJob        148720 non-null  int64  \n",
      " 15  FranchiseCode      148720 non-null  int64  \n",
      " 16  UrbanRural         148720 non-null  int64  \n",
      " 17  LowDoc             148720 non-null  int64  \n",
      " 18  ChgOffDate         148720 non-null  object \n",
      " 19  DisbursementDate   148720 non-null  object \n",
      " 20  DisbursementGross  148720 non-null  int64  \n",
      " 21  MIS_Status         148720 non-null  int64  \n",
      " 22  ChgOffPrinGr       148720 non-null  int64  \n",
      " 23  GrAppv             148720 non-null  int64  \n",
      " 24  SBA_Appv           148720 non-null  int64  \n",
      " 25  SameState          148720 non-null  int64  \n",
      " 26  Recession          148720 non-null  int64  \n",
      " 27  ChgOffDate2        148720 non-null  object \n",
      " 28  Term_re            148720 non-null  int64  \n",
      " 29  smallmedium        148720 non-null  int64  \n",
      " 30  createjob2         148720 non-null  int64  \n",
      " 31  retainedjob2       148720 non-null  int64  \n",
      " 32  dis_re             148720 non-null  int64  \n",
      " 33  appv_pct           148720 non-null  float64\n",
      " 34  DPRIME             148720 non-null  float64\n",
      " 35  dprime2            148720 non-null  int64  \n",
      " 36  growth_potential   148720 non-null  int64  \n",
      "dtypes: float64(2), int64(26), object(9)\n",
      "memory usage: 43.1+ MB\n"
     ]
    }
   ],
   "source": [
    "df1.info()"
   ]
  },
  {
   "cell_type": "markdown",
   "metadata": {},
   "source": [
    "#### (1) Name : 차용 기업명"
   ]
  },
  {
   "cell_type": "code",
   "execution_count": 12,
   "metadata": {},
   "outputs": [
    {
     "data": {
      "text/plain": [
       "12                FAMILY CARPET CLEANING\n",
       "55        CONTRACT CONNECTIONS INDUSTRIE\n",
       "76        PRECISION TUNE AUTO SERVICE CE\n",
       "157                    JOSIES RESTAURANT\n",
       "183       STEPHEN & ASSOCIATES BUILDERS,\n",
       "                       ...              \n",
       "864639              D & C CLEANERS, INC.\n",
       "864648    THE PRINTING PROFESSIONALS,INC\n",
       "864696                        DAD'S INC.\n",
       "864699                GLOBAL DRUGS, INC.\n",
       "864702           DAEDALUS RESEARCH, INC.\n",
       "Name: Name, Length: 148720, dtype: object"
      ]
     },
     "execution_count": 12,
     "metadata": {},
     "output_type": "execute_result"
    }
   ],
   "source": [
    "df1.Name"
   ]
  },
  {
   "cell_type": "code",
   "execution_count": 13,
   "metadata": {},
   "outputs": [
    {
     "data": {
      "text/plain": [
       "137793"
      ]
     },
     "execution_count": 13,
     "metadata": {},
     "output_type": "execute_result"
    }
   ],
   "source": [
    "len(df1.Name.unique())"
   ]
  },
  {
   "cell_type": "markdown",
   "metadata": {},
   "source": [
    "=> 고유값의 개수(137793)가 df1 행의 개수와 일치하지 않으므로 2회 이상 빌린 기업이 있다고 볼 수 있다."
   ]
  },
  {
   "cell_type": "code",
   "execution_count": 14,
   "metadata": {},
   "outputs": [
    {
     "data": {
      "text/html": [
       "<div>\n",
       "<style scoped>\n",
       "    .dataframe tbody tr th:only-of-type {\n",
       "        vertical-align: middle;\n",
       "    }\n",
       "\n",
       "    .dataframe tbody tr th {\n",
       "        vertical-align: top;\n",
       "    }\n",
       "\n",
       "    .dataframe thead th {\n",
       "        text-align: right;\n",
       "    }\n",
       "</style>\n",
       "<table border=\"1\" class=\"dataframe\">\n",
       "  <thead>\n",
       "    <tr style=\"text-align: right;\">\n",
       "      <th></th>\n",
       "      <th>LoanNr_ChkDgt</th>\n",
       "      <th>Name</th>\n",
       "      <th>City</th>\n",
       "      <th>State</th>\n",
       "      <th>Zip</th>\n",
       "      <th>Bank</th>\n",
       "      <th>BankState</th>\n",
       "      <th>NAICS</th>\n",
       "      <th>ApprovalDate</th>\n",
       "      <th>ApprovalFY</th>\n",
       "      <th>...</th>\n",
       "      <th>ChgOffDate2</th>\n",
       "      <th>Term_re</th>\n",
       "      <th>smallmedium</th>\n",
       "      <th>createjob2</th>\n",
       "      <th>retainedjob2</th>\n",
       "      <th>dis_re</th>\n",
       "      <th>appv_pct</th>\n",
       "      <th>DPRIME</th>\n",
       "      <th>dprime2</th>\n",
       "      <th>growth_potential</th>\n",
       "    </tr>\n",
       "  </thead>\n",
       "  <tbody>\n",
       "    <tr>\n",
       "      <th>186</th>\n",
       "      <td>1692734007</td>\n",
       "      <td>NERAKO ENTERPRISES, INC.</td>\n",
       "      <td>CANTON</td>\n",
       "      <td>OH</td>\n",
       "      <td>44709</td>\n",
       "      <td>THE HUNTINGTON NATIONAL BANK</td>\n",
       "      <td>OH</td>\n",
       "      <td>5</td>\n",
       "      <td>1997-11-20</td>\n",
       "      <td>1998</td>\n",
       "      <td>...</td>\n",
       "      <td>1999-02-28</td>\n",
       "      <td>0</td>\n",
       "      <td>0</td>\n",
       "      <td>0</td>\n",
       "      <td>0</td>\n",
       "      <td>3</td>\n",
       "      <td>75.0</td>\n",
       "      <td>7.75</td>\n",
       "      <td>0</td>\n",
       "      <td>1</td>\n",
       "    </tr>\n",
       "    <tr>\n",
       "      <th>187</th>\n",
       "      <td>1694814000</td>\n",
       "      <td>QUIZNO'S CLASSIC SUBS</td>\n",
       "      <td>AUSTIN</td>\n",
       "      <td>TX</td>\n",
       "      <td>78750</td>\n",
       "      <td>UNION STATE BANK</td>\n",
       "      <td>TX</td>\n",
       "      <td>10</td>\n",
       "      <td>1997-11-21</td>\n",
       "      <td>1998</td>\n",
       "      <td>...</td>\n",
       "      <td>2002-10-10</td>\n",
       "      <td>0</td>\n",
       "      <td>0</td>\n",
       "      <td>0</td>\n",
       "      <td>0</td>\n",
       "      <td>2</td>\n",
       "      <td>80.0</td>\n",
       "      <td>7.75</td>\n",
       "      <td>0</td>\n",
       "      <td>1</td>\n",
       "    </tr>\n",
       "    <tr>\n",
       "      <th>262</th>\n",
       "      <td>1816284006</td>\n",
       "      <td>SHARINNA'S POLISH DELI &amp; BAKER</td>\n",
       "      <td>MANISTEE</td>\n",
       "      <td>MI</td>\n",
       "      <td>49660</td>\n",
       "      <td>FIFTH THIRD BANK</td>\n",
       "      <td>OH</td>\n",
       "      <td>13</td>\n",
       "      <td>1998-02-02</td>\n",
       "      <td>1998</td>\n",
       "      <td>...</td>\n",
       "      <td>2017-02-23</td>\n",
       "      <td>2</td>\n",
       "      <td>0</td>\n",
       "      <td>0</td>\n",
       "      <td>0</td>\n",
       "      <td>3</td>\n",
       "      <td>75.0</td>\n",
       "      <td>7.75</td>\n",
       "      <td>0</td>\n",
       "      <td>2</td>\n",
       "    </tr>\n",
       "    <tr>\n",
       "      <th>263</th>\n",
       "      <td>1816444006</td>\n",
       "      <td>SHARINNA'S POLISH DELI &amp; BAKER</td>\n",
       "      <td>MANISTEE</td>\n",
       "      <td>MI</td>\n",
       "      <td>49660</td>\n",
       "      <td>FIFTH THIRD BANK</td>\n",
       "      <td>OH</td>\n",
       "      <td>20</td>\n",
       "      <td>1998-02-02</td>\n",
       "      <td>1998</td>\n",
       "      <td>...</td>\n",
       "      <td>2004-10-29</td>\n",
       "      <td>1</td>\n",
       "      <td>0</td>\n",
       "      <td>0</td>\n",
       "      <td>0</td>\n",
       "      <td>3</td>\n",
       "      <td>75.0</td>\n",
       "      <td>7.75</td>\n",
       "      <td>0</td>\n",
       "      <td>2</td>\n",
       "    </tr>\n",
       "    <tr>\n",
       "      <th>614</th>\n",
       "      <td>2207764007</td>\n",
       "      <td>CRAWFORD PRODUCTS</td>\n",
       "      <td>NEW SMYRNA BEACH</td>\n",
       "      <td>FL</td>\n",
       "      <td>32168</td>\n",
       "      <td>TD BANK, NATIONAL ASSOCIATION</td>\n",
       "      <td>FL</td>\n",
       "      <td>14</td>\n",
       "      <td>1998-07-22</td>\n",
       "      <td>1998</td>\n",
       "      <td>...</td>\n",
       "      <td>1999-08-27</td>\n",
       "      <td>0</td>\n",
       "      <td>0</td>\n",
       "      <td>0</td>\n",
       "      <td>0</td>\n",
       "      <td>2</td>\n",
       "      <td>75.0</td>\n",
       "      <td>7.75</td>\n",
       "      <td>0</td>\n",
       "      <td>2</td>\n",
       "    </tr>\n",
       "    <tr>\n",
       "      <th>...</th>\n",
       "      <td>...</td>\n",
       "      <td>...</td>\n",
       "      <td>...</td>\n",
       "      <td>...</td>\n",
       "      <td>...</td>\n",
       "      <td>...</td>\n",
       "      <td>...</td>\n",
       "      <td>...</td>\n",
       "      <td>...</td>\n",
       "      <td>...</td>\n",
       "      <td>...</td>\n",
       "      <td>...</td>\n",
       "      <td>...</td>\n",
       "      <td>...</td>\n",
       "      <td>...</td>\n",
       "      <td>...</td>\n",
       "      <td>...</td>\n",
       "      <td>...</td>\n",
       "      <td>...</td>\n",
       "      <td>...</td>\n",
       "      <td>...</td>\n",
       "    </tr>\n",
       "    <tr>\n",
       "      <th>863911</th>\n",
       "      <td>9727903000</td>\n",
       "      <td>JODY'S</td>\n",
       "      <td>BELFAIR</td>\n",
       "      <td>WA</td>\n",
       "      <td>98528</td>\n",
       "      <td>KITSAP BANK</td>\n",
       "      <td>WA</td>\n",
       "      <td>13</td>\n",
       "      <td>1996-11-04</td>\n",
       "      <td>1997</td>\n",
       "      <td>...</td>\n",
       "      <td>1999-06-19</td>\n",
       "      <td>0</td>\n",
       "      <td>0</td>\n",
       "      <td>0</td>\n",
       "      <td>0</td>\n",
       "      <td>3</td>\n",
       "      <td>80.0</td>\n",
       "      <td>8.25</td>\n",
       "      <td>0</td>\n",
       "      <td>2</td>\n",
       "    </tr>\n",
       "    <tr>\n",
       "      <th>864212</th>\n",
       "      <td>9781103008</td>\n",
       "      <td>INITIAL IDEAS</td>\n",
       "      <td>SNYDER</td>\n",
       "      <td>TX</td>\n",
       "      <td>79549</td>\n",
       "      <td>COMMUNITY BANK OF SNYDER</td>\n",
       "      <td>TX</td>\n",
       "      <td>14</td>\n",
       "      <td>1996-11-21</td>\n",
       "      <td>1997</td>\n",
       "      <td>...</td>\n",
       "      <td>1999-11-16</td>\n",
       "      <td>0</td>\n",
       "      <td>0</td>\n",
       "      <td>0</td>\n",
       "      <td>0</td>\n",
       "      <td>2</td>\n",
       "      <td>80.0</td>\n",
       "      <td>8.25</td>\n",
       "      <td>0</td>\n",
       "      <td>2</td>\n",
       "    </tr>\n",
       "    <tr>\n",
       "      <th>864240</th>\n",
       "      <td>9789133000</td>\n",
       "      <td>MVP &amp; GRILL</td>\n",
       "      <td>RANCHO CUCAMONGA</td>\n",
       "      <td>CA</td>\n",
       "      <td>91738</td>\n",
       "      <td>UMPQUA BANK</td>\n",
       "      <td>OR</td>\n",
       "      <td>2</td>\n",
       "      <td>1996-11-25</td>\n",
       "      <td>1997</td>\n",
       "      <td>...</td>\n",
       "      <td>2004-05-23</td>\n",
       "      <td>1</td>\n",
       "      <td>0</td>\n",
       "      <td>0</td>\n",
       "      <td>0</td>\n",
       "      <td>2</td>\n",
       "      <td>80.0</td>\n",
       "      <td>8.25</td>\n",
       "      <td>0</td>\n",
       "      <td>2</td>\n",
       "    </tr>\n",
       "    <tr>\n",
       "      <th>864319</th>\n",
       "      <td>9802413007</td>\n",
       "      <td>QUAIL COUNTRY INN, INC.</td>\n",
       "      <td>CLINTON CORNERS</td>\n",
       "      <td>NY</td>\n",
       "      <td>12514</td>\n",
       "      <td>NEWTEK SMALL BUS. FINANCE INC.</td>\n",
       "      <td>NY</td>\n",
       "      <td>13</td>\n",
       "      <td>1996-11-29</td>\n",
       "      <td>1997</td>\n",
       "      <td>...</td>\n",
       "      <td>2004-12-19</td>\n",
       "      <td>1</td>\n",
       "      <td>0</td>\n",
       "      <td>0</td>\n",
       "      <td>0</td>\n",
       "      <td>1</td>\n",
       "      <td>75.0</td>\n",
       "      <td>8.25</td>\n",
       "      <td>0</td>\n",
       "      <td>2</td>\n",
       "    </tr>\n",
       "    <tr>\n",
       "      <th>864368</th>\n",
       "      <td>9811673006</td>\n",
       "      <td>PONDEROSA PRODUCTS, INC.</td>\n",
       "      <td>ALBUQUERQUE</td>\n",
       "      <td>NM</td>\n",
       "      <td>87125</td>\n",
       "      <td>GE CAP. SMALL BUS. FINAN CORP</td>\n",
       "      <td>TX</td>\n",
       "      <td>10</td>\n",
       "      <td>1996-12-04</td>\n",
       "      <td>1997</td>\n",
       "      <td>...</td>\n",
       "      <td>2009-03-28</td>\n",
       "      <td>1</td>\n",
       "      <td>0</td>\n",
       "      <td>0</td>\n",
       "      <td>0</td>\n",
       "      <td>5</td>\n",
       "      <td>37.0</td>\n",
       "      <td>8.25</td>\n",
       "      <td>0</td>\n",
       "      <td>1</td>\n",
       "    </tr>\n",
       "  </tbody>\n",
       "</table>\n",
       "<p>18810 rows × 37 columns</p>\n",
       "</div>"
      ],
      "text/plain": [
       "        LoanNr_ChkDgt                            Name              City State  \\\n",
       "186        1692734007        NERAKO ENTERPRISES, INC.            CANTON    OH   \n",
       "187        1694814000           QUIZNO'S CLASSIC SUBS            AUSTIN    TX   \n",
       "262        1816284006  SHARINNA'S POLISH DELI & BAKER          MANISTEE    MI   \n",
       "263        1816444006  SHARINNA'S POLISH DELI & BAKER          MANISTEE    MI   \n",
       "614        2207764007               CRAWFORD PRODUCTS  NEW SMYRNA BEACH    FL   \n",
       "...               ...                             ...               ...   ...   \n",
       "863911     9727903000                          JODY'S           BELFAIR    WA   \n",
       "864212     9781103008                   INITIAL IDEAS            SNYDER    TX   \n",
       "864240     9789133000                     MVP & GRILL  RANCHO CUCAMONGA    CA   \n",
       "864319     9802413007         QUAIL COUNTRY INN, INC.   CLINTON CORNERS    NY   \n",
       "864368     9811673006        PONDEROSA PRODUCTS, INC.       ALBUQUERQUE    NM   \n",
       "\n",
       "          Zip                            Bank BankState  NAICS ApprovalDate  \\\n",
       "186     44709    THE HUNTINGTON NATIONAL BANK        OH      5   1997-11-20   \n",
       "187     78750                UNION STATE BANK        TX     10   1997-11-21   \n",
       "262     49660                FIFTH THIRD BANK        OH     13   1998-02-02   \n",
       "263     49660                FIFTH THIRD BANK        OH     20   1998-02-02   \n",
       "614     32168   TD BANK, NATIONAL ASSOCIATION        FL     14   1998-07-22   \n",
       "...       ...                             ...       ...    ...          ...   \n",
       "863911  98528                     KITSAP BANK        WA     13   1996-11-04   \n",
       "864212  79549        COMMUNITY BANK OF SNYDER        TX     14   1996-11-21   \n",
       "864240  91738                     UMPQUA BANK        OR      2   1996-11-25   \n",
       "864319  12514  NEWTEK SMALL BUS. FINANCE INC.        NY     13   1996-11-29   \n",
       "864368  87125   GE CAP. SMALL BUS. FINAN CORP        TX     10   1996-12-04   \n",
       "\n",
       "        ApprovalFY  ...  ChgOffDate2  Term_re  smallmedium  createjob2  \\\n",
       "186           1998  ...   1999-02-28        0            0           0   \n",
       "187           1998  ...   2002-10-10        0            0           0   \n",
       "262           1998  ...   2017-02-23        2            0           0   \n",
       "263           1998  ...   2004-10-29        1            0           0   \n",
       "614           1998  ...   1999-08-27        0            0           0   \n",
       "...            ...  ...          ...      ...          ...         ...   \n",
       "863911        1997  ...   1999-06-19        0            0           0   \n",
       "864212        1997  ...   1999-11-16        0            0           0   \n",
       "864240        1997  ...   2004-05-23        1            0           0   \n",
       "864319        1997  ...   2004-12-19        1            0           0   \n",
       "864368        1997  ...   2009-03-28        1            0           0   \n",
       "\n",
       "        retainedjob2  dis_re  appv_pct  DPRIME dprime2 growth_potential  \n",
       "186                0       3      75.0    7.75       0                1  \n",
       "187                0       2      80.0    7.75       0                1  \n",
       "262                0       3      75.0    7.75       0                2  \n",
       "263                0       3      75.0    7.75       0                2  \n",
       "614                0       2      75.0    7.75       0                2  \n",
       "...              ...     ...       ...     ...     ...              ...  \n",
       "863911             0       3      80.0    8.25       0                2  \n",
       "864212             0       2      80.0    8.25       0                2  \n",
       "864240             0       2      80.0    8.25       0                2  \n",
       "864319             0       1      75.0    8.25       0                2  \n",
       "864368             0       5      37.0    8.25       0                1  \n",
       "\n",
       "[18810 rows x 37 columns]"
      ]
     },
     "execution_count": 14,
     "metadata": {},
     "output_type": "execute_result"
    }
   ],
   "source": [
    "# 중복된 이름 추출\n",
    "duplicate_names = df1[df1.duplicated(['Name'], keep=False)]\n",
    "duplicate_names"
   ]
  },
  {
   "cell_type": "code",
   "execution_count": 15,
   "metadata": {},
   "outputs": [
    {
     "data": {
      "text/plain": [
       "COLD STONE CREAMERY               99\n",
       "MATCO TOOLS                       84\n",
       "QUIZNO'S SUBS                     83\n",
       "SUBWAY                            66\n",
       "QUIZNO'S                          60\n",
       "                                  ..\n",
       "J FREY DIVERSIFIED                 2\n",
       "Flinthill Cottage Bed & Breakf     2\n",
       "PRO-BIND, INC.                     2\n",
       "BLESSED LITTLE CHILDREN'S DAY      2\n",
       "BAILEY TRUCKING                    2\n",
       "Name: Name, Length: 7883, dtype: int64"
      ]
     },
     "execution_count": 15,
     "metadata": {},
     "output_type": "execute_result"
    }
   ],
   "source": [
    "# 가장 많이 빌린 기업명 확인\n",
    "duplicate_names['Name'].value_counts()"
   ]
  },
  {
   "cell_type": "markdown",
   "metadata": {},
   "source": [
    "=> 가장 많이 빌린 기업은 COLD STONE CREAMERY(아이스크림), MATCO TOOLS(도구), QUIZNO'S SUB(샌드위치) "
   ]
  },
  {
   "cell_type": "markdown",
   "metadata": {},
   "source": [
    "#### (2) City : 차용 기업이 위치한 도시"
   ]
  },
  {
   "cell_type": "code",
   "execution_count": 16,
   "metadata": {},
   "outputs": [
    {
     "data": {
      "text/plain": [
       "12            NEW CASTLE\n",
       "55               HATBORO\n",
       "76          JACKSONVILLE\n",
       "157           HARTSVILLE\n",
       "183        OKLAHOMA CITY\n",
       "               ...      \n",
       "864639      BOROUGH PARK\n",
       "864648          CRANBURY\n",
       "864696    SALT LAKE CITY\n",
       "864699             BRONX\n",
       "864702       NORTH LOGAN\n",
       "Name: City, Length: 148720, dtype: object"
      ]
     },
     "execution_count": 16,
     "metadata": {},
     "output_type": "execute_result"
    }
   ],
   "source": [
    "df1.City"
   ]
  },
  {
   "cell_type": "code",
   "execution_count": 18,
   "metadata": {},
   "outputs": [
    {
     "data": {
      "text/plain": [
       "LOS ANGELES     3067\n",
       "HOUSTON         2084\n",
       "MIAMI           1840\n",
       "NEW YORK        1658\n",
       "CHICAGO         1562\n",
       "                ... \n",
       "Copake             1\n",
       "BETHUNE            1\n",
       "E. FAIRFIELD       1\n",
       "Northvale          1\n",
       "AMERICAN CYN       1\n",
       "Name: City, Length: 14484, dtype: int64"
      ]
     },
     "execution_count": 18,
     "metadata": {},
     "output_type": "execute_result"
    }
   ],
   "source": [
    "df1.City.value_counts()"
   ]
  },
  {
   "cell_type": "markdown",
   "metadata": {},
   "source": [
    "=> 로스엔젤리스, 휴스턴, 마이애미의 경우 채무불이행 건수가 높게 나타났다. "
   ]
  },
  {
   "cell_type": "markdown",
   "metadata": {},
   "source": [
    "#### (3) State : 차용 기업이 위치한 주"
   ]
  },
  {
   "cell_type": "code",
   "execution_count": 19,
   "metadata": {},
   "outputs": [
    {
     "data": {
      "text/plain": [
       "12        DE\n",
       "55        PA\n",
       "76        FL\n",
       "157       SC\n",
       "183       OK\n",
       "          ..\n",
       "864639    NY\n",
       "864648    NJ\n",
       "864696    UT\n",
       "864699    NY\n",
       "864702    UT\n",
       "Name: State, Length: 148720, dtype: object"
      ]
     },
     "execution_count": 19,
     "metadata": {},
     "output_type": "execute_result"
    }
   ],
   "source": [
    "df1.State"
   ]
  },
  {
   "cell_type": "code",
   "execution_count": 21,
   "metadata": {},
   "outputs": [
    {
     "data": {
      "text/plain": [
       "CA    23240\n",
       "TX    12254\n",
       "NY    11058\n",
       "Name: State, dtype: int64"
      ]
     },
     "execution_count": 21,
     "metadata": {},
     "output_type": "execute_result"
    }
   ],
   "source": [
    "# State 빈도 분석(가장 높은 3곳 추출)\n",
    "df1.State.value_counts().head(3)"
   ]
  },
  {
   "cell_type": "markdown",
   "metadata": {},
   "source": [
    "=> 캘리포니아, 텍사스, 뉴욕 순으로 채무불이행 건수가 높게 나타났다."
   ]
  },
  {
   "cell_type": "markdown",
   "metadata": {},
   "source": [
    "#### (4) Bank : 은행명"
   ]
  },
  {
   "cell_type": "code",
   "execution_count": 22,
   "metadata": {},
   "outputs": [
    {
     "data": {
      "text/plain": [
       "12        PNC BANK, NATIONAL ASSOCIATION\n",
       "55        PNC BANK, NATIONAL ASSOCIATION\n",
       "76                          REGIONS BANK\n",
       "157          WELLS FARGO BANK NATL ASSOC\n",
       "183       BANK OF OKLAHOMA A DIVISION OF\n",
       "                       ...              \n",
       "864639     TD BANK, NATIONAL ASSOCIATION\n",
       "864648       WELLS FARGO BANK NATL ASSOC\n",
       "864696                  BANK OF THE WEST\n",
       "864699            HSBC BK USA NATL ASSOC\n",
       "864702                 CACHE VALLEY BANK\n",
       "Name: Bank, Length: 148720, dtype: object"
      ]
     },
     "execution_count": 22,
     "metadata": {},
     "output_type": "execute_result"
    }
   ],
   "source": [
    "df1.Bank"
   ]
  },
  {
   "cell_type": "code",
   "execution_count": 23,
   "metadata": {},
   "outputs": [
    {
     "data": {
      "text/plain": [
       "BANK OF AMERICA NATL ASSOC        23239\n",
       "JPMORGAN CHASE BANK NATL ASSOC    12701\n",
       "BBCN BANK                         12328\n",
       "CAPITAL ONE NATL ASSOC             9129\n",
       "WELLS FARGO BANK NATL ASSOC        8342\n",
       "                                  ...  \n",
       "VISIONS FCU                           1\n",
       "PROSPERA CU                           1\n",
       "BNA BANK                              1\n",
       "FINANCIAL RES. MGMT INC-NCNB-T        1\n",
       "CITIZENS BANK OF ELDON                1\n",
       "Name: Bank, Length: 3092, dtype: int64"
      ]
     },
     "execution_count": 23,
     "metadata": {},
     "output_type": "execute_result"
    }
   ],
   "source": [
    "df1.Bank.value_counts()"
   ]
  },
  {
   "cell_type": "markdown",
   "metadata": {},
   "source": [
    "=> NATIONAL BANK의 빈도가 많은 편이다."
   ]
  },
  {
   "cell_type": "markdown",
   "metadata": {},
   "source": [
    "#### (5) SameState : 기업 State와 은행 State 동일 여부(0=동일하지 않음, 1=동일함)"
   ]
  },
  {
   "cell_type": "code",
   "execution_count": 24,
   "metadata": {},
   "outputs": [
    {
     "data": {
      "text/plain": [
       "12        1\n",
       "55        0\n",
       "76        1\n",
       "157       0\n",
       "183       1\n",
       "         ..\n",
       "864639    0\n",
       "864648    0\n",
       "864696    1\n",
       "864699    0\n",
       "864702    1\n",
       "Name: SameState, Length: 148720, dtype: int64"
      ]
     },
     "execution_count": 24,
     "metadata": {},
     "output_type": "execute_result"
    }
   ],
   "source": [
    "df1.SameState"
   ]
  },
  {
   "cell_type": "code",
   "execution_count": 25,
   "metadata": {},
   "outputs": [
    {
     "data": {
      "text/plain": [
       "0    104195\n",
       "1     44525\n",
       "Name: SameState, dtype: int64"
      ]
     },
     "execution_count": 25,
     "metadata": {},
     "output_type": "execute_result"
    }
   ],
   "source": [
    "df1.SameState.value_counts()"
   ]
  },
  {
   "cell_type": "code",
   "execution_count": 29,
   "metadata": {},
   "outputs": [
    {
     "data": {
      "text/plain": [
       "70.06118881118881"
      ]
     },
     "execution_count": 29,
     "metadata": {},
     "output_type": "execute_result"
    }
   ],
   "source": [
    "104195/len(df1)*100"
   ]
  },
  {
   "cell_type": "markdown",
   "metadata": {},
   "source": [
    "- **은행의 State과 기업 State가 다른 경우(0)가 전체 데이터의 70% 차지!**\n",
    "- **이를 통해 은행과 기업 사이의 정보 비대칭 문제로 인해 채무 불이행율이 높게 나타났다고 볼 수 있다.**"
   ]
  },
  {
   "cell_type": "markdown",
   "metadata": {},
   "source": [
    "#### (6) NAICS : 북미 산업 분류 체계 코드\n",
    "\n",
    "- 01 : 숙박 및 요식업\n",
    "- 02 : 폐기물 관리업\n",
    "- 03 : 농, 임, 어업\n",
    "- 04 : 엔터테인먼트\n",
    "- 05 : 건설업\n",
    "- 06 : 교육 서비스\n",
    "- 07 : 재무 및 보험\n",
    "- 08 : 의료\n",
    "- 09 : 정보산업\n",
    "- 10 : 제조업\n",
    "- 11 : 메니지먼트\n",
    "- 12 : 광업\n",
    "- 13 : 기타 서비스\n",
    "- 14 : 과학 및 전문산업\n",
    "- 15 : 행정\n",
    "- 16 : 부동산업\n",
    "- 17 : 소매업\n",
    "- 18 : 운송업\n",
    "- 19 : 공익사업\n",
    "- 20 : 도매업"
   ]
  },
  {
   "cell_type": "code",
   "execution_count": 31,
   "metadata": {},
   "outputs": [
    {
     "data": {
      "text/plain": [
       "12         2\n",
       "55         1\n",
       "76        13\n",
       "157       14\n",
       "183        2\n",
       "          ..\n",
       "864639    13\n",
       "864648    17\n",
       "864696     5\n",
       "864699    17\n",
       "864702    10\n",
       "Name: NAICS, Length: 148720, dtype: int64"
      ]
     },
     "execution_count": 31,
     "metadata": {},
     "output_type": "execute_result"
    }
   ],
   "source": [
    "df1.NAICS"
   ]
  },
  {
   "cell_type": "code",
   "execution_count": 34,
   "metadata": {},
   "outputs": [
    {
     "data": {
      "text/plain": [
       "17    30288\n",
       "5     16253\n",
       "1     15513\n",
       "13    15076\n",
       "14    13703\n",
       "Name: NAICS, dtype: int64"
      ]
     },
     "execution_count": 34,
     "metadata": {},
     "output_type": "execute_result"
    }
   ],
   "source": [
    "df1.NAICS.value_counts().head(5)"
   ]
  },
  {
   "cell_type": "markdown",
   "metadata": {},
   "source": [
    "=> 소매업, 건설업, 숙박 및 요식업, 기타 서비스, 과학 및 전문산업 순으로 채무불이행율이 높게 나타났다."
   ]
  },
  {
   "cell_type": "markdown",
   "metadata": {},
   "source": [
    "#### (7) Recession : 글로벌 금융위기 시기 여부(0=해당하지 않음, 1=해당)"
   ]
  },
  {
   "cell_type": "code",
   "execution_count": 35,
   "metadata": {},
   "outputs": [
    {
     "data": {
      "text/plain": [
       "12        0\n",
       "55        0\n",
       "76        0\n",
       "157       0\n",
       "183       0\n",
       "         ..\n",
       "864639    0\n",
       "864648    0\n",
       "864696    0\n",
       "864699    0\n",
       "864702    0\n",
       "Name: Recession, Length: 148720, dtype: int64"
      ]
     },
     "execution_count": 35,
     "metadata": {},
     "output_type": "execute_result"
    }
   ],
   "source": [
    "df1.Recession"
   ]
  },
  {
   "cell_type": "code",
   "execution_count": 41,
   "metadata": {},
   "outputs": [
    {
     "data": {
      "text/plain": [
       "0    694248\n",
       "1     21779\n",
       "Name: Recession, dtype: int64"
      ]
     },
     "execution_count": 41,
     "metadata": {},
     "output_type": "execute_result"
    }
   ],
   "source": [
    "# 채무 이행 데이터\n",
    "df2.Recession.value_counts()"
   ]
  },
  {
   "cell_type": "code",
   "execution_count": 42,
   "metadata": {},
   "outputs": [
    {
     "data": {
      "text/plain": [
       "3.041645077629754"
      ]
     },
     "execution_count": 42,
     "metadata": {},
     "output_type": "execute_result"
    }
   ],
   "source": [
    "21779/len(df2)*100"
   ]
  },
  {
   "cell_type": "code",
   "execution_count": 43,
   "metadata": {},
   "outputs": [
    {
     "data": {
      "text/plain": [
       "0    137381\n",
       "1     11339\n",
       "Name: Recession, dtype: int64"
      ]
     },
     "execution_count": 43,
     "metadata": {},
     "output_type": "execute_result"
    }
   ],
   "source": [
    "# 채무 불이행 데이터\n",
    "df1.Recession.value_counts() "
   ]
  },
  {
   "cell_type": "code",
   "execution_count": 44,
   "metadata": {},
   "outputs": [
    {
     "data": {
      "text/plain": [
       "7.624394835933297"
      ]
     },
     "execution_count": 44,
     "metadata": {},
     "output_type": "execute_result"
    }
   ],
   "source": [
    "11339/len(df1)*100"
   ]
  },
  {
   "cell_type": "markdown",
   "metadata": {},
   "source": [
    "=> 글로벌 금융위기 시기에 해당하는 채무 불이행 건수는 약 1만 1천 건으로, 전체(df1)의 7.7% 차지"
   ]
  },
  {
   "cell_type": "markdown",
   "metadata": {},
   "source": [
    "#### (8) NewExist : 0=기존 비즈니스, 1=신규비즈니스\n",
    "- 데이터 설명자료를 통해 기존 비즈니스는 2년 이상, 신규 비즈니스는 2년 미만을 의미"
   ]
  },
  {
   "cell_type": "code",
   "execution_count": 46,
   "metadata": {},
   "outputs": [
    {
     "data": {
      "text/plain": [
       "12        0\n",
       "55        1\n",
       "76        0\n",
       "157       1\n",
       "183       0\n",
       "         ..\n",
       "864639    1\n",
       "864648    0\n",
       "864696    1\n",
       "864699    1\n",
       "864702    0\n",
       "Name: NewExist, Length: 148720, dtype: int64"
      ]
     },
     "execution_count": 46,
     "metadata": {},
     "output_type": "execute_result"
    }
   ],
   "source": [
    "df1.NewExist"
   ]
  },
  {
   "cell_type": "code",
   "execution_count": 47,
   "metadata": {},
   "outputs": [
    {
     "data": {
      "text/plain": [
       "0    104700\n",
       "1     44020\n",
       "Name: NewExist, dtype: int64"
      ]
     },
     "execution_count": 47,
     "metadata": {},
     "output_type": "execute_result"
    }
   ],
   "source": [
    "df1.NewExist.value_counts()"
   ]
  },
  {
   "cell_type": "markdown",
   "metadata": {},
   "source": [
    "=> 기존 비즈니스의 경우가 신규 비즈니스에 비해 채무 불이행율이 높게 나타났다."
   ]
  },
  {
   "cell_type": "markdown",
   "metadata": {},
   "source": [
    "#### (9) FranchiseCode : 프랜차이즈 여부 (0=아님, 1=프랜차이즈)"
   ]
  },
  {
   "cell_type": "code",
   "execution_count": 48,
   "metadata": {},
   "outputs": [
    {
     "data": {
      "text/plain": [
       "12        0\n",
       "55        0\n",
       "76        1\n",
       "157       0\n",
       "183       0\n",
       "         ..\n",
       "864639    0\n",
       "864648    0\n",
       "864696    0\n",
       "864699    0\n",
       "864702    0\n",
       "Name: FranchiseCode, Length: 148720, dtype: int64"
      ]
     },
     "execution_count": 48,
     "metadata": {},
     "output_type": "execute_result"
    }
   ],
   "source": [
    "df1.FranchiseCode"
   ]
  },
  {
   "cell_type": "code",
   "execution_count": 49,
   "metadata": {},
   "outputs": [
    {
     "data": {
      "text/plain": [
       "0    141243\n",
       "1      7477\n",
       "Name: FranchiseCode, dtype: int64"
      ]
     },
     "execution_count": 49,
     "metadata": {},
     "output_type": "execute_result"
    }
   ],
   "source": [
    "df1.FranchiseCode.value_counts()"
   ]
  },
  {
   "cell_type": "markdown",
   "metadata": {},
   "source": [
    "=> 프랜차이즈가 아닌 경우가 프랜차이즈인 경우에 비해 채무 불이행율이 높게 나타났다."
   ]
  },
  {
   "cell_type": "markdown",
   "metadata": {},
   "source": [
    "#### (10) UrbanRural : 도시/농촌 여부(0=도시, 1=농촌)"
   ]
  },
  {
   "cell_type": "code",
   "execution_count": 51,
   "metadata": {},
   "outputs": [
    {
     "data": {
      "text/plain": [
       "12        1\n",
       "55        0\n",
       "76        0\n",
       "157       1\n",
       "183       1\n",
       "         ..\n",
       "864639    0\n",
       "864648    0\n",
       "864696    1\n",
       "864699    0\n",
       "864702    1\n",
       "Name: UrbanRural, Length: 148720, dtype: int64"
      ]
     },
     "execution_count": 51,
     "metadata": {},
     "output_type": "execute_result"
    }
   ],
   "source": [
    "df1.UrbanRural"
   ]
  },
  {
   "cell_type": "code",
   "execution_count": 52,
   "metadata": {},
   "outputs": [
    {
     "data": {
      "text/plain": [
       "0    87636\n",
       "1    61084\n",
       "Name: UrbanRural, dtype: int64"
      ]
     },
     "execution_count": 52,
     "metadata": {},
     "output_type": "execute_result"
    }
   ],
   "source": [
    "df1.UrbanRural.value_counts()"
   ]
  },
  {
   "cell_type": "markdown",
   "metadata": {},
   "source": [
    "=> 도시의 채무불이행율이 농촌의 채무불이행율보다 높게 나타났다."
   ]
  },
  {
   "cell_type": "markdown",
   "metadata": {},
   "source": [
    "#### (11) LowDoc : SBA 대출프로그램 신청 여부(0=No, 1=Yes)"
   ]
  },
  {
   "cell_type": "code",
   "execution_count": 53,
   "metadata": {},
   "outputs": [
    {
     "data": {
      "text/plain": [
       "12        0\n",
       "55        0\n",
       "76        0\n",
       "157       0\n",
       "183       0\n",
       "         ..\n",
       "864639    1\n",
       "864648    1\n",
       "864696    0\n",
       "864699    1\n",
       "864702    0\n",
       "Name: LowDoc, Length: 148720, dtype: int64"
      ]
     },
     "execution_count": 53,
     "metadata": {},
     "output_type": "execute_result"
    }
   ],
   "source": [
    "df1.LowDoc"
   ]
  },
  {
   "cell_type": "code",
   "execution_count": 54,
   "metadata": {},
   "outputs": [
    {
     "data": {
      "text/plain": [
       "0    138853\n",
       "1      9867\n",
       "Name: LowDoc, dtype: int64"
      ]
     },
     "execution_count": 54,
     "metadata": {},
     "output_type": "execute_result"
    }
   ],
   "source": [
    "df1.LowDoc.value_counts()"
   ]
  },
  {
   "cell_type": "markdown",
   "metadata": {},
   "source": [
    "- **대출 프로그램을 신청하지 않은 경우가 신청한 경우에 비해 채무불이행율이 높다고 볼 수 있다.**\n",
    "- **따라서 SBA 대출 프로그램을 신청하는 기업에 한해서 우대 조건을 붙여 대출상품을 파는 건 어떤가?**"
   ]
  },
  {
   "cell_type": "markdown",
   "metadata": {},
   "source": [
    "### 7.2 수치형 변수"
   ]
  },
  {
   "cell_type": "markdown",
   "metadata": {},
   "source": [
    "#### (12) Term : 대출 기간(개월), Term_re : 대출 기간 범주화"
   ]
  },
  {
   "cell_type": "markdown",
   "metadata": {},
   "source": [
    "도메인 지식\n",
    "- 일반적으로 장기일수록 돈을 못 갚을 확률이 높다. 따라서 장기 금리가 단기 금리에 비해 높다.\n",
    "- 그러나 장기 금리보다 단기 금리가 높아지는 현상이 발생하기도 하는데, 이는 금리역전현상을 의미한다. 거시경제 연구 분야에서는 이를 심각하게 받아들인다."
   ]
  },
  {
   "cell_type": "code",
   "execution_count": 55,
   "metadata": {},
   "outputs": [
    {
     "data": {
      "text/plain": [
       "12         49\n",
       "55         69\n",
       "76         33\n",
       "157        59\n",
       "183        23\n",
       "         ... \n",
       "864639    120\n",
       "864648     27\n",
       "864696    183\n",
       "864699     44\n",
       "864702     79\n",
       "Name: Term, Length: 148720, dtype: int64"
      ]
     },
     "execution_count": 55,
     "metadata": {},
     "output_type": "execute_result"
    }
   ],
   "source": [
    "df1.Term"
   ]
  },
  {
   "cell_type": "code",
   "execution_count": 56,
   "metadata": {},
   "outputs": [
    {
     "data": {
      "text/plain": [
       "60     2138\n",
       "54     2136\n",
       "42     2113\n",
       "61     2107\n",
       "53     2100\n",
       "       ... \n",
       "340       1\n",
       "341       1\n",
       "356       1\n",
       "438       1\n",
       "309       1\n",
       "Name: Term, Length: 323, dtype: int64"
      ]
     },
     "execution_count": 56,
     "metadata": {},
     "output_type": "execute_result"
    }
   ],
   "source": [
    "df1.Term.value_counts()"
   ]
  },
  {
   "cell_type": "code",
   "execution_count": 57,
   "metadata": {},
   "outputs": [
    {
     "data": {
      "text/plain": [
       "12        0\n",
       "55        1\n",
       "76        0\n",
       "157       0\n",
       "183       0\n",
       "         ..\n",
       "864639    1\n",
       "864648    0\n",
       "864696    2\n",
       "864699    0\n",
       "864702    1\n",
       "Name: Term_re, Length: 148720, dtype: int64"
      ]
     },
     "execution_count": 57,
     "metadata": {},
     "output_type": "execute_result"
    }
   ],
   "source": [
    "df1['Term_re']"
   ]
  },
  {
   "cell_type": "markdown",
   "metadata": {},
   "source": [
    "- 단기 : 5년 미만(0)\n",
    "- 중기 : 5년 이상 15년 미만(1)\n",
    "- 장기 : 15년 이상(2)"
   ]
  },
  {
   "cell_type": "code",
   "execution_count": 59,
   "metadata": {},
   "outputs": [
    {
     "data": {
      "text/plain": [
       "0    98574\n",
       "1    45242\n",
       "2     4904\n",
       "Name: Term_re, dtype: int64"
      ]
     },
     "execution_count": 59,
     "metadata": {},
     "output_type": "execute_result"
    }
   ],
   "source": [
    "df1['Term_re'].value_counts()"
   ]
  },
  {
   "cell_type": "markdown",
   "metadata": {},
   "source": [
    "**일반적인 상황과 반대!**\n",
    "- 일반적으로 장기(2)인 경우가 채무불이행율이 높을 것이라 예상했지만, 예상과 달리 단기인 경우가 채무불이행율이 더 높게 나타났다.\n",
    "- 이는 중소기업의 경우 만기가 도달했을 때 비즈니스가 성장하여 상환 능력이 더욱 커졌다고 해석할 수 있다."
   ]
  },
  {
   "cell_type": "markdown",
   "metadata": {},
   "source": [
    "#### (13) NoEmp : 직원 수, smallmedium : 기업 규모 범주화(0=소기업, 1=중기업)"
   ]
  },
  {
   "cell_type": "code",
   "execution_count": 60,
   "metadata": {},
   "outputs": [
    {
     "data": {
      "text/plain": [
       "12         1\n",
       "55        24\n",
       "76         6\n",
       "157        2\n",
       "183       40\n",
       "          ..\n",
       "864639     3\n",
       "864648     3\n",
       "864696    11\n",
       "864699     5\n",
       "864702    32\n",
       "Name: NoEmp, Length: 148720, dtype: int64"
      ]
     },
     "execution_count": 60,
     "metadata": {},
     "output_type": "execute_result"
    }
   ],
   "source": [
    "df1.NoEmp"
   ]
  },
  {
   "cell_type": "code",
   "execution_count": 62,
   "metadata": {},
   "outputs": [
    {
     "data": {
      "text/plain": [
       "1    33983\n",
       "2    27469\n",
       "3    17896\n",
       "4    13849\n",
       "5    10953\n",
       "Name: NoEmp, dtype: int64"
      ]
     },
     "execution_count": 62,
     "metadata": {},
     "output_type": "execute_result"
    }
   ],
   "source": [
    "df1.NoEmp.value_counts().head(5)"
   ]
  },
  {
   "cell_type": "markdown",
   "metadata": {},
   "source": [
    "=> 직원 수 빈도분석 결과, 1명~5명과 같이 직원의 수가 적은 경우 채무불이행율이 높게 나타났다. (합당한 결과)"
   ]
  },
  {
   "cell_type": "code",
   "execution_count": 63,
   "metadata": {},
   "outputs": [
    {
     "data": {
      "text/plain": [
       "12        0\n",
       "55        0\n",
       "76        0\n",
       "157       0\n",
       "183       0\n",
       "         ..\n",
       "864639    0\n",
       "864648    0\n",
       "864696    0\n",
       "864699    0\n",
       "864702    0\n",
       "Name: smallmedium, Length: 148720, dtype: int64"
      ]
     },
     "execution_count": 63,
     "metadata": {},
     "output_type": "execute_result"
    }
   ],
   "source": [
    "df1.smallmedium"
   ]
  },
  {
   "cell_type": "code",
   "execution_count": 64,
   "metadata": {},
   "outputs": [
    {
     "data": {
      "text/plain": [
       "0    148716\n",
       "1         4\n",
       "Name: smallmedium, dtype: int64"
      ]
     },
     "execution_count": 64,
     "metadata": {},
     "output_type": "execute_result"
    }
   ],
   "source": [
    "df1.smallmedium.value_counts()"
   ]
  },
  {
   "cell_type": "markdown",
   "metadata": {},
   "source": [
    "=> 소기업인 경우의 채무불이행율이 압도적으로 높게 나타났다."
   ]
  },
  {
   "cell_type": "markdown",
   "metadata": {},
   "source": [
    "#### (14) : CreateJob : 신규 직원 수, createjob2 : 신규 직원 수 범주화"
   ]
  },
  {
   "cell_type": "code",
   "execution_count": 65,
   "metadata": {},
   "outputs": [
    {
     "data": {
      "text/plain": [
       "12        0\n",
       "55        0\n",
       "76        0\n",
       "157       0\n",
       "183       0\n",
       "         ..\n",
       "864639    0\n",
       "864648    0\n",
       "864696    0\n",
       "864699    0\n",
       "864702    0\n",
       "Name: CreateJob, Length: 148720, dtype: int64"
      ]
     },
     "execution_count": 65,
     "metadata": {},
     "output_type": "execute_result"
    }
   ],
   "source": [
    "df1.CreateJob"
   ]
  },
  {
   "cell_type": "code",
   "execution_count": 67,
   "metadata": {},
   "outputs": [
    {
     "data": {
      "text/plain": [
       "0    91825\n",
       "1    18450\n",
       "2    15067\n",
       "3     6493\n",
       "4     4025\n",
       "Name: CreateJob, dtype: int64"
      ]
     },
     "execution_count": 67,
     "metadata": {},
     "output_type": "execute_result"
    }
   ],
   "source": [
    "df1.CreateJob.value_counts().head(5)"
   ]
  },
  {
   "cell_type": "markdown",
   "metadata": {},
   "source": [
    "=> 신규 직원 수가 0명인 경우의 채무 불이행율이 가장 높았으며, 이외에도 1명~4명 순서대로 높게 나타났다."
   ]
  },
  {
   "cell_type": "code",
   "execution_count": 68,
   "metadata": {},
   "outputs": [
    {
     "data": {
      "text/plain": [
       "12        0\n",
       "55        0\n",
       "76        0\n",
       "157       0\n",
       "183       0\n",
       "         ..\n",
       "864639    0\n",
       "864648    0\n",
       "864696    0\n",
       "864699    0\n",
       "864702    0\n",
       "Name: createjob2, Length: 148720, dtype: int64"
      ]
     },
     "execution_count": 68,
     "metadata": {},
     "output_type": "execute_result"
    }
   ],
   "source": [
    "df1.createjob2"
   ]
  },
  {
   "cell_type": "markdown",
   "metadata": {},
   "source": [
    "- 0인~3인 : 0\n",
    "- 4인~20인 : 1\n",
    "- 21인 이상 : 2"
   ]
  },
  {
   "cell_type": "code",
   "execution_count": 69,
   "metadata": {},
   "outputs": [
    {
     "data": {
      "text/plain": [
       "0    131835\n",
       "1     15516\n",
       "2      1369\n",
       "Name: createjob2, dtype: int64"
      ]
     },
     "execution_count": 69,
     "metadata": {},
     "output_type": "execute_result"
    }
   ],
   "source": [
    "df1.createjob2.value_counts()"
   ]
  },
  {
   "cell_type": "markdown",
   "metadata": {},
   "source": [
    "=> 압도적으로 신규 직원 수가 0~3인에 해당하는 기업이 채무불이행율이 높게 나타났다."
   ]
  },
  {
   "cell_type": "markdown",
   "metadata": {},
   "source": [
    "#### (15) RetainedJob : 기존 직원 수, retainedjob2 : 기존 직원 수 범주화"
   ]
  },
  {
   "cell_type": "code",
   "execution_count": 70,
   "metadata": {},
   "outputs": [
    {
     "data": {
      "text/plain": [
       "12        0\n",
       "55        0\n",
       "76        0\n",
       "157       0\n",
       "183       0\n",
       "         ..\n",
       "864639    0\n",
       "864648    0\n",
       "864696    0\n",
       "864699    0\n",
       "864702    0\n",
       "Name: RetainedJob, Length: 148720, dtype: int64"
      ]
     },
     "execution_count": 70,
     "metadata": {},
     "output_type": "execute_result"
    }
   ],
   "source": [
    "df1.RetainedJob"
   ]
  },
  {
   "cell_type": "code",
   "execution_count": 73,
   "metadata": {},
   "outputs": [
    {
     "data": {
      "text/plain": [
       "0    35634\n",
       "1    25923\n",
       "2    20825\n",
       "3    14054\n",
       "4    10996\n",
       "Name: RetainedJob, dtype: int64"
      ]
     },
     "execution_count": 73,
     "metadata": {},
     "output_type": "execute_result"
    }
   ],
   "source": [
    "df1.RetainedJob.value_counts().head(5)"
   ]
  },
  {
   "cell_type": "markdown",
   "metadata": {},
   "source": [
    "=> 기존 직원 수 역시 0~4명인 경우가 채무 불이행율이 높게 나타났다."
   ]
  },
  {
   "cell_type": "code",
   "execution_count": 75,
   "metadata": {},
   "outputs": [
    {
     "data": {
      "text/html": [
       "<div>\n",
       "<style scoped>\n",
       "    .dataframe tbody tr th:only-of-type {\n",
       "        vertical-align: middle;\n",
       "    }\n",
       "\n",
       "    .dataframe tbody tr th {\n",
       "        vertical-align: top;\n",
       "    }\n",
       "\n",
       "    .dataframe thead th {\n",
       "        text-align: right;\n",
       "    }\n",
       "</style>\n",
       "<table border=\"1\" class=\"dataframe\">\n",
       "  <thead>\n",
       "    <tr style=\"text-align: right;\">\n",
       "      <th></th>\n",
       "      <th>CreateJob</th>\n",
       "      <th>RetainedJob</th>\n",
       "      <th>NoEmp</th>\n",
       "    </tr>\n",
       "  </thead>\n",
       "  <tbody>\n",
       "    <tr>\n",
       "      <th>12</th>\n",
       "      <td>0</td>\n",
       "      <td>0</td>\n",
       "      <td>1</td>\n",
       "    </tr>\n",
       "    <tr>\n",
       "      <th>55</th>\n",
       "      <td>0</td>\n",
       "      <td>0</td>\n",
       "      <td>24</td>\n",
       "    </tr>\n",
       "    <tr>\n",
       "      <th>76</th>\n",
       "      <td>0</td>\n",
       "      <td>0</td>\n",
       "      <td>6</td>\n",
       "    </tr>\n",
       "    <tr>\n",
       "      <th>157</th>\n",
       "      <td>0</td>\n",
       "      <td>0</td>\n",
       "      <td>2</td>\n",
       "    </tr>\n",
       "    <tr>\n",
       "      <th>183</th>\n",
       "      <td>0</td>\n",
       "      <td>0</td>\n",
       "      <td>40</td>\n",
       "    </tr>\n",
       "    <tr>\n",
       "      <th>...</th>\n",
       "      <td>...</td>\n",
       "      <td>...</td>\n",
       "      <td>...</td>\n",
       "    </tr>\n",
       "    <tr>\n",
       "      <th>864639</th>\n",
       "      <td>0</td>\n",
       "      <td>0</td>\n",
       "      <td>3</td>\n",
       "    </tr>\n",
       "    <tr>\n",
       "      <th>864648</th>\n",
       "      <td>0</td>\n",
       "      <td>0</td>\n",
       "      <td>3</td>\n",
       "    </tr>\n",
       "    <tr>\n",
       "      <th>864696</th>\n",
       "      <td>0</td>\n",
       "      <td>0</td>\n",
       "      <td>11</td>\n",
       "    </tr>\n",
       "    <tr>\n",
       "      <th>864699</th>\n",
       "      <td>0</td>\n",
       "      <td>0</td>\n",
       "      <td>5</td>\n",
       "    </tr>\n",
       "    <tr>\n",
       "      <th>864702</th>\n",
       "      <td>0</td>\n",
       "      <td>0</td>\n",
       "      <td>32</td>\n",
       "    </tr>\n",
       "  </tbody>\n",
       "</table>\n",
       "<p>148720 rows × 3 columns</p>\n",
       "</div>"
      ],
      "text/plain": [
       "        CreateJob  RetainedJob  NoEmp\n",
       "12              0            0      1\n",
       "55              0            0     24\n",
       "76              0            0      6\n",
       "157             0            0      2\n",
       "183             0            0     40\n",
       "...           ...          ...    ...\n",
       "864639          0            0      3\n",
       "864648          0            0      3\n",
       "864696          0            0     11\n",
       "864699          0            0      5\n",
       "864702          0            0     32\n",
       "\n",
       "[148720 rows x 3 columns]"
      ]
     },
     "execution_count": 75,
     "metadata": {},
     "output_type": "execute_result"
    }
   ],
   "source": [
    "df1[['CreateJob','RetainedJob','NoEmp']]"
   ]
  },
  {
   "cell_type": "markdown",
   "metadata": {},
   "source": [
    "=> NoEmp는 CreateJob + RetainedJob이 아닌 것을 확인할 수 있음."
   ]
  },
  {
   "cell_type": "markdown",
   "metadata": {},
   "source": [
    "따라서 기존 직원 수도 어떤 계산 방식에 의해 산정이 되는 것이라 0명이 나올 수 있다고 보았음."
   ]
  },
  {
   "cell_type": "markdown",
   "metadata": {},
   "source": [
    "- 0인~3인 : 0\n",
    "- 4인~20인 : 1\n",
    "- 21인 이상 : 2"
   ]
  },
  {
   "cell_type": "code",
   "execution_count": 77,
   "metadata": {},
   "outputs": [
    {
     "data": {
      "text/plain": [
       "0    96436\n",
       "1    47462\n",
       "2     4822\n",
       "Name: retainedjob2, dtype: int64"
      ]
     },
     "execution_count": 77,
     "metadata": {},
     "output_type": "execute_result"
    }
   ],
   "source": [
    "df1.retainedjob2.value_counts()"
   ]
  },
  {
   "cell_type": "markdown",
   "metadata": {},
   "source": [
    "=> 기존 직원 수 역시 0~3인에 해당하는 기업이 채무불이행율이 가장 높게 나타났다."
   ]
  },
  {
   "cell_type": "markdown",
   "metadata": {},
   "source": [
    "#### (16) DisbursementGross : 지급된 금액, dis_re : 범주화"
   ]
  },
  {
   "cell_type": "code",
   "execution_count": 78,
   "metadata": {},
   "outputs": [
    {
     "data": {
      "text/plain": [
       "12         40000\n",
       "55        187500\n",
       "76        175000\n",
       "157       218500\n",
       "183       200000\n",
       "           ...  \n",
       "864639    100000\n",
       "864648     60000\n",
       "864696    500000\n",
       "864699    100000\n",
       "864702    600000\n",
       "Name: DisbursementGross, Length: 148720, dtype: int64"
      ]
     },
     "execution_count": 78,
     "metadata": {},
     "output_type": "execute_result"
    }
   ],
   "source": [
    "df1.DisbursementGross"
   ]
  },
  {
   "cell_type": "code",
   "execution_count": 79,
   "metadata": {},
   "outputs": [
    {
     "data": {
      "text/plain": [
       "50000     9271\n",
       "25000     6800\n",
       "10000     5603\n",
       "5000      5406\n",
       "100000    5099\n",
       "          ... \n",
       "142485       1\n",
       "136338       1\n",
       "132240       1\n",
       "195727       1\n",
       "16392        1\n",
       "Name: DisbursementGross, Length: 43499, dtype: int64"
      ]
     },
     "execution_count": 79,
     "metadata": {},
     "output_type": "execute_result"
    }
   ],
   "source": [
    "df1.DisbursementGross.value_counts()"
   ]
  },
  {
   "cell_type": "markdown",
   "metadata": {},
   "source": [
    "- 1천만원 미만 : 0\n",
    "- 1천만원 이상 ~ 5천만원 미만 : 1\n",
    "- 5천만원 이상 ~ 1억 미만 : 2\n",
    "- 1억 이상 ~ 5억 미만 : 3\n",
    "- 5억 이상 ~ 10억 미만 : 4\n",
    "- 10억 이상 : 5"
   ]
  },
  {
   "cell_type": "code",
   "execution_count": 80,
   "metadata": {},
   "outputs": [
    {
     "data": {
      "text/plain": [
       "12        1\n",
       "55        3\n",
       "76        3\n",
       "157       3\n",
       "183       3\n",
       "         ..\n",
       "864639    3\n",
       "864648    2\n",
       "864696    4\n",
       "864699    3\n",
       "864702    4\n",
       "Name: dis_re, Length: 148720, dtype: int64"
      ]
     },
     "execution_count": 80,
     "metadata": {},
     "output_type": "execute_result"
    }
   ],
   "source": [
    "df1.dis_re"
   ]
  },
  {
   "cell_type": "code",
   "execution_count": 81,
   "metadata": {},
   "outputs": [
    {
     "data": {
      "text/plain": [
       "1    50838\n",
       "3    44980\n",
       "2    37529\n",
       "0     7530\n",
       "4     5583\n",
       "5     2260\n",
       "Name: dis_re, dtype: int64"
      ]
     },
     "execution_count": 81,
     "metadata": {},
     "output_type": "execute_result"
    }
   ],
   "source": [
    "df1.dis_re.value_counts()"
   ]
  },
  {
   "cell_type": "markdown",
   "metadata": {},
   "source": [
    "=> 채무불이행 기업의 대출 금액은 대부분 1천만원 ~ 5천만원 미만이었다."
   ]
  },
  {
   "cell_type": "markdown",
   "metadata": {},
   "source": [
    "#### (17) ChgOffPrinGr : 청구된 금액(회수 불가능 금액)"
   ]
  },
  {
   "cell_type": "code",
   "execution_count": 82,
   "metadata": {},
   "outputs": [
    {
     "data": {
      "text/plain": [
       "12         14569\n",
       "55         87366\n",
       "76         97959\n",
       "157        64073\n",
       "183       139041\n",
       "           ...  \n",
       "864639     37293\n",
       "864648     26267\n",
       "864696    131179\n",
       "864699     85170\n",
       "864702    572315\n",
       "Name: ChgOffPrinGr, Length: 148720, dtype: int64"
      ]
     },
     "execution_count": 82,
     "metadata": {},
     "output_type": "execute_result"
    }
   ],
   "source": [
    "df1.ChgOffPrinGr"
   ]
  },
  {
   "cell_type": "code",
   "execution_count": 83,
   "metadata": {},
   "outputs": [
    {
     "data": {
      "text/plain": [
       "50000     2084\n",
       "10000     1734\n",
       "35000     1318\n",
       "25000     1291\n",
       "100000    1016\n",
       "          ... \n",
       "106616       1\n",
       "69742        1\n",
       "295569       1\n",
       "75881        1\n",
       "2049         1\n",
       "Name: ChgOffPrinGr, Length: 78487, dtype: int64"
      ]
     },
     "execution_count": 83,
     "metadata": {},
     "output_type": "execute_result"
    }
   ],
   "source": [
    "df1.ChgOffPrinGr.value_counts()"
   ]
  },
  {
   "cell_type": "code",
   "execution_count": null,
   "metadata": {},
   "outputs": [],
   "source": []
  }
 ],
 "metadata": {
  "kernelspec": {
   "display_name": "Python 3",
   "language": "python",
   "name": "python3"
  },
  "language_info": {
   "codemirror_mode": {
    "name": "ipython",
    "version": 3
   },
   "file_extension": ".py",
   "mimetype": "text/x-python",
   "name": "python",
   "nbconvert_exporter": "python",
   "pygments_lexer": "ipython3",
   "version": "3.8.5"
  }
 },
 "nbformat": 4,
 "nbformat_minor": 4
}
