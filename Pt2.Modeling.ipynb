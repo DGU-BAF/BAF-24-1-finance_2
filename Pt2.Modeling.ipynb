{
 "cells": [
  {
   "cell_type": "markdown",
   "metadata": {},
   "source": [
    "# <center><span style=\"color:DarkBlue\">Modeling</span></center> <a class=\"tocSkip\">"
   ]
  },
  {
   "cell_type": "markdown",
   "metadata": {},
   "source": [
    "## 변수 설명\n",
    "\\**일차적으로 다음의 변수들은 모델링에 사용하지 않기로 함.*\n",
    "\n",
    "- ~LoanNr_ChkDgt : 식별 키~\n",
    "- ~Name : 차용 기업명(Borrower)~\n",
    "- ~City : 차용 기업이 위치한 도시~\n",
    "- ~State : 차용 기업이 위치한 주~\n",
    "- ~Zip : 차용 기업의 우편 번호~\n",
    "- ~Bank : 은행 이름~\n",
    "- ~BankState : 은행이 위치한 주~\n",
    "- NAICS : 북미 산업 분류 체계 코드\n",
    "- ~ApprovalDate : SBA 약정 발행 날짜~\n",
    "- ~ApprovalFY : 약정 회계 연도~\n",
    "- ~Term : 대출 기간(개월)~\n",
    "- NoEmp : 직원 수\n",
    "- NewExist : 0 = 기존 비즈니스, 1 = 신규 비즈니스\n",
    "- ~CreateJob : 신규 직원 수~\n",
    "- ~RetainedJob : 기존 직원 수~\n",
    "- FranchiseCode\t: 0=프랜차이즈 아님, 1=프랜차이즈\n",
    "- UrbanRural : 0 = 도시, 1 = 농촌\n",
    "- LowDoc : SBA 대출프로그램 신청 여부(0=아니오, 1 = 예)\n",
    "- ~ChgOffDate : 채무 불이행으로 선언되는 날짜~\n",
    "- ~DisbursementDate : 대금 지급일~\n",
    "- ~DisbursementGross : 지급된 금액~\n",
    "- `MIS_Status` : 채무불이행 여부 (0=채무이행, 1=채무불이행)\n",
    "- ~ChgOffPrinGr : 청구된 금액~\n",
    "- GrAppv : 은행에서 승인한 대출 금액\n",
    "- SBA_Appv : SBA의 승인된 대출 보증 금액\n",
    "- SameState : 기업이 위치한 State과 은행이 위치한 State이 동일한지 여부(0=동일하지 않음, 1=동일함)\n",
    "- Recession : SBA 약정 발행 날짜가 글로벌 금융위기 시기에 포함되는지 여부(0=포함되지 않음, 1=포함)\n",
    "- ChgOffDate2 : 채무 불이행으로 선언되는 날짜(결측치 대체)\n",
    "- Term_re : 대출 기간 범주형 변수 (0=5년 미만, 1=5년 이상 15년 미만, 2=15년 이상)\n",
    "- smallmedium : 0=500명 미만(소기업), 1=500명 이상 1500명 이하(중기업)\n",
    "- createjob2 : 신규 직원 수 파생변수 0= 0 ~ 3인, 1= 4 ~ 20인, 2=21인 이상\n",
    "- retainedjob2 : 기존 직원 수 파생변수 0= 0 ~ 3인, 1= 4 ~ 20인, 2=21인 이상\n",
    "- dis_re : 0=1천만원 미만, 1=1천만원 이상 ~ 5천만원 미만, 2=5천만원 이상 ~ 1억 미만, 3=1억 이상 ~ 5억 미만, 4=5억 이상 ~ 10억 미만, 5=10억 이상\n",
    "- appv_pct : SBA_Appv / GrAppv\n",
    "- ~Year : 대금 지급일의 연도~\n",
    "- ~Month : 대금 지급일의 달~\n",
    "- ~DATE : 금리 데이터 날짜~\n",
    "- DPRIME : 금리 데이터 대출 금리\n",
    "- dprime2 : 0=저금리, 1=고금리(10% 이상)\n",
    "- ~Density : 산업 밀도~\n",
    "- ~Upper_Threshold : 성장 가능성 상~\n",
    "- ~Lower_Threshold : 성장 가능성 하~\n",
    "- ~Label : 성장 가능성 지표(1,2,3)~\n",
    "- growth_potential : 성장 가능성"
   ]
  },
  {
   "cell_type": "markdown",
   "metadata": {},
   "source": [
    "## 라이브러리 불러오기"
   ]
  },
  {
   "cell_type": "code",
   "execution_count": 84,
   "metadata": {},
   "outputs": [
    {
     "name": "stdout",
     "output_type": "stream",
     "text": [
      "Collecting tensorflow\n",
      "  Using cached tensorflow-2.13.1-cp38-cp38-win_amd64.whl (1.9 kB)\n",
      "Note: you may need to restart the kernel to use updated packages.\n"
     ]
    },
    {
     "name": "stderr",
     "output_type": "stream",
     "text": [
      "ERROR: Could not find a version that satisfies the requirement tensorflow-intel==2.13.1; platform_system == \"Windows\" (from tensorflow) (from versions: 0.0.1, 2.10.0.dev20220728, 2.10.0rc0, 2.10.0rc1, 2.10.0rc2, 2.10.0rc3, 2.10.0, 2.10.1, 2.11.0rc0, 2.11.0rc1, 2.11.0rc2, 2.11.0, 2.11.1, 2.12.0rc0, 2.12.0rc1, 2.12.0, 2.12.1, 2.13.0rc0, 2.13.0rc1, 2.13.0rc2, 2.13.0)\n",
      "ERROR: No matching distribution found for tensorflow-intel==2.13.1; platform_system == \"Windows\" (from tensorflow)\n"
     ]
    }
   ],
   "source": [
    "#pip install --user tensorflow"
   ]
  },
  {
   "cell_type": "code",
   "execution_count": 52,
   "metadata": {},
   "outputs": [],
   "source": [
    "import os\n",
    "import pandas as pd\n",
    "import numpy as np\n",
    "import matplotlib.pyplot as plt\n",
    "import seaborn as sns\n",
    "import geopandas as gpd\n",
    "\n",
    "%config InlineBackend.figure_format = 'retina'  #선명하게 만들기\n",
    "\n",
    "from sklearn.model_selection import train_test_split, GridSearchCV\n",
    "from sklearn.preprocessing import OneHotEncoder, StandardScaler, MinMaxScaler, MaxAbsScaler, RobustScaler\n",
    "from sklearn.linear_model import LogisticRegression\n",
    "from sklearn.metrics import confusion_matrix, accuracy_score, precision_score, recall_score, f1_score, classification_report, roc_curve, auc\n",
    "from sklearn.ensemble import RandomForestClassifier\n",
    "from sklearn.svm import SVC\n",
    "from sklearn import svm\n",
    "from xgboost import XGBClassifier\n",
    "\n",
    "#import tensorflow as tf\n",
    "#from tensorflow.keras.models import Sequential\n",
    "#from tensorflow.keras.layers import Dense"
   ]
  },
  {
   "cell_type": "code",
   "execution_count": 2,
   "metadata": {},
   "outputs": [],
   "source": [
    "# Warning 메세지를 뜨지 않게 해줌\n",
    "import warnings\n",
    "warnings.filterwarnings('ignore')"
   ]
  },
  {
   "cell_type": "code",
   "execution_count": 3,
   "metadata": {},
   "outputs": [],
   "source": [
    "# Window의 한글 폰트 설정\n",
    "plt.rc('font', family='Malgun Gothic')\n",
    "plt.rc('axes', unicode_minus=False)"
   ]
  },
  {
   "cell_type": "markdown",
   "metadata": {},
   "source": [
    "## 데이터 불러오기\n",
    "EDA 및 전처리가 완료된 df_final3.csv 파일 불러옴"
   ]
  },
  {
   "cell_type": "code",
   "execution_count": 4,
   "metadata": {},
   "outputs": [],
   "source": [
    "data = pd.read_csv('df_final3.csv')\n",
    "df = data.copy() #원본 데이터"
   ]
  },
  {
   "cell_type": "code",
   "execution_count": 5,
   "metadata": {},
   "outputs": [
    {
     "name": "stdout",
     "output_type": "stream",
     "text": [
      "(864747, 44)\n"
     ]
    },
    {
     "data": {
      "text/html": [
       "<div>\n",
       "<style scoped>\n",
       "    .dataframe tbody tr th:only-of-type {\n",
       "        vertical-align: middle;\n",
       "    }\n",
       "\n",
       "    .dataframe tbody tr th {\n",
       "        vertical-align: top;\n",
       "    }\n",
       "\n",
       "    .dataframe thead th {\n",
       "        text-align: right;\n",
       "    }\n",
       "</style>\n",
       "<table border=\"1\" class=\"dataframe\">\n",
       "  <thead>\n",
       "    <tr style=\"text-align: right;\">\n",
       "      <th></th>\n",
       "      <th>LoanNr_ChkDgt</th>\n",
       "      <th>Name</th>\n",
       "      <th>City</th>\n",
       "      <th>State</th>\n",
       "      <th>Zip</th>\n",
       "      <th>Bank</th>\n",
       "      <th>BankState</th>\n",
       "      <th>NAICS</th>\n",
       "      <th>ApprovalDate</th>\n",
       "      <th>ApprovalFY</th>\n",
       "      <th>...</th>\n",
       "      <th>Year</th>\n",
       "      <th>Month</th>\n",
       "      <th>DATE</th>\n",
       "      <th>DPRIME</th>\n",
       "      <th>dprime2</th>\n",
       "      <th>Density</th>\n",
       "      <th>Upper_Threshold</th>\n",
       "      <th>Lower_Threshold</th>\n",
       "      <th>Label</th>\n",
       "      <th>growth_potential</th>\n",
       "    </tr>\n",
       "  </thead>\n",
       "  <tbody>\n",
       "    <tr>\n",
       "      <th>0</th>\n",
       "      <td>1000014003</td>\n",
       "      <td>ABC HOBBYCRAFT</td>\n",
       "      <td>EVANSVILLE</td>\n",
       "      <td>IN</td>\n",
       "      <td>47711</td>\n",
       "      <td>FIFTH THIRD BANK</td>\n",
       "      <td>OH</td>\n",
       "      <td>17</td>\n",
       "      <td>1997-02-28</td>\n",
       "      <td>1997</td>\n",
       "      <td>...</td>\n",
       "      <td>1999</td>\n",
       "      <td>2</td>\n",
       "      <td>1999-02-01</td>\n",
       "      <td>7.75</td>\n",
       "      <td>0</td>\n",
       "      <td>0.172105</td>\n",
       "      <td>0.118196</td>\n",
       "      <td>0.055178</td>\n",
       "      <td>1</td>\n",
       "      <td>1</td>\n",
       "    </tr>\n",
       "    <tr>\n",
       "      <th>1</th>\n",
       "      <td>1000935004</td>\n",
       "      <td>Hairline Inc.</td>\n",
       "      <td>Vancouver</td>\n",
       "      <td>WA</td>\n",
       "      <td>98663</td>\n",
       "      <td>WELLS FARGO BANK NATL ASSOC</td>\n",
       "      <td>SD</td>\n",
       "      <td>14</td>\n",
       "      <td>1997-04-08</td>\n",
       "      <td>1997</td>\n",
       "      <td>...</td>\n",
       "      <td>1999</td>\n",
       "      <td>2</td>\n",
       "      <td>1999-02-01</td>\n",
       "      <td>7.75</td>\n",
       "      <td>0</td>\n",
       "      <td>0.090095</td>\n",
       "      <td>0.134566</td>\n",
       "      <td>0.055910</td>\n",
       "      <td>3</td>\n",
       "      <td>2</td>\n",
       "    </tr>\n",
       "    <tr>\n",
       "      <th>2</th>\n",
       "      <td>1003535008</td>\n",
       "      <td>Jason A. Philbrook</td>\n",
       "      <td>Rockland</td>\n",
       "      <td>ME</td>\n",
       "      <td>4841</td>\n",
       "      <td>KEYBANK NATIONAL ASSOCIATION</td>\n",
       "      <td>OH</td>\n",
       "      <td>18</td>\n",
       "      <td>1999-01-11</td>\n",
       "      <td>1999</td>\n",
       "      <td>...</td>\n",
       "      <td>1999</td>\n",
       "      <td>2</td>\n",
       "      <td>1999-02-01</td>\n",
       "      <td>7.75</td>\n",
       "      <td>0</td>\n",
       "      <td>0.041237</td>\n",
       "      <td>0.213874</td>\n",
       "      <td>0.051896</td>\n",
       "      <td>5</td>\n",
       "      <td>2</td>\n",
       "    </tr>\n",
       "    <tr>\n",
       "      <th>3</th>\n",
       "      <td>1009994000</td>\n",
       "      <td>ARROW ENTERPRISE, INC.</td>\n",
       "      <td>BILLINGS</td>\n",
       "      <td>MT</td>\n",
       "      <td>59101</td>\n",
       "      <td>WESTERN SECURITY BANK</td>\n",
       "      <td>MT</td>\n",
       "      <td>5</td>\n",
       "      <td>1997-03-04</td>\n",
       "      <td>1997</td>\n",
       "      <td>...</td>\n",
       "      <td>1999</td>\n",
       "      <td>2</td>\n",
       "      <td>1999-02-01</td>\n",
       "      <td>7.75</td>\n",
       "      <td>0</td>\n",
       "      <td>0.148380</td>\n",
       "      <td>0.209033</td>\n",
       "      <td>0.057460</td>\n",
       "      <td>3</td>\n",
       "      <td>1</td>\n",
       "    </tr>\n",
       "    <tr>\n",
       "      <th>4</th>\n",
       "      <td>1011904005</td>\n",
       "      <td>ROBIN E. JONES, D.D.S.</td>\n",
       "      <td>TACOMA</td>\n",
       "      <td>WA</td>\n",
       "      <td>98404</td>\n",
       "      <td>KEYBANK NATIONAL ASSOCIATION</td>\n",
       "      <td>OR</td>\n",
       "      <td>8</td>\n",
       "      <td>1997-03-05</td>\n",
       "      <td>1997</td>\n",
       "      <td>...</td>\n",
       "      <td>1999</td>\n",
       "      <td>2</td>\n",
       "      <td>1999-02-01</td>\n",
       "      <td>7.75</td>\n",
       "      <td>0</td>\n",
       "      <td>0.094218</td>\n",
       "      <td>0.134566</td>\n",
       "      <td>0.055910</td>\n",
       "      <td>3</td>\n",
       "      <td>2</td>\n",
       "    </tr>\n",
       "  </tbody>\n",
       "</table>\n",
       "<p>5 rows × 44 columns</p>\n",
       "</div>"
      ],
      "text/plain": [
       "   LoanNr_ChkDgt                    Name        City State    Zip  \\\n",
       "0     1000014003          ABC HOBBYCRAFT  EVANSVILLE    IN  47711   \n",
       "1     1000935004           Hairline Inc.   Vancouver    WA  98663   \n",
       "2     1003535008      Jason A. Philbrook    Rockland    ME   4841   \n",
       "3     1009994000  ARROW ENTERPRISE, INC.    BILLINGS    MT  59101   \n",
       "4     1011904005  ROBIN E. JONES, D.D.S.      TACOMA    WA  98404   \n",
       "\n",
       "                           Bank BankState  NAICS ApprovalDate  ApprovalFY  \\\n",
       "0              FIFTH THIRD BANK        OH     17   1997-02-28        1997   \n",
       "1   WELLS FARGO BANK NATL ASSOC        SD     14   1997-04-08        1997   \n",
       "2  KEYBANK NATIONAL ASSOCIATION        OH     18   1999-01-11        1999   \n",
       "3         WESTERN SECURITY BANK        MT      5   1997-03-04        1997   \n",
       "4  KEYBANK NATIONAL ASSOCIATION        OR      8   1997-03-05        1997   \n",
       "\n",
       "   ...  Year  Month        DATE  DPRIME  dprime2   Density  Upper_Threshold  \\\n",
       "0  ...  1999      2  1999-02-01    7.75        0  0.172105         0.118196   \n",
       "1  ...  1999      2  1999-02-01    7.75        0  0.090095         0.134566   \n",
       "2  ...  1999      2  1999-02-01    7.75        0  0.041237         0.213874   \n",
       "3  ...  1999      2  1999-02-01    7.75        0  0.148380         0.209033   \n",
       "4  ...  1999      2  1999-02-01    7.75        0  0.094218         0.134566   \n",
       "\n",
       "   Lower_Threshold Label growth_potential  \n",
       "0         0.055178     1                1  \n",
       "1         0.055910     3                2  \n",
       "2         0.051896     5                2  \n",
       "3         0.057460     3                1  \n",
       "4         0.055910     3                2  \n",
       "\n",
       "[5 rows x 44 columns]"
      ]
     },
     "metadata": {},
     "output_type": "display_data"
    },
    {
     "data": {
      "text/html": [
       "<div>\n",
       "<style scoped>\n",
       "    .dataframe tbody tr th:only-of-type {\n",
       "        vertical-align: middle;\n",
       "    }\n",
       "\n",
       "    .dataframe tbody tr th {\n",
       "        vertical-align: top;\n",
       "    }\n",
       "\n",
       "    .dataframe thead th {\n",
       "        text-align: right;\n",
       "    }\n",
       "</style>\n",
       "<table border=\"1\" class=\"dataframe\">\n",
       "  <thead>\n",
       "    <tr style=\"text-align: right;\">\n",
       "      <th></th>\n",
       "      <th>LoanNr_ChkDgt</th>\n",
       "      <th>Name</th>\n",
       "      <th>City</th>\n",
       "      <th>State</th>\n",
       "      <th>Zip</th>\n",
       "      <th>Bank</th>\n",
       "      <th>BankState</th>\n",
       "      <th>NAICS</th>\n",
       "      <th>ApprovalDate</th>\n",
       "      <th>ApprovalFY</th>\n",
       "      <th>...</th>\n",
       "      <th>Year</th>\n",
       "      <th>Month</th>\n",
       "      <th>DATE</th>\n",
       "      <th>DPRIME</th>\n",
       "      <th>dprime2</th>\n",
       "      <th>Density</th>\n",
       "      <th>Upper_Threshold</th>\n",
       "      <th>Lower_Threshold</th>\n",
       "      <th>Label</th>\n",
       "      <th>growth_potential</th>\n",
       "    </tr>\n",
       "  </thead>\n",
       "  <tbody>\n",
       "    <tr>\n",
       "      <th>864742</th>\n",
       "      <td>9022713002</td>\n",
       "      <td>BJORK, LAURA BEAUTY CONSULTANT</td>\n",
       "      <td>DALE CITY</td>\n",
       "      <td>VA</td>\n",
       "      <td>22193</td>\n",
       "      <td>MANUFACTURERS &amp; TRADERS TR CO</td>\n",
       "      <td>MD</td>\n",
       "      <td>1</td>\n",
       "      <td>1996-02-21</td>\n",
       "      <td>1996</td>\n",
       "      <td>...</td>\n",
       "      <td>1996</td>\n",
       "      <td>2</td>\n",
       "      <td>1996-02-01</td>\n",
       "      <td>8.25</td>\n",
       "      <td>0</td>\n",
       "      <td>0.104331</td>\n",
       "      <td>0.139452</td>\n",
       "      <td>0.056099</td>\n",
       "      <td>3</td>\n",
       "      <td>1</td>\n",
       "    </tr>\n",
       "    <tr>\n",
       "      <th>864743</th>\n",
       "      <td>9035193000</td>\n",
       "      <td>PROFESSIONALS FOR NONPROFITS,I</td>\n",
       "      <td>NEW YORK</td>\n",
       "      <td>NY</td>\n",
       "      <td>10022</td>\n",
       "      <td>BANCO POPULAR NORTH AMERICA</td>\n",
       "      <td>NY</td>\n",
       "      <td>10</td>\n",
       "      <td>1996-02-26</td>\n",
       "      <td>1996</td>\n",
       "      <td>...</td>\n",
       "      <td>1996</td>\n",
       "      <td>2</td>\n",
       "      <td>1996-02-01</td>\n",
       "      <td>8.25</td>\n",
       "      <td>0</td>\n",
       "      <td>0.094630</td>\n",
       "      <td>0.103363</td>\n",
       "      <td>0.066158</td>\n",
       "      <td>3</td>\n",
       "      <td>1</td>\n",
       "    </tr>\n",
       "    <tr>\n",
       "      <th>864744</th>\n",
       "      <td>9256453010</td>\n",
       "      <td>NORTHAIRE MARKET INC</td>\n",
       "      <td>SHAKOPEE</td>\n",
       "      <td>MN</td>\n",
       "      <td>55379</td>\n",
       "      <td>FIDELITY BANK</td>\n",
       "      <td>MN</td>\n",
       "      <td>20</td>\n",
       "      <td>1996-05-07</td>\n",
       "      <td>1996</td>\n",
       "      <td>...</td>\n",
       "      <td>1996</td>\n",
       "      <td>2</td>\n",
       "      <td>1996-02-01</td>\n",
       "      <td>8.25</td>\n",
       "      <td>0</td>\n",
       "      <td>0.066200</td>\n",
       "      <td>0.133574</td>\n",
       "      <td>0.063179</td>\n",
       "      <td>3</td>\n",
       "      <td>2</td>\n",
       "    </tr>\n",
       "    <tr>\n",
       "      <th>864745</th>\n",
       "      <td>9459933001</td>\n",
       "      <td>COMPUTER RENAISSANCE</td>\n",
       "      <td>CARY</td>\n",
       "      <td>NC</td>\n",
       "      <td>27511</td>\n",
       "      <td>FIRST-CITIZENS BK &amp; TR CO</td>\n",
       "      <td>NC</td>\n",
       "      <td>17</td>\n",
       "      <td>1996-08-15</td>\n",
       "      <td>1996</td>\n",
       "      <td>...</td>\n",
       "      <td>1996</td>\n",
       "      <td>2</td>\n",
       "      <td>1996-02-01</td>\n",
       "      <td>8.25</td>\n",
       "      <td>0</td>\n",
       "      <td>0.187560</td>\n",
       "      <td>0.111641</td>\n",
       "      <td>0.060808</td>\n",
       "      <td>1</td>\n",
       "      <td>1</td>\n",
       "    </tr>\n",
       "    <tr>\n",
       "      <th>864746</th>\n",
       "      <td>7377094002</td>\n",
       "      <td>NORTHLAND DATACOMM CO</td>\n",
       "      <td>MINNEAPOLIS</td>\n",
       "      <td>MN</td>\n",
       "      <td>55311</td>\n",
       "      <td>BMO HARRIS BK NATL ASSOC</td>\n",
       "      <td>IL</td>\n",
       "      <td>20</td>\n",
       "      <td>2004-04-22</td>\n",
       "      <td>2004</td>\n",
       "      <td>...</td>\n",
       "      <td>2014</td>\n",
       "      <td>12</td>\n",
       "      <td>2014-12-01</td>\n",
       "      <td>3.25</td>\n",
       "      <td>0</td>\n",
       "      <td>0.066200</td>\n",
       "      <td>0.133574</td>\n",
       "      <td>0.063179</td>\n",
       "      <td>3</td>\n",
       "      <td>2</td>\n",
       "    </tr>\n",
       "  </tbody>\n",
       "</table>\n",
       "<p>5 rows × 44 columns</p>\n",
       "</div>"
      ],
      "text/plain": [
       "        LoanNr_ChkDgt                            Name         City State  \\\n",
       "864742     9022713002  BJORK, LAURA BEAUTY CONSULTANT    DALE CITY    VA   \n",
       "864743     9035193000  PROFESSIONALS FOR NONPROFITS,I     NEW YORK    NY   \n",
       "864744     9256453010            NORTHAIRE MARKET INC     SHAKOPEE    MN   \n",
       "864745     9459933001            COMPUTER RENAISSANCE         CARY    NC   \n",
       "864746     7377094002           NORTHLAND DATACOMM CO  MINNEAPOLIS    MN   \n",
       "\n",
       "          Zip                           Bank BankState  NAICS ApprovalDate  \\\n",
       "864742  22193  MANUFACTURERS & TRADERS TR CO        MD      1   1996-02-21   \n",
       "864743  10022    BANCO POPULAR NORTH AMERICA        NY     10   1996-02-26   \n",
       "864744  55379                  FIDELITY BANK        MN     20   1996-05-07   \n",
       "864745  27511      FIRST-CITIZENS BK & TR CO        NC     17   1996-08-15   \n",
       "864746  55311       BMO HARRIS BK NATL ASSOC        IL     20   2004-04-22   \n",
       "\n",
       "        ApprovalFY  ...  Year  Month        DATE  DPRIME  dprime2   Density  \\\n",
       "864742        1996  ...  1996      2  1996-02-01    8.25        0  0.104331   \n",
       "864743        1996  ...  1996      2  1996-02-01    8.25        0  0.094630   \n",
       "864744        1996  ...  1996      2  1996-02-01    8.25        0  0.066200   \n",
       "864745        1996  ...  1996      2  1996-02-01    8.25        0  0.187560   \n",
       "864746        2004  ...  2014     12  2014-12-01    3.25        0  0.066200   \n",
       "\n",
       "        Upper_Threshold  Lower_Threshold Label growth_potential  \n",
       "864742         0.139452         0.056099     3                1  \n",
       "864743         0.103363         0.066158     3                1  \n",
       "864744         0.133574         0.063179     3                2  \n",
       "864745         0.111641         0.060808     1                1  \n",
       "864746         0.133574         0.063179     3                2  \n",
       "\n",
       "[5 rows x 44 columns]"
      ]
     },
     "metadata": {},
     "output_type": "display_data"
    },
    {
     "name": "stdout",
     "output_type": "stream",
     "text": [
      "<class 'pandas.core.frame.DataFrame'>\n",
      "RangeIndex: 864747 entries, 0 to 864746\n",
      "Data columns (total 44 columns):\n",
      " #   Column             Non-Null Count   Dtype  \n",
      "---  ------             --------------   -----  \n",
      " 0   LoanNr_ChkDgt      864747 non-null  int64  \n",
      " 1   Name               864747 non-null  object \n",
      " 2   City               864747 non-null  object \n",
      " 3   State              864747 non-null  object \n",
      " 4   Zip                864747 non-null  int64  \n",
      " 5   Bank               864747 non-null  object \n",
      " 6   BankState          864747 non-null  object \n",
      " 7   NAICS              864747 non-null  int64  \n",
      " 8   ApprovalDate       864747 non-null  object \n",
      " 9   ApprovalFY         864747 non-null  int64  \n",
      " 10  Term               864747 non-null  int64  \n",
      " 11  NoEmp              864747 non-null  int64  \n",
      " 12  NewExist           864747 non-null  int64  \n",
      " 13  CreateJob          864747 non-null  int64  \n",
      " 14  RetainedJob        864747 non-null  int64  \n",
      " 15  FranchiseCode      864747 non-null  int64  \n",
      " 16  UrbanRural         864747 non-null  int64  \n",
      " 17  LowDoc             864747 non-null  int64  \n",
      " 18  ChgOffDate         148743 non-null  object \n",
      " 19  DisbursementDate   864747 non-null  object \n",
      " 20  DisbursementGross  864747 non-null  int64  \n",
      " 21  MIS_Status         864747 non-null  int64  \n",
      " 22  ChgOffPrinGr       864747 non-null  int64  \n",
      " 23  GrAppv             864747 non-null  int64  \n",
      " 24  SBA_Appv           864747 non-null  int64  \n",
      " 25  SameState          864747 non-null  int64  \n",
      " 26  Recession          864747 non-null  int64  \n",
      " 27  ChgOffDate2        864747 non-null  object \n",
      " 28  Term_re            864747 non-null  int64  \n",
      " 29  smallmedium        864747 non-null  int64  \n",
      " 30  createjob2         864747 non-null  int64  \n",
      " 31  retainedjob2       864747 non-null  int64  \n",
      " 32  dis_re             864747 non-null  int64  \n",
      " 33  appv_pct           864747 non-null  float64\n",
      " 34  Year               864747 non-null  int64  \n",
      " 35  Month              864747 non-null  int64  \n",
      " 36  DATE               864747 non-null  object \n",
      " 37  DPRIME             864747 non-null  float64\n",
      " 38  dprime2            864747 non-null  int64  \n",
      " 39  Density            864747 non-null  float64\n",
      " 40  Upper_Threshold    864747 non-null  float64\n",
      " 41  Lower_Threshold    864747 non-null  float64\n",
      " 42  Label              864747 non-null  int64  \n",
      " 43  growth_potential   864747 non-null  int64  \n",
      "dtypes: float64(5), int64(29), object(10)\n",
      "memory usage: 290.3+ MB\n",
      "None\n"
     ]
    }
   ],
   "source": [
    "print(df.shape)\n",
    "display(df.head())\n",
    "display(df.tail())\n",
    "print(df.info())"
   ]
  },
  {
   "cell_type": "markdown",
   "metadata": {},
   "source": [
    "## 2차 전처리\n",
    "- 변수 선택\n",
    "- *범주형 데이터 수치화*\n",
    "- train, valid, test 셋 분리\n",
    "- 스케일링"
   ]
  },
  {
   "cell_type": "markdown",
   "metadata": {},
   "source": [
    "## 1. 변수 선택"
   ]
  },
  {
   "cell_type": "code",
   "execution_count": 6,
   "metadata": {},
   "outputs": [
    {
     "name": "stdout",
     "output_type": "stream",
     "text": [
      "<class 'pandas.core.frame.DataFrame'>\n",
      "RangeIndex: 864747 entries, 0 to 864746\n",
      "Data columns (total 20 columns):\n",
      " #   Column            Non-Null Count   Dtype  \n",
      "---  ------            --------------   -----  \n",
      " 0   NAICS             864747 non-null  int64  \n",
      " 1   NoEmp             864747 non-null  int64  \n",
      " 2   NewExist          864747 non-null  int64  \n",
      " 3   FranchiseCode     864747 non-null  int64  \n",
      " 4   UrbanRural        864747 non-null  int64  \n",
      " 5   LowDoc            864747 non-null  int64  \n",
      " 6   MIS_Status        864747 non-null  int64  \n",
      " 7   GrAppv            864747 non-null  int64  \n",
      " 8   SBA_Appv          864747 non-null  int64  \n",
      " 9   SameState         864747 non-null  int64  \n",
      " 10  Recession         864747 non-null  int64  \n",
      " 11  Term_re           864747 non-null  int64  \n",
      " 12  smallmedium       864747 non-null  int64  \n",
      " 13  createjob2        864747 non-null  int64  \n",
      " 14  retainedjob2      864747 non-null  int64  \n",
      " 15  dis_re            864747 non-null  int64  \n",
      " 16  appv_pct          864747 non-null  float64\n",
      " 17  DPRIME            864747 non-null  float64\n",
      " 18  dprime2           864747 non-null  int64  \n",
      " 19  growth_potential  864747 non-null  int64  \n",
      "dtypes: float64(2), int64(18)\n",
      "memory usage: 132.0 MB\n"
     ]
    }
   ],
   "source": [
    "#필요없는 열은 제거\n",
    "df = df.drop([\"LoanNr_ChkDgt\",\"Name\",\"City\",\"State\",\"Zip\",\"Bank\",\"BankState\",\"ApprovalDate\",\"ApprovalFY\",\"Term\",\"CreateJob\",\"RetainedJob\",\"ChgOffDate\",\"DisbursementDate\",\"DisbursementGross\",\"ChgOffPrinGr\",\"ChgOffDate2\",\"Year\",\"Month\",\"DATE\",\"Density\",\"Upper_Threshold\",\"Lower_Threshold\",\"Label\"], axis=1)\n",
    "df.info()"
   ]
  },
  {
   "cell_type": "markdown",
   "metadata": {},
   "source": [
    "## 2. train, valid, test 셋 분리"
   ]
  },
  {
   "cell_type": "markdown",
   "metadata": {},
   "source": [
    "### 2.1 test 셋 만들기"
   ]
  },
  {
   "cell_type": "code",
   "execution_count": 7,
   "metadata": {},
   "outputs": [
    {
     "name": "stdout",
     "output_type": "stream",
     "text": [
      "        NAICS  NoEmp  NewExist  FranchiseCode  UrbanRural  LowDoc  MIS_Status  \\\n",
      "825107     13      4         0              0           0       0           0   \n",
      "212849      8     16         0              0           0       0           0   \n",
      "724805      3      1         1              0           1       0           0   \n",
      "525131      1      7         1              0           1       0           0   \n",
      "256633     10     52         0              0           0       0           0   \n",
      "\n",
      "         GrAppv  SBA_Appv  SameState  Recession  Term_re  smallmedium  \\\n",
      "825107   306000    229500          1          0        2            0   \n",
      "212849   517000    387750          1          0        2            0   \n",
      "724805   338400    287640          0          0        1            0   \n",
      "525131   175300    131475          1          0        1            0   \n",
      "256633  1185000    749986          0          0        1            0   \n",
      "\n",
      "        createjob2  retainedjob2  dis_re   appv_pct  DPRIME  dprime2  \\\n",
      "825107           0             0       3  75.000000    8.50        0   \n",
      "212849           0             0       4  75.000000    4.75        0   \n",
      "724805           0             0       3  85.000000    6.00        0   \n",
      "525131           1             0       3  75.000000    8.25        0   \n",
      "256633           0             2       5  63.289958    8.50        0   \n",
      "\n",
      "        growth_potential  \n",
      "825107                 2  \n",
      "212849                 2  \n",
      "724805                 2  \n",
      "525131                 1  \n",
      "256633                 1  \n"
     ]
    }
   ],
   "source": [
    "# 시드 고정\n",
    "seed = 42\n",
    "df_sample = df.sample(n=1000, random_state=seed)\n",
    "\n",
    "# 샘플 데이터 확인\n",
    "print(df_sample.head())\n",
    "\n",
    "# 필요하다면 test 데이터 프레임으로 할당\n",
    "test = df_sample"
   ]
  },
  {
   "cell_type": "code",
   "execution_count": 8,
   "metadata": {
    "scrolled": false
   },
   "outputs": [
    {
     "name": "stdout",
     "output_type": "stream",
     "text": [
      "(1000, 20)\n"
     ]
    },
    {
     "data": {
      "text/html": [
       "<div>\n",
       "<style scoped>\n",
       "    .dataframe tbody tr th:only-of-type {\n",
       "        vertical-align: middle;\n",
       "    }\n",
       "\n",
       "    .dataframe tbody tr th {\n",
       "        vertical-align: top;\n",
       "    }\n",
       "\n",
       "    .dataframe thead th {\n",
       "        text-align: right;\n",
       "    }\n",
       "</style>\n",
       "<table border=\"1\" class=\"dataframe\">\n",
       "  <thead>\n",
       "    <tr style=\"text-align: right;\">\n",
       "      <th></th>\n",
       "      <th>NAICS</th>\n",
       "      <th>NoEmp</th>\n",
       "      <th>NewExist</th>\n",
       "      <th>FranchiseCode</th>\n",
       "      <th>UrbanRural</th>\n",
       "      <th>LowDoc</th>\n",
       "      <th>MIS_Status</th>\n",
       "      <th>GrAppv</th>\n",
       "      <th>SBA_Appv</th>\n",
       "      <th>SameState</th>\n",
       "      <th>Recession</th>\n",
       "      <th>Term_re</th>\n",
       "      <th>smallmedium</th>\n",
       "      <th>createjob2</th>\n",
       "      <th>retainedjob2</th>\n",
       "      <th>dis_re</th>\n",
       "      <th>appv_pct</th>\n",
       "      <th>DPRIME</th>\n",
       "      <th>dprime2</th>\n",
       "      <th>growth_potential</th>\n",
       "    </tr>\n",
       "  </thead>\n",
       "  <tbody>\n",
       "    <tr>\n",
       "      <th>825107</th>\n",
       "      <td>13</td>\n",
       "      <td>4</td>\n",
       "      <td>0</td>\n",
       "      <td>0</td>\n",
       "      <td>0</td>\n",
       "      <td>0</td>\n",
       "      <td>0</td>\n",
       "      <td>306000</td>\n",
       "      <td>229500</td>\n",
       "      <td>1</td>\n",
       "      <td>0</td>\n",
       "      <td>2</td>\n",
       "      <td>0</td>\n",
       "      <td>0</td>\n",
       "      <td>0</td>\n",
       "      <td>3</td>\n",
       "      <td>75.000000</td>\n",
       "      <td>8.50</td>\n",
       "      <td>0</td>\n",
       "      <td>2</td>\n",
       "    </tr>\n",
       "    <tr>\n",
       "      <th>212849</th>\n",
       "      <td>8</td>\n",
       "      <td>16</td>\n",
       "      <td>0</td>\n",
       "      <td>0</td>\n",
       "      <td>0</td>\n",
       "      <td>0</td>\n",
       "      <td>0</td>\n",
       "      <td>517000</td>\n",
       "      <td>387750</td>\n",
       "      <td>1</td>\n",
       "      <td>0</td>\n",
       "      <td>2</td>\n",
       "      <td>0</td>\n",
       "      <td>0</td>\n",
       "      <td>0</td>\n",
       "      <td>4</td>\n",
       "      <td>75.000000</td>\n",
       "      <td>4.75</td>\n",
       "      <td>0</td>\n",
       "      <td>2</td>\n",
       "    </tr>\n",
       "    <tr>\n",
       "      <th>724805</th>\n",
       "      <td>3</td>\n",
       "      <td>1</td>\n",
       "      <td>1</td>\n",
       "      <td>0</td>\n",
       "      <td>1</td>\n",
       "      <td>0</td>\n",
       "      <td>0</td>\n",
       "      <td>338400</td>\n",
       "      <td>287640</td>\n",
       "      <td>0</td>\n",
       "      <td>0</td>\n",
       "      <td>1</td>\n",
       "      <td>0</td>\n",
       "      <td>0</td>\n",
       "      <td>0</td>\n",
       "      <td>3</td>\n",
       "      <td>85.000000</td>\n",
       "      <td>6.00</td>\n",
       "      <td>0</td>\n",
       "      <td>2</td>\n",
       "    </tr>\n",
       "    <tr>\n",
       "      <th>525131</th>\n",
       "      <td>1</td>\n",
       "      <td>7</td>\n",
       "      <td>1</td>\n",
       "      <td>0</td>\n",
       "      <td>1</td>\n",
       "      <td>0</td>\n",
       "      <td>0</td>\n",
       "      <td>175300</td>\n",
       "      <td>131475</td>\n",
       "      <td>1</td>\n",
       "      <td>0</td>\n",
       "      <td>1</td>\n",
       "      <td>0</td>\n",
       "      <td>1</td>\n",
       "      <td>0</td>\n",
       "      <td>3</td>\n",
       "      <td>75.000000</td>\n",
       "      <td>8.25</td>\n",
       "      <td>0</td>\n",
       "      <td>1</td>\n",
       "    </tr>\n",
       "    <tr>\n",
       "      <th>256633</th>\n",
       "      <td>10</td>\n",
       "      <td>52</td>\n",
       "      <td>0</td>\n",
       "      <td>0</td>\n",
       "      <td>0</td>\n",
       "      <td>0</td>\n",
       "      <td>0</td>\n",
       "      <td>1185000</td>\n",
       "      <td>749986</td>\n",
       "      <td>0</td>\n",
       "      <td>0</td>\n",
       "      <td>1</td>\n",
       "      <td>0</td>\n",
       "      <td>0</td>\n",
       "      <td>2</td>\n",
       "      <td>5</td>\n",
       "      <td>63.289958</td>\n",
       "      <td>8.50</td>\n",
       "      <td>0</td>\n",
       "      <td>1</td>\n",
       "    </tr>\n",
       "  </tbody>\n",
       "</table>\n",
       "</div>"
      ],
      "text/plain": [
       "        NAICS  NoEmp  NewExist  FranchiseCode  UrbanRural  LowDoc  MIS_Status  \\\n",
       "825107     13      4         0              0           0       0           0   \n",
       "212849      8     16         0              0           0       0           0   \n",
       "724805      3      1         1              0           1       0           0   \n",
       "525131      1      7         1              0           1       0           0   \n",
       "256633     10     52         0              0           0       0           0   \n",
       "\n",
       "         GrAppv  SBA_Appv  SameState  Recession  Term_re  smallmedium  \\\n",
       "825107   306000    229500          1          0        2            0   \n",
       "212849   517000    387750          1          0        2            0   \n",
       "724805   338400    287640          0          0        1            0   \n",
       "525131   175300    131475          1          0        1            0   \n",
       "256633  1185000    749986          0          0        1            0   \n",
       "\n",
       "        createjob2  retainedjob2  dis_re   appv_pct  DPRIME  dprime2  \\\n",
       "825107           0             0       3  75.000000    8.50        0   \n",
       "212849           0             0       4  75.000000    4.75        0   \n",
       "724805           0             0       3  85.000000    6.00        0   \n",
       "525131           1             0       3  75.000000    8.25        0   \n",
       "256633           0             2       5  63.289958    8.50        0   \n",
       "\n",
       "        growth_potential  \n",
       "825107                 2  \n",
       "212849                 2  \n",
       "724805                 2  \n",
       "525131                 1  \n",
       "256633                 1  "
      ]
     },
     "metadata": {},
     "output_type": "display_data"
    },
    {
     "data": {
      "text/html": [
       "<div>\n",
       "<style scoped>\n",
       "    .dataframe tbody tr th:only-of-type {\n",
       "        vertical-align: middle;\n",
       "    }\n",
       "\n",
       "    .dataframe tbody tr th {\n",
       "        vertical-align: top;\n",
       "    }\n",
       "\n",
       "    .dataframe thead th {\n",
       "        text-align: right;\n",
       "    }\n",
       "</style>\n",
       "<table border=\"1\" class=\"dataframe\">\n",
       "  <thead>\n",
       "    <tr style=\"text-align: right;\">\n",
       "      <th></th>\n",
       "      <th>NAICS</th>\n",
       "      <th>NoEmp</th>\n",
       "      <th>NewExist</th>\n",
       "      <th>FranchiseCode</th>\n",
       "      <th>UrbanRural</th>\n",
       "      <th>LowDoc</th>\n",
       "      <th>MIS_Status</th>\n",
       "      <th>GrAppv</th>\n",
       "      <th>SBA_Appv</th>\n",
       "      <th>SameState</th>\n",
       "      <th>Recession</th>\n",
       "      <th>Term_re</th>\n",
       "      <th>smallmedium</th>\n",
       "      <th>createjob2</th>\n",
       "      <th>retainedjob2</th>\n",
       "      <th>dis_re</th>\n",
       "      <th>appv_pct</th>\n",
       "      <th>DPRIME</th>\n",
       "      <th>dprime2</th>\n",
       "      <th>growth_potential</th>\n",
       "    </tr>\n",
       "  </thead>\n",
       "  <tbody>\n",
       "    <tr>\n",
       "      <th>451582</th>\n",
       "      <td>1</td>\n",
       "      <td>40</td>\n",
       "      <td>1</td>\n",
       "      <td>0</td>\n",
       "      <td>1</td>\n",
       "      <td>0</td>\n",
       "      <td>0</td>\n",
       "      <td>70000</td>\n",
       "      <td>35000</td>\n",
       "      <td>0</td>\n",
       "      <td>0</td>\n",
       "      <td>0</td>\n",
       "      <td>0</td>\n",
       "      <td>0</td>\n",
       "      <td>2</td>\n",
       "      <td>2</td>\n",
       "      <td>50.0</td>\n",
       "      <td>4.00</td>\n",
       "      <td>0</td>\n",
       "      <td>1</td>\n",
       "    </tr>\n",
       "    <tr>\n",
       "      <th>613651</th>\n",
       "      <td>13</td>\n",
       "      <td>4</td>\n",
       "      <td>0</td>\n",
       "      <td>0</td>\n",
       "      <td>1</td>\n",
       "      <td>1</td>\n",
       "      <td>0</td>\n",
       "      <td>100000</td>\n",
       "      <td>80000</td>\n",
       "      <td>1</td>\n",
       "      <td>0</td>\n",
       "      <td>1</td>\n",
       "      <td>0</td>\n",
       "      <td>0</td>\n",
       "      <td>0</td>\n",
       "      <td>3</td>\n",
       "      <td>80.0</td>\n",
       "      <td>8.25</td>\n",
       "      <td>0</td>\n",
       "      <td>2</td>\n",
       "    </tr>\n",
       "    <tr>\n",
       "      <th>582361</th>\n",
       "      <td>2</td>\n",
       "      <td>3</td>\n",
       "      <td>0</td>\n",
       "      <td>0</td>\n",
       "      <td>1</td>\n",
       "      <td>0</td>\n",
       "      <td>0</td>\n",
       "      <td>45000</td>\n",
       "      <td>22500</td>\n",
       "      <td>1</td>\n",
       "      <td>0</td>\n",
       "      <td>1</td>\n",
       "      <td>0</td>\n",
       "      <td>0</td>\n",
       "      <td>1</td>\n",
       "      <td>2</td>\n",
       "      <td>50.0</td>\n",
       "      <td>3.61</td>\n",
       "      <td>0</td>\n",
       "      <td>2</td>\n",
       "    </tr>\n",
       "    <tr>\n",
       "      <th>277365</th>\n",
       "      <td>14</td>\n",
       "      <td>8</td>\n",
       "      <td>0</td>\n",
       "      <td>0</td>\n",
       "      <td>1</td>\n",
       "      <td>0</td>\n",
       "      <td>0</td>\n",
       "      <td>20000</td>\n",
       "      <td>10000</td>\n",
       "      <td>1</td>\n",
       "      <td>0</td>\n",
       "      <td>0</td>\n",
       "      <td>0</td>\n",
       "      <td>0</td>\n",
       "      <td>1</td>\n",
       "      <td>1</td>\n",
       "      <td>50.0</td>\n",
       "      <td>9.50</td>\n",
       "      <td>0</td>\n",
       "      <td>2</td>\n",
       "    </tr>\n",
       "    <tr>\n",
       "      <th>316959</th>\n",
       "      <td>4</td>\n",
       "      <td>1</td>\n",
       "      <td>1</td>\n",
       "      <td>0</td>\n",
       "      <td>0</td>\n",
       "      <td>0</td>\n",
       "      <td>0</td>\n",
       "      <td>79000</td>\n",
       "      <td>79000</td>\n",
       "      <td>0</td>\n",
       "      <td>0</td>\n",
       "      <td>2</td>\n",
       "      <td>0</td>\n",
       "      <td>2</td>\n",
       "      <td>0</td>\n",
       "      <td>2</td>\n",
       "      <td>100.0</td>\n",
       "      <td>8.50</td>\n",
       "      <td>0</td>\n",
       "      <td>2</td>\n",
       "    </tr>\n",
       "  </tbody>\n",
       "</table>\n",
       "</div>"
      ],
      "text/plain": [
       "        NAICS  NoEmp  NewExist  FranchiseCode  UrbanRural  LowDoc  MIS_Status  \\\n",
       "451582      1     40         1              0           1       0           0   \n",
       "613651     13      4         0              0           1       1           0   \n",
       "582361      2      3         0              0           1       0           0   \n",
       "277365     14      8         0              0           1       0           0   \n",
       "316959      4      1         1              0           0       0           0   \n",
       "\n",
       "        GrAppv  SBA_Appv  SameState  Recession  Term_re  smallmedium  \\\n",
       "451582   70000     35000          0          0        0            0   \n",
       "613651  100000     80000          1          0        1            0   \n",
       "582361   45000     22500          1          0        1            0   \n",
       "277365   20000     10000          1          0        0            0   \n",
       "316959   79000     79000          0          0        2            0   \n",
       "\n",
       "        createjob2  retainedjob2  dis_re  appv_pct  DPRIME  dprime2  \\\n",
       "451582           0             2       2      50.0    4.00        0   \n",
       "613651           0             0       3      80.0    8.25        0   \n",
       "582361           0             1       2      50.0    3.61        0   \n",
       "277365           0             1       1      50.0    9.50        0   \n",
       "316959           2             0       2     100.0    8.50        0   \n",
       "\n",
       "        growth_potential  \n",
       "451582                 1  \n",
       "613651                 2  \n",
       "582361                 2  \n",
       "277365                 2  \n",
       "316959                 2  "
      ]
     },
     "metadata": {},
     "output_type": "display_data"
    },
    {
     "name": "stdout",
     "output_type": "stream",
     "text": [
      "<class 'pandas.core.frame.DataFrame'>\n",
      "Int64Index: 1000 entries, 825107 to 316959\n",
      "Data columns (total 20 columns):\n",
      " #   Column            Non-Null Count  Dtype  \n",
      "---  ------            --------------  -----  \n",
      " 0   NAICS             1000 non-null   int64  \n",
      " 1   NoEmp             1000 non-null   int64  \n",
      " 2   NewExist          1000 non-null   int64  \n",
      " 3   FranchiseCode     1000 non-null   int64  \n",
      " 4   UrbanRural        1000 non-null   int64  \n",
      " 5   LowDoc            1000 non-null   int64  \n",
      " 6   MIS_Status        1000 non-null   int64  \n",
      " 7   GrAppv            1000 non-null   int64  \n",
      " 8   SBA_Appv          1000 non-null   int64  \n",
      " 9   SameState         1000 non-null   int64  \n",
      " 10  Recession         1000 non-null   int64  \n",
      " 11  Term_re           1000 non-null   int64  \n",
      " 12  smallmedium       1000 non-null   int64  \n",
      " 13  createjob2        1000 non-null   int64  \n",
      " 14  retainedjob2      1000 non-null   int64  \n",
      " 15  dis_re            1000 non-null   int64  \n",
      " 16  appv_pct          1000 non-null   float64\n",
      " 17  DPRIME            1000 non-null   float64\n",
      " 18  dprime2           1000 non-null   int64  \n",
      " 19  growth_potential  1000 non-null   int64  \n",
      "dtypes: float64(2), int64(18)\n",
      "memory usage: 164.1 KB\n",
      "None\n"
     ]
    }
   ],
   "source": [
    "# test 데이터 구조 확인\n",
    "print(test.shape)\n",
    "display(test.head())\n",
    "display(test.tail())\n",
    "print(test.info())"
   ]
  },
  {
   "cell_type": "code",
   "execution_count": 9,
   "metadata": {},
   "outputs": [
    {
     "name": "stdout",
     "output_type": "stream",
     "text": [
      "        NAICS  NoEmp  NewExist  FranchiseCode  UrbanRural  LowDoc   GrAppv  \\\n",
      "825107     13      4         0              0           0       0   306000   \n",
      "212849      8     16         0              0           0       0   517000   \n",
      "724805      3      1         1              0           1       0   338400   \n",
      "525131      1      7         1              0           1       0   175300   \n",
      "256633     10     52         0              0           0       0  1185000   \n",
      "\n",
      "        SBA_Appv  SameState  Recession  Term_re  smallmedium  createjob2  \\\n",
      "825107    229500          1          0        2            0           0   \n",
      "212849    387750          1          0        2            0           0   \n",
      "724805    287640          0          0        1            0           0   \n",
      "525131    131475          1          0        1            0           1   \n",
      "256633    749986          0          0        1            0           0   \n",
      "\n",
      "        retainedjob2  dis_re   appv_pct  DPRIME  dprime2  growth_potential  \n",
      "825107             0       3  75.000000    8.50        0                 2  \n",
      "212849             0       4  75.000000    4.75        0                 2  \n",
      "724805             0       3  85.000000    6.00        0                 2  \n",
      "525131             0       3  75.000000    8.25        0                 1  \n",
      "256633             2       5  63.289958    8.50        0                 1  \n",
      "825107    0\n",
      "212849    0\n",
      "724805    0\n",
      "525131    0\n",
      "256633    0\n",
      "Name: MIS_Status, dtype: int64\n"
     ]
    }
   ],
   "source": [
    "# y_test에 MIS_Status 열 할당\n",
    "y_test = test['MIS_Status']\n",
    "\n",
    "# x_test에 MIS_Status를 제외한 열들 할당\n",
    "x_test = test.drop('MIS_Status', axis=1)\n",
    "\n",
    "# x_test 확인\n",
    "print(x_test.head())\n",
    "\n",
    "# y_test 확인\n",
    "print(y_test.head())"
   ]
  },
  {
   "cell_type": "markdown",
   "metadata": {},
   "source": [
    "## 2.2 샘플링\n",
    "- 채무이행(0) : 채무불이행(1) = 5:5 비율로 샘플링하기"
   ]
  },
  {
   "cell_type": "code",
   "execution_count": 10,
   "metadata": {},
   "outputs": [
    {
     "name": "stdout",
     "output_type": "stream",
     "text": [
      "1    4500\n",
      "0    4500\n",
      "Name: MIS_Status, dtype: int64\n"
     ]
    },
    {
     "data": {
      "text/html": [
       "<div>\n",
       "<style scoped>\n",
       "    .dataframe tbody tr th:only-of-type {\n",
       "        vertical-align: middle;\n",
       "    }\n",
       "\n",
       "    .dataframe tbody tr th {\n",
       "        vertical-align: top;\n",
       "    }\n",
       "\n",
       "    .dataframe thead th {\n",
       "        text-align: right;\n",
       "    }\n",
       "</style>\n",
       "<table border=\"1\" class=\"dataframe\">\n",
       "  <thead>\n",
       "    <tr style=\"text-align: right;\">\n",
       "      <th></th>\n",
       "      <th>NAICS</th>\n",
       "      <th>NoEmp</th>\n",
       "      <th>NewExist</th>\n",
       "      <th>FranchiseCode</th>\n",
       "      <th>UrbanRural</th>\n",
       "      <th>LowDoc</th>\n",
       "      <th>MIS_Status</th>\n",
       "      <th>GrAppv</th>\n",
       "      <th>SBA_Appv</th>\n",
       "      <th>SameState</th>\n",
       "      <th>Recession</th>\n",
       "      <th>Term_re</th>\n",
       "      <th>smallmedium</th>\n",
       "      <th>createjob2</th>\n",
       "      <th>retainedjob2</th>\n",
       "      <th>dis_re</th>\n",
       "      <th>appv_pct</th>\n",
       "      <th>DPRIME</th>\n",
       "      <th>dprime2</th>\n",
       "      <th>growth_potential</th>\n",
       "    </tr>\n",
       "  </thead>\n",
       "  <tbody>\n",
       "    <tr>\n",
       "      <th>222395</th>\n",
       "      <td>1</td>\n",
       "      <td>2</td>\n",
       "      <td>0</td>\n",
       "      <td>0</td>\n",
       "      <td>0</td>\n",
       "      <td>0</td>\n",
       "      <td>0</td>\n",
       "      <td>25000</td>\n",
       "      <td>12500</td>\n",
       "      <td>0</td>\n",
       "      <td>0</td>\n",
       "      <td>1</td>\n",
       "      <td>0</td>\n",
       "      <td>0</td>\n",
       "      <td>0</td>\n",
       "      <td>1</td>\n",
       "      <td>50.0</td>\n",
       "      <td>7.50</td>\n",
       "      <td>0</td>\n",
       "      <td>1</td>\n",
       "    </tr>\n",
       "    <tr>\n",
       "      <th>439185</th>\n",
       "      <td>1</td>\n",
       "      <td>5</td>\n",
       "      <td>0</td>\n",
       "      <td>0</td>\n",
       "      <td>0</td>\n",
       "      <td>0</td>\n",
       "      <td>0</td>\n",
       "      <td>60000</td>\n",
       "      <td>30000</td>\n",
       "      <td>1</td>\n",
       "      <td>0</td>\n",
       "      <td>0</td>\n",
       "      <td>0</td>\n",
       "      <td>0</td>\n",
       "      <td>1</td>\n",
       "      <td>2</td>\n",
       "      <td>50.0</td>\n",
       "      <td>4.00</td>\n",
       "      <td>0</td>\n",
       "      <td>1</td>\n",
       "    </tr>\n",
       "    <tr>\n",
       "      <th>273881</th>\n",
       "      <td>1</td>\n",
       "      <td>17</td>\n",
       "      <td>1</td>\n",
       "      <td>1</td>\n",
       "      <td>0</td>\n",
       "      <td>0</td>\n",
       "      <td>0</td>\n",
       "      <td>340000</td>\n",
       "      <td>255000</td>\n",
       "      <td>0</td>\n",
       "      <td>0</td>\n",
       "      <td>1</td>\n",
       "      <td>0</td>\n",
       "      <td>1</td>\n",
       "      <td>1</td>\n",
       "      <td>3</td>\n",
       "      <td>75.0</td>\n",
       "      <td>4.84</td>\n",
       "      <td>0</td>\n",
       "      <td>1</td>\n",
       "    </tr>\n",
       "    <tr>\n",
       "      <th>138058</th>\n",
       "      <td>8</td>\n",
       "      <td>8</td>\n",
       "      <td>0</td>\n",
       "      <td>0</td>\n",
       "      <td>1</td>\n",
       "      <td>1</td>\n",
       "      <td>0</td>\n",
       "      <td>125000</td>\n",
       "      <td>93750</td>\n",
       "      <td>1</td>\n",
       "      <td>0</td>\n",
       "      <td>1</td>\n",
       "      <td>0</td>\n",
       "      <td>0</td>\n",
       "      <td>0</td>\n",
       "      <td>3</td>\n",
       "      <td>75.0</td>\n",
       "      <td>9.50</td>\n",
       "      <td>0</td>\n",
       "      <td>2</td>\n",
       "    </tr>\n",
       "    <tr>\n",
       "      <th>470427</th>\n",
       "      <td>8</td>\n",
       "      <td>1</td>\n",
       "      <td>1</td>\n",
       "      <td>0</td>\n",
       "      <td>0</td>\n",
       "      <td>0</td>\n",
       "      <td>0</td>\n",
       "      <td>50000</td>\n",
       "      <td>25000</td>\n",
       "      <td>1</td>\n",
       "      <td>0</td>\n",
       "      <td>0</td>\n",
       "      <td>0</td>\n",
       "      <td>1</td>\n",
       "      <td>1</td>\n",
       "      <td>2</td>\n",
       "      <td>50.0</td>\n",
       "      <td>5.59</td>\n",
       "      <td>0</td>\n",
       "      <td>2</td>\n",
       "    </tr>\n",
       "    <tr>\n",
       "      <th>...</th>\n",
       "      <td>...</td>\n",
       "      <td>...</td>\n",
       "      <td>...</td>\n",
       "      <td>...</td>\n",
       "      <td>...</td>\n",
       "      <td>...</td>\n",
       "      <td>...</td>\n",
       "      <td>...</td>\n",
       "      <td>...</td>\n",
       "      <td>...</td>\n",
       "      <td>...</td>\n",
       "      <td>...</td>\n",
       "      <td>...</td>\n",
       "      <td>...</td>\n",
       "      <td>...</td>\n",
       "      <td>...</td>\n",
       "      <td>...</td>\n",
       "      <td>...</td>\n",
       "      <td>...</td>\n",
       "      <td>...</td>\n",
       "    </tr>\n",
       "    <tr>\n",
       "      <th>371085</th>\n",
       "      <td>17</td>\n",
       "      <td>3</td>\n",
       "      <td>0</td>\n",
       "      <td>0</td>\n",
       "      <td>0</td>\n",
       "      <td>0</td>\n",
       "      <td>1</td>\n",
       "      <td>10000</td>\n",
       "      <td>5000</td>\n",
       "      <td>0</td>\n",
       "      <td>0</td>\n",
       "      <td>0</td>\n",
       "      <td>0</td>\n",
       "      <td>0</td>\n",
       "      <td>1</td>\n",
       "      <td>1</td>\n",
       "      <td>50.0</td>\n",
       "      <td>4.01</td>\n",
       "      <td>0</td>\n",
       "      <td>1</td>\n",
       "    </tr>\n",
       "    <tr>\n",
       "      <th>751654</th>\n",
       "      <td>5</td>\n",
       "      <td>87</td>\n",
       "      <td>0</td>\n",
       "      <td>0</td>\n",
       "      <td>1</td>\n",
       "      <td>0</td>\n",
       "      <td>1</td>\n",
       "      <td>280000</td>\n",
       "      <td>238000</td>\n",
       "      <td>1</td>\n",
       "      <td>0</td>\n",
       "      <td>0</td>\n",
       "      <td>0</td>\n",
       "      <td>0</td>\n",
       "      <td>0</td>\n",
       "      <td>3</td>\n",
       "      <td>85.0</td>\n",
       "      <td>6.00</td>\n",
       "      <td>0</td>\n",
       "      <td>1</td>\n",
       "    </tr>\n",
       "    <tr>\n",
       "      <th>601567</th>\n",
       "      <td>2</td>\n",
       "      <td>4</td>\n",
       "      <td>0</td>\n",
       "      <td>0</td>\n",
       "      <td>1</td>\n",
       "      <td>0</td>\n",
       "      <td>1</td>\n",
       "      <td>25000</td>\n",
       "      <td>12500</td>\n",
       "      <td>0</td>\n",
       "      <td>0</td>\n",
       "      <td>0</td>\n",
       "      <td>0</td>\n",
       "      <td>0</td>\n",
       "      <td>1</td>\n",
       "      <td>2</td>\n",
       "      <td>50.0</td>\n",
       "      <td>4.75</td>\n",
       "      <td>0</td>\n",
       "      <td>2</td>\n",
       "    </tr>\n",
       "    <tr>\n",
       "      <th>537593</th>\n",
       "      <td>14</td>\n",
       "      <td>1</td>\n",
       "      <td>1</td>\n",
       "      <td>0</td>\n",
       "      <td>1</td>\n",
       "      <td>0</td>\n",
       "      <td>1</td>\n",
       "      <td>20000</td>\n",
       "      <td>10000</td>\n",
       "      <td>1</td>\n",
       "      <td>0</td>\n",
       "      <td>0</td>\n",
       "      <td>0</td>\n",
       "      <td>0</td>\n",
       "      <td>0</td>\n",
       "      <td>1</td>\n",
       "      <td>50.0</td>\n",
       "      <td>7.74</td>\n",
       "      <td>0</td>\n",
       "      <td>2</td>\n",
       "    </tr>\n",
       "    <tr>\n",
       "      <th>460304</th>\n",
       "      <td>17</td>\n",
       "      <td>15</td>\n",
       "      <td>0</td>\n",
       "      <td>0</td>\n",
       "      <td>0</td>\n",
       "      <td>0</td>\n",
       "      <td>1</td>\n",
       "      <td>45000</td>\n",
       "      <td>22500</td>\n",
       "      <td>0</td>\n",
       "      <td>0</td>\n",
       "      <td>0</td>\n",
       "      <td>0</td>\n",
       "      <td>0</td>\n",
       "      <td>1</td>\n",
       "      <td>2</td>\n",
       "      <td>50.0</td>\n",
       "      <td>7.15</td>\n",
       "      <td>0</td>\n",
       "      <td>1</td>\n",
       "    </tr>\n",
       "  </tbody>\n",
       "</table>\n",
       "<p>9000 rows × 20 columns</p>\n",
       "</div>"
      ],
      "text/plain": [
       "        NAICS  NoEmp  NewExist  FranchiseCode  UrbanRural  LowDoc  MIS_Status  \\\n",
       "222395      1      2         0              0           0       0           0   \n",
       "439185      1      5         0              0           0       0           0   \n",
       "273881      1     17         1              1           0       0           0   \n",
       "138058      8      8         0              0           1       1           0   \n",
       "470427      8      1         1              0           0       0           0   \n",
       "...       ...    ...       ...            ...         ...     ...         ...   \n",
       "371085     17      3         0              0           0       0           1   \n",
       "751654      5     87         0              0           1       0           1   \n",
       "601567      2      4         0              0           1       0           1   \n",
       "537593     14      1         1              0           1       0           1   \n",
       "460304     17     15         0              0           0       0           1   \n",
       "\n",
       "        GrAppv  SBA_Appv  SameState  Recession  Term_re  smallmedium  \\\n",
       "222395   25000     12500          0          0        1            0   \n",
       "439185   60000     30000          1          0        0            0   \n",
       "273881  340000    255000          0          0        1            0   \n",
       "138058  125000     93750          1          0        1            0   \n",
       "470427   50000     25000          1          0        0            0   \n",
       "...        ...       ...        ...        ...      ...          ...   \n",
       "371085   10000      5000          0          0        0            0   \n",
       "751654  280000    238000          1          0        0            0   \n",
       "601567   25000     12500          0          0        0            0   \n",
       "537593   20000     10000          1          0        0            0   \n",
       "460304   45000     22500          0          0        0            0   \n",
       "\n",
       "        createjob2  retainedjob2  dis_re  appv_pct  DPRIME  dprime2  \\\n",
       "222395           0             0       1      50.0    7.50        0   \n",
       "439185           0             1       2      50.0    4.00        0   \n",
       "273881           1             1       3      75.0    4.84        0   \n",
       "138058           0             0       3      75.0    9.50        0   \n",
       "470427           1             1       2      50.0    5.59        0   \n",
       "...            ...           ...     ...       ...     ...      ...   \n",
       "371085           0             1       1      50.0    4.01        0   \n",
       "751654           0             0       3      85.0    6.00        0   \n",
       "601567           0             1       2      50.0    4.75        0   \n",
       "537593           0             0       1      50.0    7.74        0   \n",
       "460304           0             1       2      50.0    7.15        0   \n",
       "\n",
       "        growth_potential  \n",
       "222395                 1  \n",
       "439185                 1  \n",
       "273881                 1  \n",
       "138058                 2  \n",
       "470427                 2  \n",
       "...                  ...  \n",
       "371085                 1  \n",
       "751654                 1  \n",
       "601567                 2  \n",
       "537593                 2  \n",
       "460304                 1  \n",
       "\n",
       "[9000 rows x 20 columns]"
      ]
     },
     "execution_count": 10,
     "metadata": {},
     "output_type": "execute_result"
    }
   ],
   "source": [
    "# 시드 고정\n",
    "seed = 42\n",
    "# df에서 test 데이터를 제외한 데이터를 추출\n",
    "df_remaining = df.drop(test.index)\n",
    "\n",
    "# MIS_Status가 0인 데이터와 1인 데이터로 분리\n",
    "df_0 = df_remaining[df_remaining['MIS_Status'] == 0]\n",
    "df_1 = df_remaining[df_remaining['MIS_Status'] == 1]\n",
    "\n",
    "# 0과 1의 비율 계산\n",
    "ratio_0 = len(df_0) / len(df_remaining)\n",
    "ratio_1 = len(df_1) / len(df_remaining)\n",
    "\n",
    "# 다운 샘플링할 데이터 개수 계산\n",
    "total_samples = 9000\n",
    "samples_0 = int(total_samples * 0.5)  # MIS_Status가 0인 샘플 개수\n",
    "samples_1 = int(total_samples * 0.5)  # MIS_Status가 1인 샘플 개수\n",
    "\n",
    "# 비율 조정을 위한 다운 샘플링\n",
    "df_0_downsampled = df_0.sample(n=samples_0, random_state=seed)\n",
    "df_1_downsampled = df_1.sample(n=samples_1, random_state=seed)\n",
    "\n",
    "# 다운 샘플링된 데이터 합치기\n",
    "df_downsampled = pd.concat([df_0_downsampled, df_1_downsampled])\n",
    "\n",
    "# 결과 데이터프레임 확인\n",
    "print(df_downsampled['MIS_Status'].value_counts())\n",
    "\n",
    "# 최종 데이터프레임 할당\n",
    "df_fin = df_downsampled\n",
    "df_fin"
   ]
  },
  {
   "cell_type": "markdown",
   "metadata": {},
   "source": [
    "### train, valid 데이터셋 만들기"
   ]
  },
  {
   "cell_type": "code",
   "execution_count": 11,
   "metadata": {},
   "outputs": [
    {
     "name": "stdout",
     "output_type": "stream",
     "text": [
      "Train 데이터 비율:\n",
      "0    0.502286\n",
      "1    0.497714\n",
      "Name: MIS_Status, dtype: float64\n",
      "\n",
      "Valid 데이터 비율:\n",
      "1    0.508\n",
      "0    0.492\n",
      "Name: MIS_Status, dtype: float64\n"
     ]
    }
   ],
   "source": [
    "# train 데이터와 valid 데이터를 분할\n",
    "df_train, df_valid = train_test_split(df_fin, train_size=7000, test_size=2000, random_state=42)\n",
    "\n",
    "# 결과 확인\n",
    "print(\"Train 데이터 비율:\")\n",
    "print(df_train['MIS_Status'].value_counts(normalize=True))\n",
    "print(\"\\nValid 데이터 비율:\")\n",
    "print(df_valid['MIS_Status'].value_counts(normalize=True))"
   ]
  },
  {
   "cell_type": "code",
   "execution_count": 12,
   "metadata": {},
   "outputs": [
    {
     "name": "stdout",
     "output_type": "stream",
     "text": [
      "        NAICS  NoEmp  NewExist  FranchiseCode  UrbanRural  LowDoc  GrAppv  \\\n",
      "479937     20      1         0              0           0       0  100000   \n",
      "699666     17      1         0              0           1       0   26000   \n",
      "67684      10      5         0              0           0       0   50000   \n",
      "411530     17      2         0              0           0       0    6000   \n",
      "202436      8      4         0              0           0       0  125500   \n",
      "\n",
      "        SBA_Appv  SameState  Recession  Term_re  smallmedium  createjob2  \\\n",
      "479937     50000          1          0        1            0           0   \n",
      "699666     23400          1          0        1            0           0   \n",
      "67684      25000          1          0        0            0           0   \n",
      "411530      5100          0          0        0            0           0   \n",
      "202436     62750          0          0        1            0           0   \n",
      "\n",
      "        retainedjob2  dis_re  appv_pct  DPRIME  dprime2  growth_potential  \n",
      "479937             0       3      50.0    8.25        0                 2  \n",
      "699666             0       1      90.0   10.50        1                 1  \n",
      "67684              1       2      50.0    7.92        0                 1  \n",
      "411530             0       0      85.0    4.00        0                 1  \n",
      "202436             1       3      50.0    8.25        0                 2  \n",
      "479937    1\n",
      "699666    0\n",
      "67684     1\n",
      "411530    1\n",
      "202436    0\n",
      "Name: MIS_Status, dtype: int64\n"
     ]
    }
   ],
   "source": [
    "# df_train 분리\n",
    "y_train = df_train['MIS_Status']\n",
    "x_train = df_train.drop('MIS_Status', axis=1)\n",
    "\n",
    "# x_train, y_train 확인\n",
    "print(x_train.head())\n",
    "print(y_train.head())"
   ]
  },
  {
   "cell_type": "code",
   "execution_count": 13,
   "metadata": {},
   "outputs": [
    {
     "name": "stdout",
     "output_type": "stream",
     "text": [
      "        NAICS  NoEmp  NewExist  FranchiseCode  UrbanRural  LowDoc  GrAppv  \\\n",
      "313128     14      3         0              0           0       1   50000   \n",
      "398709      8      6         0              0           0       0   40000   \n",
      "48061       8      1         1              0           0       0  500000   \n",
      "717593     16     14         0              0           1       0  445000   \n",
      "93573      20      3         0              0           1       0  100000   \n",
      "\n",
      "        SBA_Appv  SameState  Recession  Term_re  smallmedium  createjob2  \\\n",
      "313128     42500          0          0        0            0           0   \n",
      "398709     20000          0          0        1            0           0   \n",
      "48061     375000          1          0        1            0           0   \n",
      "717593    378250          1          0        1            0           0   \n",
      "93573      50000          0          0        0            0           0   \n",
      "\n",
      "        retainedjob2  dis_re  appv_pct  DPRIME  dprime2  growth_potential  \n",
      "313128             0       2      85.0    4.00        0                 2  \n",
      "398709             1       1      50.0    4.00        0                 2  \n",
      "48061              0       4      75.0    8.50        0                 2  \n",
      "717593             0       3      85.0    8.50        0                 2  \n",
      "93573              0       3      50.0    8.25        0                 2  \n",
      "313128    1\n",
      "398709    0\n",
      "48061     0\n",
      "717593    0\n",
      "93573     1\n",
      "Name: MIS_Status, dtype: int64\n"
     ]
    }
   ],
   "source": [
    "# df_valid 분리\n",
    "y_valid = df_valid['MIS_Status']\n",
    "x_valid = df_valid.drop('MIS_Status', axis=1)\n",
    "\n",
    "# x_valid, y_valid 확인\n",
    "print(x_valid.head())\n",
    "print(y_valid.head())"
   ]
  },
  {
   "cell_type": "markdown",
   "metadata": {},
   "source": [
    "## 3. 변수 스케일링"
   ]
  },
  {
   "cell_type": "markdown",
   "metadata": {},
   "source": [
    "(1) Standard Scaler"
   ]
  },
  {
   "cell_type": "code",
   "execution_count": 14,
   "metadata": {},
   "outputs": [
    {
     "name": "stdout",
     "output_type": "stream",
     "text": [
      "Train 데이터 스케일링 후 통계 정보:\n",
      "                 0             1             2             3             4   \\\n",
      "count  7.000000e+03  7.000000e+03  7.000000e+03  7.000000e+03  7.000000e+03   \n",
      "mean  -2.100701e-16 -3.264373e-16  2.244554e-16  3.076943e-16 -3.976502e-16   \n",
      "std    1.000071e+00  1.000071e+00  1.000071e+00  1.000071e+00  1.000071e+00   \n",
      "min   -1.629067e+00 -3.253877e-01 -6.326769e-01 -2.325040e-01 -9.298805e-01   \n",
      "25%   -9.702496e-01 -2.867889e-01 -6.326769e-01 -2.325040e-01 -9.298805e-01   \n",
      "50%    3.473849e-01 -2.095914e-01 -6.326769e-01 -2.325040e-01 -9.298805e-01   \n",
      "75%    1.006202e+00 -1.659748e-02  1.580586e+00 -2.325040e-01  1.075407e+00   \n",
      "max    1.500315e+00  3.823479e+01  1.580586e+00  4.301001e+00  1.075407e+00   \n",
      "\n",
      "                 5             6             7             8             9   \\\n",
      "count  7.000000e+03  7.000000e+03  7.000000e+03  7.000000e+03  7.000000e+03   \n",
      "mean  -1.158280e-16  5.443265e-17  1.140833e-16 -2.028536e-17  7.743726e-16   \n",
      "std    1.000071e+00  1.000071e+00  1.000071e+00  1.000071e+00  1.000071e+00   \n",
      "min   -3.489912e-01 -6.073070e-01 -5.724364e-01 -8.861483e-01 -2.335262e-01   \n",
      "25%   -3.489912e-01 -5.239696e-01 -5.094735e-01 -8.861483e-01 -2.335262e-01   \n",
      "50%   -3.489912e-01 -3.913874e-01 -3.844805e-01 -8.861483e-01 -2.335262e-01   \n",
      "75%   -3.489912e-01 -4.247308e-03  1.521712e-02  1.128479e+00 -2.335262e-01   \n",
      "max    2.865402e+00  1.157132e+01  1.442905e+01  1.128479e+00  4.282174e+00   \n",
      "\n",
      "                 10            11            12            13            14  \\\n",
      "count  7.000000e+03  7.000000e+03  7.000000e+03  7.000000e+03  7.000000e+03   \n",
      "mean  -1.318311e-16  1.074454e-15  2.489691e-15  1.270254e-16 -2.591895e-16   \n",
      "std    1.000071e+00  1.000071e+00  1.000071e+00  1.000071e+00  1.000071e+00   \n",
      "min   -9.983395e-01 -1.690550e-02 -3.651971e-01 -6.300556e-01 -1.997465e+00   \n",
      "25%   -9.983395e-01 -1.690550e-02 -3.651971e-01 -6.300556e-01 -1.089114e+00   \n",
      "50%    4.760015e-01 -1.690550e-02 -3.651971e-01 -6.300556e-01 -1.807620e-01   \n",
      "75%    4.760015e-01 -1.690550e-02 -3.651971e-01  1.151200e+00  7.275896e-01   \n",
      "max    1.950343e+00  5.915235e+01  4.747562e+00  2.932456e+00  2.544293e+00   \n",
      "\n",
      "                 15            16            17            18  \n",
      "count  7.000000e+03  7.000000e+03  7.000000e+03  7.000000e+03  \n",
      "mean   1.941304e-16 -1.950820e-18  1.862875e-16  3.343675e-16  \n",
      "std    1.000071e+00  1.000071e+00  1.000071e+00  1.000071e+00  \n",
      "min   -3.468076e+00 -1.818063e+00 -1.172951e-01 -9.949222e-01  \n",
      "25%   -1.035014e+00 -9.825891e-01 -1.172951e-01 -9.949222e-01  \n",
      "50%    4.132366e-01  2.890133e-01 -1.172951e-01  9.074147e-01  \n",
      "75%    9.925369e-01  8.092143e-01 -1.172951e-01  9.074147e-01  \n",
      "max    1.861487e+00  2.516945e+00  8.525504e+00  2.809752e+00  \n"
     ]
    }
   ],
   "source": [
    "# 스케일러 초기화\n",
    "scaler = StandardScaler()\n",
    "\n",
    "# Train 데이터 스케일링\n",
    "x_train = scaler.fit_transform(x_train)\n",
    "\n",
    "# Valid 데이터 스케일링\n",
    "x_valid = scaler.transform(x_valid)\n",
    "\n",
    "# Test 데이터 스케일링\n",
    "x_test = scaler.transform(x_test)\n",
    "\n",
    "# 결과 확인\n",
    "print(\"Train 데이터 스케일링 후 통계 정보:\")\n",
    "print(pd.DataFrame(x_train).describe())"
   ]
  },
  {
   "cell_type": "markdown",
   "metadata": {},
   "source": [
    "(2) MinMax Scaler"
   ]
  },
  {
   "cell_type": "code",
   "execution_count": 15,
   "metadata": {},
   "outputs": [
    {
     "name": "stdout",
     "output_type": "stream",
     "text": [
      "Train 데이터 스케일링 후 통계 정보:\n",
      "                0            1            2            3            4   \\\n",
      "count  7000.000000  7000.000000  7000.000000  7000.000000  7000.000000   \n",
      "mean      0.520571     0.008438     0.285857     0.051286     0.463714   \n",
      "std       0.319575     0.025935     0.451854     0.220596     0.498717   \n",
      "min       0.000000     0.000000     0.000000     0.000000     0.000000   \n",
      "25%       0.210526     0.001001     0.000000     0.000000     0.000000   \n",
      "50%       0.631579     0.003003     0.000000     0.000000     0.000000   \n",
      "75%       0.842105     0.008008     1.000000     0.000000     1.000000   \n",
      "max       1.000000     1.000000     1.000000     1.000000     1.000000   \n",
      "\n",
      "                5            6            7            8            9   \\\n",
      "count  7000.000000  7000.000000  7000.000000  7000.000000  7000.000000   \n",
      "mean      0.108571     0.049867     0.038159     0.439857     0.051714   \n",
      "std       0.311123     0.082117     0.066665     0.496405     0.221465   \n",
      "min       0.000000     0.000000     0.000000     0.000000     0.000000   \n",
      "25%       0.000000     0.006843     0.004197     0.000000     0.000000   \n",
      "50%       0.000000     0.017729     0.012529     0.000000     0.000000   \n",
      "75%       0.000000     0.049518     0.039173     1.000000     0.000000   \n",
      "max       1.000000     1.000000     1.000000     1.000000     1.000000   \n",
      "\n",
      "                10           11           12           13           14  \\\n",
      "count  7000.000000  7000.000000  7000.000000  7000.000000  7000.000000   \n",
      "mean      0.338571     0.000286     0.071429     0.176857     0.439800   \n",
      "std       0.339159     0.016902     0.195603     0.280721     0.220195   \n",
      "min       0.000000     0.000000     0.000000     0.000000     0.000000   \n",
      "25%       0.000000     0.000000     0.000000     0.000000     0.200000   \n",
      "50%       0.500000     0.000000     0.000000     0.000000     0.400000   \n",
      "75%       0.500000     0.000000     0.000000     0.500000     0.600000   \n",
      "max       1.000000     1.000000     1.000000     1.000000     1.000000   \n",
      "\n",
      "                15           16           17           18  \n",
      "count  7000.000000  7000.000000  7000.000000  7000.000000  \n",
      "mean      0.650724     0.419391     0.013571     0.261500  \n",
      "std       0.187646     0.230697     0.115712     0.262853  \n",
      "min       0.000000     0.000000     0.000000     0.000000  \n",
      "25%       0.456522     0.192727     0.000000     0.000000  \n",
      "50%       0.728261     0.486061     0.000000     0.500000  \n",
      "75%       0.836957     0.606061     0.000000     0.500000  \n",
      "max       1.000000     1.000000     1.000000     1.000000  \n"
     ]
    }
   ],
   "source": [
    "#객체 생성\n",
    "mms = MinMaxScaler()\n",
    "\n",
    "# Train 데이터 스케일링\n",
    "x_train = mms.fit_transform(x_train)\n",
    "\n",
    "# Valid 데이터 스케일링\n",
    "x_valid = mms.transform(x_valid)\n",
    "\n",
    "# Test 데이터 스케일링\n",
    "x_test = mms.transform(x_test)\n",
    "\n",
    "# 결과 확인\n",
    "print(\"Train 데이터 스케일링 후 통계 정보:\")\n",
    "print(pd.DataFrame(x_train).describe())"
   ]
  },
  {
   "cell_type": "markdown",
   "metadata": {},
   "source": [
    "(3) MaxAbs Scaler"
   ]
  },
  {
   "cell_type": "code",
   "execution_count": 16,
   "metadata": {},
   "outputs": [
    {
     "name": "stdout",
     "output_type": "stream",
     "text": [
      "Train 데이터 스케일링 후 통계 정보:\n",
      "                0            1            2            3            4   \\\n",
      "count  7000.000000  7000.000000  7000.000000  7000.000000  7000.000000   \n",
      "mean      0.520571     0.008438     0.285857     0.051286     0.463714   \n",
      "std       0.319575     0.025935     0.451854     0.220596     0.498717   \n",
      "min       0.000000     0.000000     0.000000     0.000000     0.000000   \n",
      "25%       0.210526     0.001001     0.000000     0.000000     0.000000   \n",
      "50%       0.631579     0.003003     0.000000     0.000000     0.000000   \n",
      "75%       0.842105     0.008008     1.000000     0.000000     1.000000   \n",
      "max       1.000000     1.000000     1.000000     1.000000     1.000000   \n",
      "\n",
      "                5            6            7            8            9   \\\n",
      "count  7000.000000  7000.000000  7000.000000  7000.000000  7000.000000   \n",
      "mean      0.108571     0.049867     0.038159     0.439857     0.051714   \n",
      "std       0.311123     0.082117     0.066665     0.496405     0.221465   \n",
      "min       0.000000     0.000000     0.000000     0.000000     0.000000   \n",
      "25%       0.000000     0.006843     0.004197     0.000000     0.000000   \n",
      "50%       0.000000     0.017729     0.012529     0.000000     0.000000   \n",
      "75%       0.000000     0.049518     0.039173     1.000000     0.000000   \n",
      "max       1.000000     1.000000     1.000000     1.000000     1.000000   \n",
      "\n",
      "                10           11           12           13           14  \\\n",
      "count  7000.000000  7000.000000  7000.000000  7000.000000  7000.000000   \n",
      "mean      0.338571     0.000286     0.071429     0.176857     0.439800   \n",
      "std       0.339159     0.016902     0.195603     0.280721     0.220195   \n",
      "min       0.000000     0.000000     0.000000     0.000000     0.000000   \n",
      "25%       0.000000     0.000000     0.000000     0.000000     0.200000   \n",
      "50%       0.500000     0.000000     0.000000     0.000000     0.400000   \n",
      "75%       0.500000     0.000000     0.000000     0.500000     0.600000   \n",
      "max       1.000000     1.000000     1.000000     1.000000     1.000000   \n",
      "\n",
      "                15           16           17           18  \n",
      "count  7000.000000  7000.000000  7000.000000  7000.000000  \n",
      "mean      0.650724     0.419391     0.013571     0.261500  \n",
      "std       0.187646     0.230697     0.115712     0.262853  \n",
      "min       0.000000     0.000000     0.000000     0.000000  \n",
      "25%       0.456522     0.192727     0.000000     0.000000  \n",
      "50%       0.728261     0.486061     0.000000     0.500000  \n",
      "75%       0.836957     0.606061     0.000000     0.500000  \n",
      "max       1.000000     1.000000     1.000000     1.000000  \n"
     ]
    }
   ],
   "source": [
    "#객체 생성\n",
    "mas = MaxAbsScaler()\n",
    "\n",
    "# Train 데이터 스케일링\n",
    "x_train = mas.fit_transform(x_train)\n",
    "\n",
    "# Valid 데이터 스케일링\n",
    "x_valid = mas.transform(x_valid)\n",
    "\n",
    "# Test 데이터 스케일링\n",
    "x_test = mas.transform(x_test)\n",
    "\n",
    "# 결과 확인\n",
    "print(\"Train 데이터 스케일링 후 통계 정보:\")\n",
    "print(pd.DataFrame(x_train).describe())"
   ]
  },
  {
   "cell_type": "markdown",
   "metadata": {},
   "source": [
    "(4) Robust Scaler"
   ]
  },
  {
   "cell_type": "code",
   "execution_count": 17,
   "metadata": {},
   "outputs": [
    {
     "name": "stdout",
     "output_type": "stream",
     "text": [
      "Train 데이터 스케일링 후 통계 정보:\n",
      "                0            1            2            3            4   \\\n",
      "count  7000.000000  7000.000000  7000.000000  7000.000000  7000.000000   \n",
      "mean     -0.175762     0.775714     0.285857     0.051286     0.463714   \n",
      "std       0.505993     3.701344     0.451854     0.220596     0.498717   \n",
      "min      -1.000000    -0.428571     0.000000     0.000000     0.000000   \n",
      "25%      -0.666667    -0.285714     0.000000     0.000000     0.000000   \n",
      "50%       0.000000     0.000000     0.000000     0.000000     0.000000   \n",
      "75%       0.333333     0.714286     1.000000     0.000000     1.000000   \n",
      "max       0.583333   142.285714     1.000000     1.000000     1.000000   \n",
      "\n",
      "                5            6            7            8            9   \\\n",
      "count  7000.000000  7000.000000  7000.000000  7000.000000  7000.000000   \n",
      "mean      0.108571     0.753070     0.732776     0.439857     0.051714   \n",
      "std       0.311123     1.924242     1.906021     0.496405     0.221465   \n",
      "min       0.000000    -0.415452    -0.358222     0.000000     0.000000   \n",
      "25%       0.000000    -0.255102    -0.238222     0.000000     0.000000   \n",
      "50%       0.000000     0.000000     0.000000     0.000000     0.000000   \n",
      "75%       0.000000     0.744898     0.761778     1.000000     0.000000   \n",
      "max       1.000000    23.017493    28.232889     1.000000     1.000000   \n",
      "\n",
      "                10           11           12           13           14  \\\n",
      "count  7000.000000  7000.000000  7000.000000  7000.000000  7000.000000   \n",
      "mean     -0.322857     0.000286     0.071429     0.353714     0.099500   \n",
      "std       0.678318     0.016902     0.195603     0.561442     0.550487   \n",
      "min      -1.000000     0.000000     0.000000     0.000000    -1.000000   \n",
      "25%      -1.000000     0.000000     0.000000     0.000000    -0.500000   \n",
      "50%       0.000000     0.000000     0.000000     0.000000     0.000000   \n",
      "75%       0.000000     0.000000     0.000000     1.000000     0.500000   \n",
      "max       1.000000     1.000000     1.000000     2.000000     1.500000   \n",
      "\n",
      "                15           16           17           18  \n",
      "count  7000.000000  7000.000000  7000.000000  7000.000000  \n",
      "mean     -0.203811    -0.161297     0.013571    -0.477000  \n",
      "std       0.493241     0.558137     0.115712     0.525707  \n",
      "min      -1.914286    -1.175953     0.000000    -1.000000  \n",
      "25%      -0.714286    -0.709677     0.000000    -1.000000  \n",
      "50%       0.000000     0.000000     0.000000     0.000000  \n",
      "75%       0.285714     0.290323     0.000000     0.000000  \n",
      "max       0.714286     1.243402     1.000000     1.000000  \n"
     ]
    }
   ],
   "source": [
    "#객체 생성\n",
    "rs = RobustScaler()\n",
    "\n",
    "# Train 데이터 스케일링\n",
    "x_train = rs.fit_transform(x_train)\n",
    "\n",
    "# Valid 데이터 스케일링\n",
    "x_valid = rs.transform(x_valid)\n",
    "\n",
    "# Test 데이터 스케일링\n",
    "x_test = rs.transform(x_test)\n",
    "\n",
    "# 결과 확인\n",
    "print(\"Train 데이터 스케일링 후 통계 정보:\")\n",
    "print(pd.DataFrame(x_train).describe())"
   ]
  },
  {
   "cell_type": "markdown",
   "metadata": {},
   "source": [
    "## 모델링\n",
    "- 로지스틱 회귀\n",
    "- 랜덤포레스트\n",
    "- **서포트 벡터 머신(SVM)**"
   ]
  },
  {
   "cell_type": "markdown",
   "metadata": {},
   "source": [
    "## 1. 로지스틱 회귀"
   ]
  },
  {
   "cell_type": "markdown",
   "metadata": {},
   "source": [
    "### 1.1 기본 모델"
   ]
  },
  {
   "cell_type": "code",
   "execution_count": 39,
   "metadata": {},
   "outputs": [],
   "source": [
    "# 모델 선언\n",
    "lg_model = LogisticRegression(random_state=42)"
   ]
  },
  {
   "cell_type": "code",
   "execution_count": 40,
   "metadata": {},
   "outputs": [
    {
     "data": {
      "text/html": [
       "<style>#sk-container-id-3 {color: black;}#sk-container-id-3 pre{padding: 0;}#sk-container-id-3 div.sk-toggleable {background-color: white;}#sk-container-id-3 label.sk-toggleable__label {cursor: pointer;display: block;width: 100%;margin-bottom: 0;padding: 0.3em;box-sizing: border-box;text-align: center;}#sk-container-id-3 label.sk-toggleable__label-arrow:before {content: \"▸\";float: left;margin-right: 0.25em;color: #696969;}#sk-container-id-3 label.sk-toggleable__label-arrow:hover:before {color: black;}#sk-container-id-3 div.sk-estimator:hover label.sk-toggleable__label-arrow:before {color: black;}#sk-container-id-3 div.sk-toggleable__content {max-height: 0;max-width: 0;overflow: hidden;text-align: left;background-color: #f0f8ff;}#sk-container-id-3 div.sk-toggleable__content pre {margin: 0.2em;color: black;border-radius: 0.25em;background-color: #f0f8ff;}#sk-container-id-3 input.sk-toggleable__control:checked~div.sk-toggleable__content {max-height: 200px;max-width: 100%;overflow: auto;}#sk-container-id-3 input.sk-toggleable__control:checked~label.sk-toggleable__label-arrow:before {content: \"▾\";}#sk-container-id-3 div.sk-estimator input.sk-toggleable__control:checked~label.sk-toggleable__label {background-color: #d4ebff;}#sk-container-id-3 div.sk-label input.sk-toggleable__control:checked~label.sk-toggleable__label {background-color: #d4ebff;}#sk-container-id-3 input.sk-hidden--visually {border: 0;clip: rect(1px 1px 1px 1px);clip: rect(1px, 1px, 1px, 1px);height: 1px;margin: -1px;overflow: hidden;padding: 0;position: absolute;width: 1px;}#sk-container-id-3 div.sk-estimator {font-family: monospace;background-color: #f0f8ff;border: 1px dotted black;border-radius: 0.25em;box-sizing: border-box;margin-bottom: 0.5em;}#sk-container-id-3 div.sk-estimator:hover {background-color: #d4ebff;}#sk-container-id-3 div.sk-parallel-item::after {content: \"\";width: 100%;border-bottom: 1px solid gray;flex-grow: 1;}#sk-container-id-3 div.sk-label:hover label.sk-toggleable__label {background-color: #d4ebff;}#sk-container-id-3 div.sk-serial::before {content: \"\";position: absolute;border-left: 1px solid gray;box-sizing: border-box;top: 0;bottom: 0;left: 50%;z-index: 0;}#sk-container-id-3 div.sk-serial {display: flex;flex-direction: column;align-items: center;background-color: white;padding-right: 0.2em;padding-left: 0.2em;position: relative;}#sk-container-id-3 div.sk-item {position: relative;z-index: 1;}#sk-container-id-3 div.sk-parallel {display: flex;align-items: stretch;justify-content: center;background-color: white;position: relative;}#sk-container-id-3 div.sk-item::before, #sk-container-id-3 div.sk-parallel-item::before {content: \"\";position: absolute;border-left: 1px solid gray;box-sizing: border-box;top: 0;bottom: 0;left: 50%;z-index: -1;}#sk-container-id-3 div.sk-parallel-item {display: flex;flex-direction: column;z-index: 1;position: relative;background-color: white;}#sk-container-id-3 div.sk-parallel-item:first-child::after {align-self: flex-end;width: 50%;}#sk-container-id-3 div.sk-parallel-item:last-child::after {align-self: flex-start;width: 50%;}#sk-container-id-3 div.sk-parallel-item:only-child::after {width: 0;}#sk-container-id-3 div.sk-dashed-wrapped {border: 1px dashed gray;margin: 0 0.4em 0.5em 0.4em;box-sizing: border-box;padding-bottom: 0.4em;background-color: white;}#sk-container-id-3 div.sk-label label {font-family: monospace;font-weight: bold;display: inline-block;line-height: 1.2em;}#sk-container-id-3 div.sk-label-container {text-align: center;}#sk-container-id-3 div.sk-container {/* jupyter's `normalize.less` sets `[hidden] { display: none; }` but bootstrap.min.css set `[hidden] { display: none !important; }` so we also need the `!important` here to be able to override the default hidden behavior on the sphinx rendered scikit-learn.org. See: https://github.com/scikit-learn/scikit-learn/issues/21755 */display: inline-block !important;position: relative;}#sk-container-id-3 div.sk-text-repr-fallback {display: none;}</style><div id=\"sk-container-id-3\" class=\"sk-top-container\"><div class=\"sk-text-repr-fallback\"><pre>LogisticRegression(random_state=42)</pre><b>In a Jupyter environment, please rerun this cell to show the HTML representation or trust the notebook. <br />On GitHub, the HTML representation is unable to render, please try loading this page with nbviewer.org.</b></div><div class=\"sk-container\" hidden><div class=\"sk-item\"><div class=\"sk-estimator sk-toggleable\"><input class=\"sk-toggleable__control sk-hidden--visually\" id=\"sk-estimator-id-3\" type=\"checkbox\" checked><label for=\"sk-estimator-id-3\" class=\"sk-toggleable__label sk-toggleable__label-arrow\">LogisticRegression</label><div class=\"sk-toggleable__content\"><pre>LogisticRegression(random_state=42)</pre></div></div></div></div></div>"
      ],
      "text/plain": [
       "LogisticRegression(random_state=42)"
      ]
     },
     "execution_count": 40,
     "metadata": {},
     "output_type": "execute_result"
    }
   ],
   "source": [
    "# 모델 학습\n",
    "lg_model.fit(x_train, y_train)"
   ]
  },
  {
   "cell_type": "code",
   "execution_count": 16,
   "metadata": {},
   "outputs": [],
   "source": [
    "# 모델 평가\n",
    "def model_eval(y_test, y_pred=None):\n",
    "    confusion = confusion_matrix(y_test, y_pred, labels=[True, False])\n",
    "    accuracy = accuracy_score(y_test, y_pred)\n",
    "    precision = precision_score(y_test, y_pred, labels=[True, False])\n",
    "    recall = recall_score(y_test, y_pred)\n",
    "    F1 = f1_score(y_test, y_pred, labels=[True, False])\n",
    "    print(\"오차행렬:\\n\", confusion)\n",
    "    print(\"\\n정확도: {:.4f}\".format(accuracy))\n",
    "    print(\"정밀도: {:.4f}\".format(precision))\n",
    "    print(\"재현율: {:.4f}\".format(recall))\n",
    "    print(\"F1: {:.4f}\".format(F1))\n",
    "    print(classification_report(y_test, y_pred, labels=[True, False]))"
   ]
  },
  {
   "cell_type": "code",
   "execution_count": 41,
   "metadata": {},
   "outputs": [
    {
     "name": "stdout",
     "output_type": "stream",
     "text": [
      "오차행렬:\n",
      " [[603 413]\n",
      " [351 633]]\n",
      "\n",
      "정확도: 0.6180\n",
      "정밀도: 0.6321\n",
      "재현율: 0.5935\n",
      "F1: 0.6122\n",
      "              precision    recall  f1-score   support\n",
      "\n",
      "        True       0.63      0.59      0.61      1016\n",
      "       False       0.61      0.64      0.62       984\n",
      "\n",
      "    accuracy                           0.62      2000\n",
      "   macro avg       0.62      0.62      0.62      2000\n",
      "weighted avg       0.62      0.62      0.62      2000\n",
      "\n"
     ]
    }
   ],
   "source": [
    "pred=lg_model.predict(x_valid)\n",
    "model_eval(y_valid, pred)"
   ]
  },
  {
   "cell_type": "markdown",
   "metadata": {},
   "source": [
    "## 1.2 하이퍼파라미터 튜닝"
   ]
  },
  {
   "cell_type": "markdown",
   "metadata": {},
   "source": [
    "Grid Search는 너무 오래 걸리므로, Manual Search 진행"
   ]
  },
  {
   "cell_type": "code",
   "execution_count": null,
   "metadata": {},
   "outputs": [],
   "source": [
    "param_grid = {\n",
    "    'C': [0.001, 0.01, 0.1, 1, 10, 100],        # 규제 강도를 조절하는 역수. 클수록 약한 규제.\n",
    "    'penalty': ['l1', 'l2'],                    # 규제 유형. 'l1'은 L1 규제, 'l2'는 L2 규제.\n",
    "    'solver': ['liblinear', 'saga'],            # 최적화에 사용할 알고리즘.\n",
    "    'max_iter': [100, 200, 300]                 # 최대 반복 횟수.\n",
    "}"
   ]
  },
  {
   "cell_type": "code",
   "execution_count": 51,
   "metadata": {},
   "outputs": [
    {
     "name": "stdout",
     "output_type": "stream",
     "text": [
      "오차행렬:\n",
      " [[603 413]\n",
      " [351 633]]\n",
      "\n",
      "정확도: 0.6180\n",
      "정밀도: 0.6321\n",
      "재현율: 0.5935\n",
      "F1: 0.6122\n",
      "              precision    recall  f1-score   support\n",
      "\n",
      "        True       0.63      0.59      0.61      1016\n",
      "       False       0.61      0.64      0.62       984\n",
      "\n",
      "    accuracy                           0.62      2000\n",
      "   macro avg       0.62      0.62      0.62      2000\n",
      "weighted avg       0.62      0.62      0.62      2000\n",
      "\n"
     ]
    }
   ],
   "source": [
    "#모델 정의\n",
    "ms_model = LogisticRegression(random_state=42, C=10, penalty='l1', solver='saga', max_iter=300)\n",
    "\n",
    "# 모델 학습\n",
    "ms_model.fit(x_train, y_train)\n",
    "\n",
    "# 모델 평가\n",
    "pred = ms_model.predict(x_valid)\n",
    "model_eval(y_valid, pred)"
   ]
  },
  {
   "cell_type": "markdown",
   "metadata": {},
   "source": [
    "## 2. 랜덤 포레스트(Random Forest)"
   ]
  },
  {
   "cell_type": "markdown",
   "metadata": {},
   "source": [
    "### 2.1 기본 모델"
   ]
  },
  {
   "cell_type": "code",
   "execution_count": 14,
   "metadata": {},
   "outputs": [],
   "source": [
    "# 모델 선언\n",
    "rf_model = RandomForestClassifier(random_state=42)"
   ]
  },
  {
   "cell_type": "code",
   "execution_count": 15,
   "metadata": {},
   "outputs": [
    {
     "data": {
      "text/html": [
       "<style>#sk-container-id-1 {color: black;}#sk-container-id-1 pre{padding: 0;}#sk-container-id-1 div.sk-toggleable {background-color: white;}#sk-container-id-1 label.sk-toggleable__label {cursor: pointer;display: block;width: 100%;margin-bottom: 0;padding: 0.3em;box-sizing: border-box;text-align: center;}#sk-container-id-1 label.sk-toggleable__label-arrow:before {content: \"▸\";float: left;margin-right: 0.25em;color: #696969;}#sk-container-id-1 label.sk-toggleable__label-arrow:hover:before {color: black;}#sk-container-id-1 div.sk-estimator:hover label.sk-toggleable__label-arrow:before {color: black;}#sk-container-id-1 div.sk-toggleable__content {max-height: 0;max-width: 0;overflow: hidden;text-align: left;background-color: #f0f8ff;}#sk-container-id-1 div.sk-toggleable__content pre {margin: 0.2em;color: black;border-radius: 0.25em;background-color: #f0f8ff;}#sk-container-id-1 input.sk-toggleable__control:checked~div.sk-toggleable__content {max-height: 200px;max-width: 100%;overflow: auto;}#sk-container-id-1 input.sk-toggleable__control:checked~label.sk-toggleable__label-arrow:before {content: \"▾\";}#sk-container-id-1 div.sk-estimator input.sk-toggleable__control:checked~label.sk-toggleable__label {background-color: #d4ebff;}#sk-container-id-1 div.sk-label input.sk-toggleable__control:checked~label.sk-toggleable__label {background-color: #d4ebff;}#sk-container-id-1 input.sk-hidden--visually {border: 0;clip: rect(1px 1px 1px 1px);clip: rect(1px, 1px, 1px, 1px);height: 1px;margin: -1px;overflow: hidden;padding: 0;position: absolute;width: 1px;}#sk-container-id-1 div.sk-estimator {font-family: monospace;background-color: #f0f8ff;border: 1px dotted black;border-radius: 0.25em;box-sizing: border-box;margin-bottom: 0.5em;}#sk-container-id-1 div.sk-estimator:hover {background-color: #d4ebff;}#sk-container-id-1 div.sk-parallel-item::after {content: \"\";width: 100%;border-bottom: 1px solid gray;flex-grow: 1;}#sk-container-id-1 div.sk-label:hover label.sk-toggleable__label {background-color: #d4ebff;}#sk-container-id-1 div.sk-serial::before {content: \"\";position: absolute;border-left: 1px solid gray;box-sizing: border-box;top: 0;bottom: 0;left: 50%;z-index: 0;}#sk-container-id-1 div.sk-serial {display: flex;flex-direction: column;align-items: center;background-color: white;padding-right: 0.2em;padding-left: 0.2em;position: relative;}#sk-container-id-1 div.sk-item {position: relative;z-index: 1;}#sk-container-id-1 div.sk-parallel {display: flex;align-items: stretch;justify-content: center;background-color: white;position: relative;}#sk-container-id-1 div.sk-item::before, #sk-container-id-1 div.sk-parallel-item::before {content: \"\";position: absolute;border-left: 1px solid gray;box-sizing: border-box;top: 0;bottom: 0;left: 50%;z-index: -1;}#sk-container-id-1 div.sk-parallel-item {display: flex;flex-direction: column;z-index: 1;position: relative;background-color: white;}#sk-container-id-1 div.sk-parallel-item:first-child::after {align-self: flex-end;width: 50%;}#sk-container-id-1 div.sk-parallel-item:last-child::after {align-self: flex-start;width: 50%;}#sk-container-id-1 div.sk-parallel-item:only-child::after {width: 0;}#sk-container-id-1 div.sk-dashed-wrapped {border: 1px dashed gray;margin: 0 0.4em 0.5em 0.4em;box-sizing: border-box;padding-bottom: 0.4em;background-color: white;}#sk-container-id-1 div.sk-label label {font-family: monospace;font-weight: bold;display: inline-block;line-height: 1.2em;}#sk-container-id-1 div.sk-label-container {text-align: center;}#sk-container-id-1 div.sk-container {/* jupyter's `normalize.less` sets `[hidden] { display: none; }` but bootstrap.min.css set `[hidden] { display: none !important; }` so we also need the `!important` here to be able to override the default hidden behavior on the sphinx rendered scikit-learn.org. See: https://github.com/scikit-learn/scikit-learn/issues/21755 */display: inline-block !important;position: relative;}#sk-container-id-1 div.sk-text-repr-fallback {display: none;}</style><div id=\"sk-container-id-1\" class=\"sk-top-container\"><div class=\"sk-text-repr-fallback\"><pre>RandomForestClassifier(random_state=42)</pre><b>In a Jupyter environment, please rerun this cell to show the HTML representation or trust the notebook. <br />On GitHub, the HTML representation is unable to render, please try loading this page with nbviewer.org.</b></div><div class=\"sk-container\" hidden><div class=\"sk-item\"><div class=\"sk-estimator sk-toggleable\"><input class=\"sk-toggleable__control sk-hidden--visually\" id=\"sk-estimator-id-1\" type=\"checkbox\" checked><label for=\"sk-estimator-id-1\" class=\"sk-toggleable__label sk-toggleable__label-arrow\">RandomForestClassifier</label><div class=\"sk-toggleable__content\"><pre>RandomForestClassifier(random_state=42)</pre></div></div></div></div></div>"
      ],
      "text/plain": [
       "RandomForestClassifier(random_state=42)"
      ]
     },
     "execution_count": 15,
     "metadata": {},
     "output_type": "execute_result"
    }
   ],
   "source": [
    "# 모델 학습\n",
    "rf_model.fit(x_train, y_train)"
   ]
  },
  {
   "cell_type": "code",
   "execution_count": 17,
   "metadata": {},
   "outputs": [
    {
     "name": "stdout",
     "output_type": "stream",
     "text": [
      "오차행렬:\n",
      " [[734 282]\n",
      " [184 800]]\n",
      "\n",
      "정확도: 0.7670\n",
      "정밀도: 0.7996\n",
      "재현율: 0.7224\n",
      "F1: 0.7590\n",
      "              precision    recall  f1-score   support\n",
      "\n",
      "        True       0.80      0.72      0.76      1016\n",
      "       False       0.74      0.81      0.77       984\n",
      "\n",
      "    accuracy                           0.77      2000\n",
      "   macro avg       0.77      0.77      0.77      2000\n",
      "weighted avg       0.77      0.77      0.77      2000\n",
      "\n"
     ]
    }
   ],
   "source": [
    "pred=rf_model.predict(x_valid)\n",
    "model_eval(y_valid, pred)"
   ]
  },
  {
   "cell_type": "markdown",
   "metadata": {},
   "source": [
    "### 2.2 하이퍼파라미터 튜닝"
   ]
  },
  {
   "cell_type": "markdown",
   "metadata": {},
   "source": [
    "Grid Search는 너무 오래 걸리므로, Manual Search 진행"
   ]
  },
  {
   "cell_type": "code",
   "execution_count": null,
   "metadata": {},
   "outputs": [],
   "source": [
    "param_grid = {\n",
    "    'n_estimators': [50, 100, 150],  # 트리의 개수\n",
    "    'max_depth': [None, 10, 20, 30],   # 트리의 최대 깊이\n",
    "    'min_samples_split': [2, 5, 10],   # 내부 노드를 분할하기 위한 최소 샘플 수\n",
    "    'min_samples_leaf': [1, 2, 4]      # 리프 노드에 필요한 최소 샘플 수\n",
    "}"
   ]
  },
  {
   "cell_type": "code",
   "execution_count": 19,
   "metadata": {},
   "outputs": [
    {
     "name": "stdout",
     "output_type": "stream",
     "text": [
      "오차행렬:\n",
      " [[731 285]\n",
      " [165 819]]\n",
      "\n",
      "정확도: 0.7750\n",
      "정밀도: 0.8158\n",
      "재현율: 0.7195\n",
      "F1: 0.7646\n",
      "              precision    recall  f1-score   support\n",
      "\n",
      "        True       0.82      0.72      0.76      1016\n",
      "       False       0.74      0.83      0.78       984\n",
      "\n",
      "    accuracy                           0.78      2000\n",
      "   macro avg       0.78      0.78      0.77      2000\n",
      "weighted avg       0.78      0.78      0.77      2000\n",
      "\n"
     ]
    }
   ],
   "source": [
    "#모델 정의\n",
    "ms_model = RandomForestClassifier(random_state=42, n_estimators=50, max_depth=None, min_samples_split=2, min_samples_leaf=2)\n",
    "\n",
    "# 모델 학습\n",
    "ms_model.fit(x_train, y_train)\n",
    "\n",
    "# 모델 평가\n",
    "pred = ms_model.predict(x_valid)\n",
    "model_eval(y_valid, pred)"
   ]
  },
  {
   "cell_type": "code",
   "execution_count": 20,
   "metadata": {},
   "outputs": [
    {
     "name": "stdout",
     "output_type": "stream",
     "text": [
      "오차행렬:\n",
      " [[734 282]\n",
      " [148 836]]\n",
      "\n",
      "정확도: 0.7850\n",
      "정밀도: 0.8322\n",
      "재현율: 0.7224\n",
      "F1: 0.7734\n",
      "              precision    recall  f1-score   support\n",
      "\n",
      "        True       0.83      0.72      0.77      1016\n",
      "       False       0.75      0.85      0.80       984\n",
      "\n",
      "    accuracy                           0.79      2000\n",
      "   macro avg       0.79      0.79      0.78      2000\n",
      "weighted avg       0.79      0.79      0.78      2000\n",
      "\n"
     ]
    }
   ],
   "source": [
    "#모델 정의\n",
    "ms_model = RandomForestClassifier(random_state=42, n_estimators=50, max_depth=None, min_samples_split=2, min_samples_leaf=4)\n",
    "\n",
    "# 모델 학습\n",
    "ms_model.fit(x_train, y_train)\n",
    "\n",
    "# 모델 평가\n",
    "pred = ms_model.predict(x_valid)\n",
    "model_eval(y_valid, pred)"
   ]
  },
  {
   "cell_type": "code",
   "execution_count": 24,
   "metadata": {},
   "outputs": [
    {
     "name": "stdout",
     "output_type": "stream",
     "text": [
      "오차행렬:\n",
      " [[744 272]\n",
      " [161 823]]\n",
      "\n",
      "정확도: 0.7835\n",
      "정밀도: 0.8221\n",
      "재현율: 0.7323\n",
      "F1: 0.7746\n",
      "              precision    recall  f1-score   support\n",
      "\n",
      "        True       0.82      0.73      0.77      1016\n",
      "       False       0.75      0.84      0.79       984\n",
      "\n",
      "    accuracy                           0.78      2000\n",
      "   macro avg       0.79      0.78      0.78      2000\n",
      "weighted avg       0.79      0.78      0.78      2000\n",
      "\n"
     ]
    }
   ],
   "source": [
    "#모델 정의\n",
    "ms_model = RandomForestClassifier(random_state=42, n_estimators=50, max_depth=20, min_samples_split=5, min_samples_leaf=4)\n",
    "\n",
    "# 모델 학습\n",
    "ms_model.fit(x_train, y_train)\n",
    "\n",
    "# 모델 평가\n",
    "pred = ms_model.predict(x_valid)\n",
    "model_eval(y_valid, pred)"
   ]
  },
  {
   "cell_type": "code",
   "execution_count": 33,
   "metadata": {},
   "outputs": [
    {
     "name": "stdout",
     "output_type": "stream",
     "text": [
      "오차행렬:\n",
      " [[732 284]\n",
      " [164 820]]\n",
      "\n",
      "정확도: 0.7760\n",
      "정밀도: 0.8170\n",
      "재현율: 0.7205\n",
      "F1: 0.7657\n",
      "              precision    recall  f1-score   support\n",
      "\n",
      "        True       0.82      0.72      0.77      1016\n",
      "       False       0.74      0.83      0.79       984\n",
      "\n",
      "    accuracy                           0.78      2000\n",
      "   macro avg       0.78      0.78      0.78      2000\n",
      "weighted avg       0.78      0.78      0.78      2000\n",
      "\n"
     ]
    }
   ],
   "source": [
    "#모델 정의\n",
    "ms_model = RandomForestClassifier(random_state=42, n_estimators=150, max_depth=None, min_samples_split=2, min_samples_leaf=2)\n",
    "\n",
    "# 모델 학습\n",
    "ms_model.fit(x_train, y_train)\n",
    "\n",
    "# 모델 평가\n",
    "pred = ms_model.predict(x_valid)\n",
    "model_eval(y_valid, pred)"
   ]
  },
  {
   "cell_type": "code",
   "execution_count": 34,
   "metadata": {},
   "outputs": [
    {
     "name": "stdout",
     "output_type": "stream",
     "text": [
      "오차행렬:\n",
      " [[736 280]\n",
      " [148 836]]\n",
      "\n",
      "정확도: 0.7860\n",
      "정밀도: 0.8326\n",
      "재현율: 0.7244\n",
      "F1: 0.7747\n",
      "              precision    recall  f1-score   support\n",
      "\n",
      "        True       0.83      0.72      0.77      1016\n",
      "       False       0.75      0.85      0.80       984\n",
      "\n",
      "    accuracy                           0.79      2000\n",
      "   macro avg       0.79      0.79      0.79      2000\n",
      "weighted avg       0.79      0.79      0.79      2000\n",
      "\n"
     ]
    }
   ],
   "source": [
    "#모델 정의\n",
    "ms_model = RandomForestClassifier(random_state=42, n_estimators=150, max_depth=30, min_samples_split=5, min_samples_leaf=4)\n",
    "\n",
    "# 모델 학습\n",
    "ms_model.fit(x_train, y_train)\n",
    "\n",
    "# 모델 평가\n",
    "pred = ms_model.predict(x_valid)\n",
    "model_eval(y_valid, pred)"
   ]
  },
  {
   "cell_type": "markdown",
   "metadata": {},
   "source": [
    "=> 0.7747이 제일 높은 것으로 나타남."
   ]
  },
  {
   "cell_type": "markdown",
   "metadata": {},
   "source": [
    "### 2.3 변수 중요도"
   ]
  },
  {
   "cell_type": "code",
   "execution_count": 35,
   "metadata": {},
   "outputs": [
    {
     "data": {
      "image/png": "[encoded data removed]",
      "text/plain": [
       "<Figure size 576x432 with 1 Axes>"
      ]
     },
     "metadata": {
      "image/png": {
       "height": 373,
       "width": 543
      },
      "needs_background": "light"
     },
     "output_type": "display_data"
    }
   ],
   "source": [
    "# 변수 중요도 계산\n",
    "\n",
    "importances_values = pd.Series(ms_model.feature_importances_, index=x_valid.columns).sort_values(ascending=False)\n",
    "\n",
    "# 변수 중요도 시각화\n",
    "\n",
    "plt.figure(figsize=(8,6))\n",
    "plt.title('Feature Importances')\n",
    "sns.barplot(x=importances_values, y=importances_values.index)\n",
    "plt.show()"
   ]
  },
  {
   "cell_type": "markdown",
   "metadata": {},
   "source": [
    "## 3. 서포트 벡터 머신(SVM)\n",
    "- 전통적인 이진분류 머신러닝 기법\n",
    "- 과적합을 피할 수 있음\n",
    "- 데이터셋이 작아도 가능"
   ]
  },
  {
   "cell_type": "markdown",
   "metadata": {},
   "source": [
    "### 3.1 기본 모델"
   ]
  },
  {
   "cell_type": "code",
   "execution_count": 18,
   "metadata": {},
   "outputs": [],
   "source": [
    "# 모델 선언\n",
    "svm_model = svm.SVC(random_state=42)"
   ]
  },
  {
   "cell_type": "code",
   "execution_count": 19,
   "metadata": {},
   "outputs": [
    {
     "data": {
      "text/html": [
       "<style>#sk-container-id-1 {color: black;}#sk-container-id-1 pre{padding: 0;}#sk-container-id-1 div.sk-toggleable {background-color: white;}#sk-container-id-1 label.sk-toggleable__label {cursor: pointer;display: block;width: 100%;margin-bottom: 0;padding: 0.3em;box-sizing: border-box;text-align: center;}#sk-container-id-1 label.sk-toggleable__label-arrow:before {content: \"▸\";float: left;margin-right: 0.25em;color: #696969;}#sk-container-id-1 label.sk-toggleable__label-arrow:hover:before {color: black;}#sk-container-id-1 div.sk-estimator:hover label.sk-toggleable__label-arrow:before {color: black;}#sk-container-id-1 div.sk-toggleable__content {max-height: 0;max-width: 0;overflow: hidden;text-align: left;background-color: #f0f8ff;}#sk-container-id-1 div.sk-toggleable__content pre {margin: 0.2em;color: black;border-radius: 0.25em;background-color: #f0f8ff;}#sk-container-id-1 input.sk-toggleable__control:checked~div.sk-toggleable__content {max-height: 200px;max-width: 100%;overflow: auto;}#sk-container-id-1 input.sk-toggleable__control:checked~label.sk-toggleable__label-arrow:before {content: \"▾\";}#sk-container-id-1 div.sk-estimator input.sk-toggleable__control:checked~label.sk-toggleable__label {background-color: #d4ebff;}#sk-container-id-1 div.sk-label input.sk-toggleable__control:checked~label.sk-toggleable__label {background-color: #d4ebff;}#sk-container-id-1 input.sk-hidden--visually {border: 0;clip: rect(1px 1px 1px 1px);clip: rect(1px, 1px, 1px, 1px);height: 1px;margin: -1px;overflow: hidden;padding: 0;position: absolute;width: 1px;}#sk-container-id-1 div.sk-estimator {font-family: monospace;background-color: #f0f8ff;border: 1px dotted black;border-radius: 0.25em;box-sizing: border-box;margin-bottom: 0.5em;}#sk-container-id-1 div.sk-estimator:hover {background-color: #d4ebff;}#sk-container-id-1 div.sk-parallel-item::after {content: \"\";width: 100%;border-bottom: 1px solid gray;flex-grow: 1;}#sk-container-id-1 div.sk-label:hover label.sk-toggleable__label {background-color: #d4ebff;}#sk-container-id-1 div.sk-serial::before {content: \"\";position: absolute;border-left: 1px solid gray;box-sizing: border-box;top: 0;bottom: 0;left: 50%;z-index: 0;}#sk-container-id-1 div.sk-serial {display: flex;flex-direction: column;align-items: center;background-color: white;padding-right: 0.2em;padding-left: 0.2em;position: relative;}#sk-container-id-1 div.sk-item {position: relative;z-index: 1;}#sk-container-id-1 div.sk-parallel {display: flex;align-items: stretch;justify-content: center;background-color: white;position: relative;}#sk-container-id-1 div.sk-item::before, #sk-container-id-1 div.sk-parallel-item::before {content: \"\";position: absolute;border-left: 1px solid gray;box-sizing: border-box;top: 0;bottom: 0;left: 50%;z-index: -1;}#sk-container-id-1 div.sk-parallel-item {display: flex;flex-direction: column;z-index: 1;position: relative;background-color: white;}#sk-container-id-1 div.sk-parallel-item:first-child::after {align-self: flex-end;width: 50%;}#sk-container-id-1 div.sk-parallel-item:last-child::after {align-self: flex-start;width: 50%;}#sk-container-id-1 div.sk-parallel-item:only-child::after {width: 0;}#sk-container-id-1 div.sk-dashed-wrapped {border: 1px dashed gray;margin: 0 0.4em 0.5em 0.4em;box-sizing: border-box;padding-bottom: 0.4em;background-color: white;}#sk-container-id-1 div.sk-label label {font-family: monospace;font-weight: bold;display: inline-block;line-height: 1.2em;}#sk-container-id-1 div.sk-label-container {text-align: center;}#sk-container-id-1 div.sk-container {/* jupyter's `normalize.less` sets `[hidden] { display: none; }` but bootstrap.min.css set `[hidden] { display: none !important; }` so we also need the `!important` here to be able to override the default hidden behavior on the sphinx rendered scikit-learn.org. See: https://github.com/scikit-learn/scikit-learn/issues/21755 */display: inline-block !important;position: relative;}#sk-container-id-1 div.sk-text-repr-fallback {display: none;}</style><div id=\"sk-container-id-1\" class=\"sk-top-container\"><div class=\"sk-text-repr-fallback\"><pre>SVC(random_state=42)</pre><b>In a Jupyter environment, please rerun this cell to show the HTML representation or trust the notebook. <br />On GitHub, the HTML representation is unable to render, please try loading this page with nbviewer.org.</b></div><div class=\"sk-container\" hidden><div class=\"sk-item\"><div class=\"sk-estimator sk-toggleable\"><input class=\"sk-toggleable__control sk-hidden--visually\" id=\"sk-estimator-id-1\" type=\"checkbox\" checked><label for=\"sk-estimator-id-1\" class=\"sk-toggleable__label sk-toggleable__label-arrow\">SVC</label><div class=\"sk-toggleable__content\"><pre>SVC(random_state=42)</pre></div></div></div></div></div>"
      ],
      "text/plain": [
       "SVC(random_state=42)"
      ]
     },
     "execution_count": 19,
     "metadata": {},
     "output_type": "execute_result"
    }
   ],
   "source": [
    "# 모델 학습\n",
    "svm_model.fit(x_train, y_train)"
   ]
  },
  {
   "cell_type": "code",
   "execution_count": 21,
   "metadata": {},
   "outputs": [
    {
     "name": "stdout",
     "output_type": "stream",
     "text": [
      "오차행렬:\n",
      " [[695 321]\n",
      " [202 782]]\n",
      "\n",
      "정확도: 0.7385\n",
      "정밀도: 0.7748\n",
      "재현율: 0.6841\n",
      "F1: 0.7266\n",
      "              precision    recall  f1-score   support\n",
      "\n",
      "        True       0.77      0.68      0.73      1016\n",
      "       False       0.71      0.79      0.75       984\n",
      "\n",
      "    accuracy                           0.74      2000\n",
      "   macro avg       0.74      0.74      0.74      2000\n",
      "weighted avg       0.74      0.74      0.74      2000\n",
      "\n"
     ]
    }
   ],
   "source": [
    "pred=svm_model.predict(x_valid)\n",
    "model_eval(y_valid, pred)"
   ]
  },
  {
   "cell_type": "markdown",
   "metadata": {},
   "source": [
    "=> f1-score가 약 0.73"
   ]
  },
  {
   "cell_type": "markdown",
   "metadata": {},
   "source": [
    "### 3.2 하이퍼파라미터 튜닝\n",
    "- svm 모델에서 특성 중요도는 kernel=linear일 때만 가능\n",
    "- C : 오류를 얼마나 허용할 것인지 클수록 하드마진, 작을수록 소프트마진에 가까움\n",
    "- kernel : rbf(가우시안 커널), linear, poly, sigmoid, precomputed\n",
    "- degree : 다항식 커널의 차수 결정(default=3)\n",
    "- gamma : 결정경계를 얼마나 유연하게 그릴지 결정함. 클수록 오버피팅 발생 가능성 높아짐(default='scale')\n",
    "- coef0 : 다항식 커널에 있는 상수항 r(default=0.0)"
   ]
  },
  {
   "cell_type": "markdown",
   "metadata": {},
   "source": [
    "kernel='linear'"
   ]
  },
  {
   "cell_type": "code",
   "execution_count": 22,
   "metadata": {},
   "outputs": [
    {
     "name": "stdout",
     "output_type": "stream",
     "text": [
      "오차행렬:\n",
      " [[703 313]\n",
      " [237 747]]\n",
      "\n",
      "정확도: 0.7250\n",
      "정밀도: 0.7479\n",
      "재현율: 0.6919\n",
      "F1: 0.7188\n",
      "              precision    recall  f1-score   support\n",
      "\n",
      "        True       0.75      0.69      0.72      1016\n",
      "       False       0.70      0.76      0.73       984\n",
      "\n",
      "    accuracy                           0.73      2000\n",
      "   macro avg       0.73      0.73      0.72      2000\n",
      "weighted avg       0.73      0.72      0.72      2000\n",
      "\n"
     ]
    }
   ],
   "source": [
    "# 모델 선언\n",
    "svm_model = svm.SVC(random_state=42, kernel='linear')\n",
    "\n",
    "# 모델 학습\n",
    "svm_model.fit(x_train, y_train)\n",
    "\n",
    "# 모델 평가\n",
    "pred=svm_model.predict(x_valid)\n",
    "model_eval(y_valid, pred)"
   ]
  },
  {
   "cell_type": "markdown",
   "metadata": {},
   "source": [
    "GridSearch"
   ]
  },
  {
   "cell_type": "code",
   "execution_count": 23,
   "metadata": {},
   "outputs": [
    {
     "name": "stdout",
     "output_type": "stream",
     "text": [
      "Best Parameters: {'C': 10, 'gamma': 'auto', 'kernel': 'rbf'}\n"
     ]
    }
   ],
   "source": [
    "# SVM 모델 정의\n",
    "svm_model = svm.SVC(random_state=42)\n",
    "\n",
    "# 그리드 서치를 위한 하이퍼파라미터 후보군 설정\n",
    "param_grid = {\n",
    "    'C': [0.1, 1, 10],\n",
    "    'kernel': ['linear', 'rbf', 'poly'],\n",
    "    'gamma': ['scale', 'auto']\n",
    "}\n",
    "\n",
    "# 그리드 서치 객체 생성\n",
    "grid_search = GridSearchCV(estimator=svm_model, param_grid=param_grid, cv=5, scoring='accuracy')\n",
    "\n",
    "# 그리드 서치 수행\n",
    "grid_search.fit(x_train, y_train)\n",
    "\n",
    "# 최적 하이퍼파라미터 출력\n",
    "print(\"Best Parameters:\", grid_search.best_params_)"
   ]
  },
  {
   "cell_type": "code",
   "execution_count": 34,
   "metadata": {},
   "outputs": [
    {
     "name": "stdout",
     "output_type": "stream",
     "text": [
      "오차행렬:\n",
      " [[715 301]\n",
      " [180 804]]\n",
      "\n",
      "정확도: 0.7595\n",
      "정밀도: 0.7989\n",
      "재현율: 0.7037\n",
      "F1: 0.7483\n",
      "              precision    recall  f1-score   support\n",
      "\n",
      "        True       0.80      0.70      0.75      1016\n",
      "       False       0.73      0.82      0.77       984\n",
      "\n",
      "    accuracy                           0.76      2000\n",
      "   macro avg       0.76      0.76      0.76      2000\n",
      "weighted avg       0.76      0.76      0.76      2000\n",
      "\n"
     ]
    }
   ],
   "source": [
    "# 최적 하이퍼파라미터를 사용한 모델 정의\n",
    "gs_model = svm.SVC(random_state=42, C=10, kernel='rbf', gamma='auto')\n",
    "\n",
    "# 모델 학습\n",
    "gs_model.fit(x_train, y_train)\n",
    "\n",
    "# 모델 평가\n",
    "pred = gs_model.predict(x_valid)\n",
    "model_eval(y_valid, pred)"
   ]
  },
  {
   "cell_type": "markdown",
   "metadata": {},
   "source": [
    "=> f1-score가 0.7483으로, 가장 높은 수치를 보여줌."
   ]
  },
  {
   "cell_type": "markdown",
   "metadata": {},
   "source": [
    "Manual Search를 통해 수동으로 하이퍼파라미터 조정하기"
   ]
  },
  {
   "cell_type": "code",
   "execution_count": 28,
   "metadata": {},
   "outputs": [
    {
     "name": "stdout",
     "output_type": "stream",
     "text": [
      "오차행렬:\n",
      " [[712 304]\n",
      " [180 804]]\n",
      "\n",
      "정확도: 0.7580\n",
      "정밀도: 0.7982\n",
      "재현율: 0.7008\n",
      "F1: 0.7463\n",
      "              precision    recall  f1-score   support\n",
      "\n",
      "        True       0.80      0.70      0.75      1016\n",
      "       False       0.73      0.82      0.77       984\n",
      "\n",
      "    accuracy                           0.76      2000\n",
      "   macro avg       0.76      0.76      0.76      2000\n",
      "weighted avg       0.76      0.76      0.76      2000\n",
      "\n"
     ]
    }
   ],
   "source": [
    "#모델 정의\n",
    "ms_model = svm.SVC(random_state=42, C=9, kernel='rbf', gamma='auto')\n",
    "\n",
    "# 모델 학습\n",
    "ms_model.fit(x_train, y_train)\n",
    "\n",
    "# 모델 평가\n",
    "pred = ms_model.predict(x_valid)\n",
    "model_eval(y_valid, pred)"
   ]
  },
  {
   "cell_type": "code",
   "execution_count": 29,
   "metadata": {},
   "outputs": [
    {
     "name": "stdout",
     "output_type": "stream",
     "text": [
      "오차행렬:\n",
      " [[710 306]\n",
      " [183 801]]\n",
      "\n",
      "정확도: 0.7555\n",
      "정밀도: 0.7951\n",
      "재현율: 0.6988\n",
      "F1: 0.7438\n",
      "              precision    recall  f1-score   support\n",
      "\n",
      "        True       0.80      0.70      0.74      1016\n",
      "       False       0.72      0.81      0.77       984\n",
      "\n",
      "    accuracy                           0.76      2000\n",
      "   macro avg       0.76      0.76      0.75      2000\n",
      "weighted avg       0.76      0.76      0.75      2000\n",
      "\n"
     ]
    }
   ],
   "source": [
    "#모델 정의\n",
    "ms_model = svm.SVC(random_state=42, C=8, kernel='rbf', gamma='auto')\n",
    "\n",
    "# 모델 학습\n",
    "ms_model.fit(x_train, y_train)\n",
    "\n",
    "# 모델 평가\n",
    "pred = ms_model.predict(x_valid)\n",
    "model_eval(y_valid, pred)"
   ]
  },
  {
   "cell_type": "code",
   "execution_count": 32,
   "metadata": {},
   "outputs": [
    {
     "name": "stdout",
     "output_type": "stream",
     "text": [
      "오차행렬:\n",
      " [[719 297]\n",
      " [189 795]]\n",
      "\n",
      "정확도: 0.7570\n",
      "정밀도: 0.7919\n",
      "재현율: 0.7077\n",
      "F1: 0.7474\n",
      "              precision    recall  f1-score   support\n",
      "\n",
      "        True       0.79      0.71      0.75      1016\n",
      "       False       0.73      0.81      0.77       984\n",
      "\n",
      "    accuracy                           0.76      2000\n",
      "   macro avg       0.76      0.76      0.76      2000\n",
      "weighted avg       0.76      0.76      0.76      2000\n",
      "\n"
     ]
    }
   ],
   "source": [
    "#모델 정의\n",
    "ms_model = svm.SVC(random_state=42, C=10, kernel='rbf', gamma=0.1)\n",
    "\n",
    "# 모델 학습\n",
    "ms_model.fit(x_train, y_train)\n",
    "\n",
    "# 모델 평가\n",
    "pred = ms_model.predict(x_valid)\n",
    "model_eval(y_valid, pred)"
   ]
  },
  {
   "cell_type": "code",
   "execution_count": 33,
   "metadata": {},
   "outputs": [
    {
     "name": "stdout",
     "output_type": "stream",
     "text": [
      "오차행렬:\n",
      " [[732 284]\n",
      " [257 727]]\n",
      "\n",
      "정확도: 0.7295\n",
      "정밀도: 0.7401\n",
      "재현율: 0.7205\n",
      "F1: 0.7302\n",
      "              precision    recall  f1-score   support\n",
      "\n",
      "        True       0.74      0.72      0.73      1016\n",
      "       False       0.72      0.74      0.73       984\n",
      "\n",
      "    accuracy                           0.73      2000\n",
      "   macro avg       0.73      0.73      0.73      2000\n",
      "weighted avg       0.73      0.73      0.73      2000\n",
      "\n"
     ]
    }
   ],
   "source": [
    "#모델 정의\n",
    "ms_model = svm.SVC(random_state=42, C=10, kernel='rbf', gamma=0.5)\n",
    "\n",
    "# 모델 학습\n",
    "ms_model.fit(x_train, y_train)\n",
    "\n",
    "# 모델 평가\n",
    "pred = ms_model.predict(x_valid)\n",
    "model_eval(y_valid, pred)"
   ]
  },
  {
   "cell_type": "markdown",
   "metadata": {},
   "source": [
    "Grid Search로 찾은 모델의 f1-score가 가장 높으므로, gs_model로 추후 분석 진행!"
   ]
  },
  {
   "cell_type": "markdown",
   "metadata": {},
   "source": [
    "## 3.3 시각화"
   ]
  },
  {
   "cell_type": "markdown",
   "metadata": {},
   "source": [
    "ROC 곡선"
   ]
  },
  {
   "cell_type": "code",
   "execution_count": 38,
   "metadata": {},
   "outputs": [
    {
     "data": {
      "image/png": "[encoded data removed]",
      "text/plain": [
       "<Figure size 576x432 with 1 Axes>"
      ]
     },
     "metadata": {
      "image/png": {
       "height": 388,
       "width": 502
      },
      "needs_background": "light"
     },
     "output_type": "display_data"
    }
   ],
   "source": [
    "# 예측된 확률 계산\n",
    "probs = gs_model.decision_function(x_valid)\n",
    "\n",
    "# ROC 곡선 계산\n",
    "fpr, tpr, thresholds = roc_curve(y_valid, probs)\n",
    "roc_auc = auc(fpr, tpr)\n",
    "\n",
    "# ROC 곡선 그리기\n",
    "plt.figure(figsize=(8, 6))\n",
    "plt.plot(fpr, tpr, color='darkorange', lw=2, label='ROC curve (area = %0.2f)' % roc_auc)\n",
    "plt.plot([0, 1], [0, 1], color='navy', lw=2, linestyle='--')\n",
    "plt.xlim([0.0, 1.0])\n",
    "plt.ylim([0.0, 1.05])\n",
    "plt.xlabel('False Positive Rate')\n",
    "plt.ylabel('True Positive Rate')\n",
    "plt.title('Receiver Operating Characteristic (ROC) Curve')\n",
    "plt.legend(loc=\"lower right\")\n",
    "plt.show()"
   ]
  },
  {
   "cell_type": "markdown",
   "metadata": {},
   "source": [
    "=> AUC = 0.83"
   ]
  },
  {
   "cell_type": "markdown",
   "metadata": {},
   "source": [
    "## 4. XGBoost"
   ]
  },
  {
   "cell_type": "markdown",
   "metadata": {},
   "source": [
    "### 4.1 기본 모델"
   ]
  },
  {
   "cell_type": "code",
   "execution_count": 53,
   "metadata": {},
   "outputs": [],
   "source": [
    "# 모델 선언\n",
    "xg_model = XGBClassifier(random_state=42)"
   ]
  },
  {
   "cell_type": "code",
   "execution_count": 54,
   "metadata": {},
   "outputs": [
    {
     "data": {
      "text/html": [
       "<style>#sk-container-id-4 {color: black;}#sk-container-id-4 pre{padding: 0;}#sk-container-id-4 div.sk-toggleable {background-color: white;}#sk-container-id-4 label.sk-toggleable__label {cursor: pointer;display: block;width: 100%;margin-bottom: 0;padding: 0.3em;box-sizing: border-box;text-align: center;}#sk-container-id-4 label.sk-toggleable__label-arrow:before {content: \"▸\";float: left;margin-right: 0.25em;color: #696969;}#sk-container-id-4 label.sk-toggleable__label-arrow:hover:before {color: black;}#sk-container-id-4 div.sk-estimator:hover label.sk-toggleable__label-arrow:before {color: black;}#sk-container-id-4 div.sk-toggleable__content {max-height: 0;max-width: 0;overflow: hidden;text-align: left;background-color: #f0f8ff;}#sk-container-id-4 div.sk-toggleable__content pre {margin: 0.2em;color: black;border-radius: 0.25em;background-color: #f0f8ff;}#sk-container-id-4 input.sk-toggleable__control:checked~div.sk-toggleable__content {max-height: 200px;max-width: 100%;overflow: auto;}#sk-container-id-4 input.sk-toggleable__control:checked~label.sk-toggleable__label-arrow:before {content: \"▾\";}#sk-container-id-4 div.sk-estimator input.sk-toggleable__control:checked~label.sk-toggleable__label {background-color: #d4ebff;}#sk-container-id-4 div.sk-label input.sk-toggleable__control:checked~label.sk-toggleable__label {background-color: #d4ebff;}#sk-container-id-4 input.sk-hidden--visually {border: 0;clip: rect(1px 1px 1px 1px);clip: rect(1px, 1px, 1px, 1px);height: 1px;margin: -1px;overflow: hidden;padding: 0;position: absolute;width: 1px;}#sk-container-id-4 div.sk-estimator {font-family: monospace;background-color: #f0f8ff;border: 1px dotted black;border-radius: 0.25em;box-sizing: border-box;margin-bottom: 0.5em;}#sk-container-id-4 div.sk-estimator:hover {background-color: #d4ebff;}#sk-container-id-4 div.sk-parallel-item::after {content: \"\";width: 100%;border-bottom: 1px solid gray;flex-grow: 1;}#sk-container-id-4 div.sk-label:hover label.sk-toggleable__label {background-color: #d4ebff;}#sk-container-id-4 div.sk-serial::before {content: \"\";position: absolute;border-left: 1px solid gray;box-sizing: border-box;top: 0;bottom: 0;left: 50%;z-index: 0;}#sk-container-id-4 div.sk-serial {display: flex;flex-direction: column;align-items: center;background-color: white;padding-right: 0.2em;padding-left: 0.2em;position: relative;}#sk-container-id-4 div.sk-item {position: relative;z-index: 1;}#sk-container-id-4 div.sk-parallel {display: flex;align-items: stretch;justify-content: center;background-color: white;position: relative;}#sk-container-id-4 div.sk-item::before, #sk-container-id-4 div.sk-parallel-item::before {content: \"\";position: absolute;border-left: 1px solid gray;box-sizing: border-box;top: 0;bottom: 0;left: 50%;z-index: -1;}#sk-container-id-4 div.sk-parallel-item {display: flex;flex-direction: column;z-index: 1;position: relative;background-color: white;}#sk-container-id-4 div.sk-parallel-item:first-child::after {align-self: flex-end;width: 50%;}#sk-container-id-4 div.sk-parallel-item:last-child::after {align-self: flex-start;width: 50%;}#sk-container-id-4 div.sk-parallel-item:only-child::after {width: 0;}#sk-container-id-4 div.sk-dashed-wrapped {border: 1px dashed gray;margin: 0 0.4em 0.5em 0.4em;box-sizing: border-box;padding-bottom: 0.4em;background-color: white;}#sk-container-id-4 div.sk-label label {font-family: monospace;font-weight: bold;display: inline-block;line-height: 1.2em;}#sk-container-id-4 div.sk-label-container {text-align: center;}#sk-container-id-4 div.sk-container {/* jupyter's `normalize.less` sets `[hidden] { display: none; }` but bootstrap.min.css set `[hidden] { display: none !important; }` so we also need the `!important` here to be able to override the default hidden behavior on the sphinx rendered scikit-learn.org. See: https://github.com/scikit-learn/scikit-learn/issues/21755 */display: inline-block !important;position: relative;}#sk-container-id-4 div.sk-text-repr-fallback {display: none;}</style><div id=\"sk-container-id-4\" class=\"sk-top-container\"><div class=\"sk-text-repr-fallback\"><pre>XGBClassifier(base_score=None, booster=None, callbacks=None,\n",
       "              colsample_bylevel=None, colsample_bynode=None,\n",
       "              colsample_bytree=None, device=None, early_stopping_rounds=None,\n",
       "              enable_categorical=False, eval_metric=None, feature_types=None,\n",
       "              gamma=None, grow_policy=None, importance_type=None,\n",
       "              interaction_constraints=None, learning_rate=None, max_bin=None,\n",
       "              max_cat_threshold=None, max_cat_to_onehot=None,\n",
       "              max_delta_step=None, max_depth=None, max_leaves=None,\n",
       "              min_child_weight=None, missing=nan, monotone_constraints=None,\n",
       "              multi_strategy=None, n_estimators=None, n_jobs=None,\n",
       "              num_parallel_tree=None, random_state=42, ...)</pre><b>In a Jupyter environment, please rerun this cell to show the HTML representation or trust the notebook. <br />On GitHub, the HTML representation is unable to render, please try loading this page with nbviewer.org.</b></div><div class=\"sk-container\" hidden><div class=\"sk-item\"><div class=\"sk-estimator sk-toggleable\"><input class=\"sk-toggleable__control sk-hidden--visually\" id=\"sk-estimator-id-4\" type=\"checkbox\" checked><label for=\"sk-estimator-id-4\" class=\"sk-toggleable__label sk-toggleable__label-arrow\">XGBClassifier</label><div class=\"sk-toggleable__content\"><pre>XGBClassifier(base_score=None, booster=None, callbacks=None,\n",
       "              colsample_bylevel=None, colsample_bynode=None,\n",
       "              colsample_bytree=None, device=None, early_stopping_rounds=None,\n",
       "              enable_categorical=False, eval_metric=None, feature_types=None,\n",
       "              gamma=None, grow_policy=None, importance_type=None,\n",
       "              interaction_constraints=None, learning_rate=None, max_bin=None,\n",
       "              max_cat_threshold=None, max_cat_to_onehot=None,\n",
       "              max_delta_step=None, max_depth=None, max_leaves=None,\n",
       "              min_child_weight=None, missing=nan, monotone_constraints=None,\n",
       "              multi_strategy=None, n_estimators=None, n_jobs=None,\n",
       "              num_parallel_tree=None, random_state=42, ...)</pre></div></div></div></div></div>"
      ],
      "text/plain": [
       "XGBClassifier(base_score=None, booster=None, callbacks=None,\n",
       "              colsample_bylevel=None, colsample_bynode=None,\n",
       "              colsample_bytree=None, device=None, early_stopping_rounds=None,\n",
       "              enable_categorical=False, eval_metric=None, feature_types=None,\n",
       "              gamma=None, grow_policy=None, importance_type=None,\n",
       "              interaction_constraints=None, learning_rate=None, max_bin=None,\n",
       "              max_cat_threshold=None, max_cat_to_onehot=None,\n",
       "              max_delta_step=None, max_depth=None, max_leaves=None,\n",
       "              min_child_weight=None, missing=nan, monotone_constraints=None,\n",
       "              multi_strategy=None, n_estimators=None, n_jobs=None,\n",
       "              num_parallel_tree=None, random_state=42, ...)"
      ]
     },
     "execution_count": 54,
     "metadata": {},
     "output_type": "execute_result"
    }
   ],
   "source": [
    "# 모델 학습\n",
    "xg_model.fit(x_train, y_train)"
   ]
  },
  {
   "cell_type": "code",
   "execution_count": 55,
   "metadata": {},
   "outputs": [
    {
     "name": "stdout",
     "output_type": "stream",
     "text": [
      "오차행렬:\n",
      " [[754 262]\n",
      " [208 776]]\n",
      "\n",
      "정확도: 0.7650\n",
      "정밀도: 0.7838\n",
      "재현율: 0.7421\n",
      "F1: 0.7624\n",
      "              precision    recall  f1-score   support\n",
      "\n",
      "        True       0.78      0.74      0.76      1016\n",
      "       False       0.75      0.79      0.77       984\n",
      "\n",
      "    accuracy                           0.77      2000\n",
      "   macro avg       0.77      0.77      0.76      2000\n",
      "weighted avg       0.77      0.77      0.76      2000\n",
      "\n"
     ]
    }
   ],
   "source": [
    "# 모델 평가\n",
    "pred=xg_model.predict(x_valid)\n",
    "model_eval(y_valid, pred)"
   ]
  },
  {
   "cell_type": "markdown",
   "metadata": {},
   "source": [
    "### 4.2 하이퍼파라미터 튜닝"
   ]
  },
  {
   "cell_type": "markdown",
   "metadata": {},
   "source": [
    "Grid Search는 너무 오래 걸리므로, Manual Search 진행"
   ]
  },
  {
   "cell_type": "markdown",
   "metadata": {},
   "source": [
    "\n",
    "    'learning_rate': [0.01, 0.1, 0.2],                # 학습률\n",
    "    'n_estimators': [100, 200, 300],                  # 트리의 개수\n",
    "    'max_depth': [3, 4, 5],                           # 트리의 최대 깊이\n",
    "    'subsample': [0.8, 0.9, 1.0],                     # 트리를 훈련하는 데 사용되는 샘플 비율\n",
    "    'colsample_bytree': [0.8, 0.9, 1.0],              # 각 트리마다 사용되는 특성(feature)의 비율\n",
    "    'gamma': [0, 0.1, 0.2],                           # 분할을 위한 최소 손실 감소\n",
    "    'reg_alpha': [0, 0.1, 0.2],                       # L1 규제\n",
    "    'reg_lambda': [0, 0.1, 0.2]                       # L2 규제\n"
   ]
  },
  {
   "cell_type": "code",
   "execution_count": 57,
   "metadata": {},
   "outputs": [
    {
     "name": "stdout",
     "output_type": "stream",
     "text": [
      "오차행렬:\n",
      " [[738 278]\n",
      " [177 807]]\n",
      "\n",
      "정확도: 0.7725\n",
      "정밀도: 0.8066\n",
      "재현율: 0.7264\n",
      "F1: 0.7644\n",
      "              precision    recall  f1-score   support\n",
      "\n",
      "        True       0.81      0.73      0.76      1016\n",
      "       False       0.74      0.82      0.78       984\n",
      "\n",
      "    accuracy                           0.77      2000\n",
      "   macro avg       0.78      0.77      0.77      2000\n",
      "weighted avg       0.78      0.77      0.77      2000\n",
      "\n"
     ]
    }
   ],
   "source": [
    "#모델 정의\n",
    "ms_model = XGBClassifier(random_state=42, learning_rate=0.1, n_estimators=100, max_depth=3, subsample=0.8, colsample_bytree=0.8,\n",
    "                        gamma=0, reg_alpha=0, reg_lambda=0)\n",
    "\n",
    "# 모델 학습\n",
    "ms_model.fit(x_train, y_train)\n",
    "\n",
    "# 모델 평가\n",
    "pred = ms_model.predict(x_valid)\n",
    "model_eval(y_valid, pred)"
   ]
  },
  {
   "cell_type": "code",
   "execution_count": 60,
   "metadata": {},
   "outputs": [
    {
     "name": "stdout",
     "output_type": "stream",
     "text": [
      "오차행렬:\n",
      " [[759 257]\n",
      " [186 798]]\n",
      "\n",
      "정확도: 0.7785\n",
      "정밀도: 0.8032\n",
      "재현율: 0.7470\n",
      "F1: 0.7741\n",
      "              precision    recall  f1-score   support\n",
      "\n",
      "        True       0.80      0.75      0.77      1016\n",
      "       False       0.76      0.81      0.78       984\n",
      "\n",
      "    accuracy                           0.78      2000\n",
      "   macro avg       0.78      0.78      0.78      2000\n",
      "weighted avg       0.78      0.78      0.78      2000\n",
      "\n"
     ]
    }
   ],
   "source": [
    "#모델 정의\n",
    "ms_model = XGBClassifier(random_state=42, learning_rate=0.2, n_estimators=100, max_depth=3, subsample=0.8, colsample_bytree=0.8,\n",
    "                        gamma=0, reg_alpha=0, reg_lambda=0)\n",
    "\n",
    "# 모델 학습\n",
    "ms_model.fit(x_train, y_train)\n",
    "\n",
    "# 모델 평가\n",
    "pred = ms_model.predict(x_valid)\n",
    "model_eval(y_valid, pred)"
   ]
  },
  {
   "cell_type": "code",
   "execution_count": 67,
   "metadata": {},
   "outputs": [
    {
     "name": "stdout",
     "output_type": "stream",
     "text": [
      "오차행렬:\n",
      " [[768 248]\n",
      " [195 789]]\n",
      "\n",
      "정확도: 0.7785\n",
      "정밀도: 0.7975\n",
      "재현율: 0.7559\n",
      "F1: 0.7761\n",
      "              precision    recall  f1-score   support\n",
      "\n",
      "        True       0.80      0.76      0.78      1016\n",
      "       False       0.76      0.80      0.78       984\n",
      "\n",
      "    accuracy                           0.78      2000\n",
      "   macro avg       0.78      0.78      0.78      2000\n",
      "weighted avg       0.78      0.78      0.78      2000\n",
      "\n"
     ]
    }
   ],
   "source": [
    "#모델 정의\n",
    "ms_model = XGBClassifier(random_state=42, learning_rate=0.2, n_estimators=100, max_depth=3, subsample=0.8, colsample_bytree=0.9,\n",
    "                        gamma=0.1, reg_alpha=0, reg_lambda=0)\n",
    "\n",
    "# 모델 학습\n",
    "ms_model.fit(x_train, y_train)\n",
    "\n",
    "# 모델 평가\n",
    "pred = ms_model.predict(x_valid)\n",
    "model_eval(y_valid, pred)"
   ]
  },
  {
   "cell_type": "code",
   "execution_count": 70,
   "metadata": {},
   "outputs": [
    {
     "name": "stdout",
     "output_type": "stream",
     "text": [
      "오차행렬:\n",
      " [[768 248]\n",
      " [195 789]]\n",
      "\n",
      "정확도: 0.7785\n",
      "정밀도: 0.7975\n",
      "재현율: 0.7559\n",
      "F1: 0.7761\n",
      "              precision    recall  f1-score   support\n",
      "\n",
      "        True       0.80      0.76      0.78      1016\n",
      "       False       0.76      0.80      0.78       984\n",
      "\n",
      "    accuracy                           0.78      2000\n",
      "   macro avg       0.78      0.78      0.78      2000\n",
      "weighted avg       0.78      0.78      0.78      2000\n",
      "\n"
     ]
    }
   ],
   "source": [
    "#모델 정의\n",
    "ms_model = XGBClassifier(random_state=42, learning_rate=0.2, n_estimators=100, max_depth=3, subsample=0.8, colsample_bytree=0.9,\n",
    "                        gamma=0, reg_alpha=0, reg_lambda=0)\n",
    "\n",
    "# 모델 학습\n",
    "ms_model.fit(x_train, y_train)\n",
    "\n",
    "# 모델 평가\n",
    "pred = ms_model.predict(x_valid)\n",
    "model_eval(y_valid, pred)"
   ]
  },
  {
   "cell_type": "markdown",
   "metadata": {},
   "source": [
    "### 4.3 변수 중요도"
   ]
  },
  {
   "cell_type": "code",
   "execution_count": 71,
   "metadata": {},
   "outputs": [
    {
     "data": {
      "image/png": "[encoded data removed]",
      "text/plain": [
       "<Figure size 576x432 with 1 Axes>"
      ]
     },
     "metadata": {
      "image/png": {
       "height": 373,
       "width": 552
      },
      "needs_background": "light"
     },
     "output_type": "display_data"
    }
   ],
   "source": [
    "# 변수 중요도 계산\n",
    "\n",
    "importances_values = pd.Series(ms_model.feature_importances_, index=x_valid.columns).sort_values(ascending=False)\n",
    "\n",
    "# 변수 중요도 시각화\n",
    "\n",
    "plt.figure(figsize=(8,6))\n",
    "plt.title('Feature Importances')\n",
    "sns.barplot(x=importances_values, y=importances_values.index)\n",
    "plt.show()"
   ]
  },
  {
   "cell_type": "markdown",
   "metadata": {},
   "source": [
    "- 로지스틱 : 0.6122\n",
    "- 랜덤 포레스트 : 0.7747\n",
    "- SVM : 0.7483\n",
    "- XGBoost : 0.7761"
   ]
  },
  {
   "cell_type": "code",
   "execution_count": null,
   "metadata": {},
   "outputs": [],
   "source": []
  }
 ],
 "metadata": {
  "kernelspec": {
   "display_name": "Python 3",
   "language": "python",
   "name": "python3"
  },
  "language_info": {
   "codemirror_mode": {
    "name": "ipython",
    "version": 3
   },
   "file_extension": ".py",
   "mimetype": "text/x-python",
   "name": "python",
   "nbconvert_exporter": "python",
   "pygments_lexer": "ipython3",
   "version": "3.8.5"
  }
 },
 "nbformat": 4,
 "nbformat_minor": 4
}
